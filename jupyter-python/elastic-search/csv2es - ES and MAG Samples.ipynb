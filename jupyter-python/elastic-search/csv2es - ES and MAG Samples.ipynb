{
 "cells": [
  {
   "cell_type": "markdown",
   "metadata": {},
   "source": [
    "# csv2es - ES and MAG Samples\n",
    "\n",
    "albertoueda - 2016/09/292016/09/29"
   ]
  },
  {
   "cell_type": "code",
   "execution_count": 1,
   "metadata": {
    "collapsed": false
   },
   "outputs": [
    {
     "data": {
      "text/plain": [
       "<Elasticsearch([{'port': 9200, 'host': 'localhost'}])>"
      ]
     },
     "execution_count": 1,
     "metadata": {},
     "output_type": "execute_result"
    }
   ],
   "source": [
    "from elasticsearch import Elasticsearch\n",
    "es = Elasticsearch([{'host': 'localhost', 'port': 9200}])\n",
    "es"
   ]
  },
  {
   "cell_type": "code",
   "execution_count": 41,
   "metadata": {
    "collapsed": false
   },
   "outputs": [
    {
     "data": {
      "text/plain": [
       "{'_shards': {'failed': 0, 'successful': 5, 'total': 5},\n",
       " 'hits': {'hits': [{'_id': 'AVd3RcT7Z5YASbh6pZ3w',\n",
       "    '_index': 'mag',\n",
       "    '_score': 1.0,\n",
       "    '_source': {'id': '000025C5', 'name': 'david banitt'},\n",
       "    '_type': 'authors'},\n",
       "   {'_id': 'AVd3RcT7Z5YASbh6pZ34',\n",
       "    '_index': 'mag',\n",
       "    '_score': 1.0,\n",
       "    '_source': {'id': '0000DF94', 'name': 'leila medjkoune'},\n",
       "    '_type': 'authors'},\n",
       "   {'_id': 'AVd3RcT7Z5YASbh6pZ39',\n",
       "    '_index': 'mag',\n",
       "    '_score': 1.0,\n",
       "    '_source': {'id': '0001703C', 'name': 'بص وطل'},\n",
       "    '_type': 'authors'},\n",
       "   {'_id': 'AVd3RcT7Z5YASbh6pZ4D',\n",
       "    '_index': 'mag',\n",
       "    '_score': 1.0,\n",
       "    '_source': {'id': '0002A3D3', 'name': 'p lizakowski'},\n",
       "    '_type': 'authors'},\n",
       "   {'_id': 'AVd3RcT7Z5YASbh6pZ4J',\n",
       "    '_index': 'mag',\n",
       "    '_score': 1.0,\n",
       "    '_source': {'id': '0003656E',\n",
       "     'name': 'osterreichisches biographisches lexikon und biographische dokumentation'},\n",
       "    '_type': 'authors'},\n",
       "   {'_id': 'AVd3RcT7Z5YASbh6pZ4N',\n",
       "    '_index': 'mag',\n",
       "    '_score': 1.0,\n",
       "    '_source': {'id': '0003DE5D', 'name': 'ernst woiner'},\n",
       "    '_type': 'authors'},\n",
       "   {'_id': 'AVd3RcT7Z5YASbh6pZ4O',\n",
       "    '_index': 'mag',\n",
       "    '_score': 1.0,\n",
       "    '_source': {'id': '00040294', 'name': 'ivani bisordi'},\n",
       "    '_type': 'authors'},\n",
       "   {'_id': 'AVd3RcT7Z5YASbh6pZ4W',\n",
       "    '_index': 'mag',\n",
       "    '_score': 1.0,\n",
       "    '_source': {'id': '00049CCF', 'name': 'fritz machlup'},\n",
       "    '_type': 'authors'},\n",
       "   {'_id': 'AVd3RcT7Z5YASbh6pZ4X',\n",
       "    '_index': 'mag',\n",
       "    '_score': 1.0,\n",
       "    '_source': {'id': '0004AB8C', 'name': 'randy showstack'},\n",
       "    '_type': 'authors'},\n",
       "   {'_id': 'AVd3RcT7Z5YASbh6pZ4k',\n",
       "    '_index': 'mag',\n",
       "    '_score': 1.0,\n",
       "    '_source': {'id': '00067A02', 'name': 'services etat maineetloire'},\n",
       "    '_type': 'authors'}],\n",
       "  'max_score': 1.0,\n",
       "  'total': 100},\n",
       " 'timed_out': False,\n",
       " 'took': 7}"
      ]
     },
     "execution_count": 41,
     "metadata": {},
     "output_type": "execute_result"
    }
   ],
   "source": [
    "# After make some modifications in csv2es files, and create the index in bash with:\n",
    "# $ csv2es --index-name mag --doc-type authors --import-file Authors-100.txt --tab\n",
    "es.search(index='mag', doc_type='authors', q='*:*')"
   ]
  },
  {
   "cell_type": "code",
   "execution_count": 46,
   "metadata": {
    "collapsed": false
   },
   "outputs": [
    {
     "data": {
      "text/plain": [
       "{'acknowledged': True}"
      ]
     },
     "execution_count": 46,
     "metadata": {},
     "output_type": "execute_result"
    }
   ],
   "source": [
    "# Deleting indexes\n",
    "# es.indices.delete(index='mag2')"
   ]
  },
  {
   "cell_type": "code",
   "execution_count": 42,
   "metadata": {
    "collapsed": false
   },
   "outputs": [
    {
     "name": "stdout",
     "output_type": "stream",
     "text": [
      "randy showstack\n"
     ]
    }
   ],
   "source": [
    "for i in es.search(index=\"mag\", doc_type=\"authors\", body={\"query\": {\"term\" : { \"name\" : \"randy\" }}})['hits']['hits'] :\n",
    "        print(i['_source']['name'])"
   ]
  },
  {
   "cell_type": "code",
   "execution_count": 50,
   "metadata": {
    "collapsed": false
   },
   "outputs": [],
   "source": [
    "# Idea Aborted: csv2es does not support two imports for the same index, even for different doc_types\n",
    "# pyelasticsearch.exceptions.ElasticHttpError: (400, {'type': 'index_already_exists_exception', \n",
    "#  'reason': 'already exists', 'root_cause': [{'type': 'index_already_exists_exception', \n",
    "# 'reason': 'already exists', 'index': 'mag'}], 'index': 'mag'})\n"
   ]
  }
 ],
 "metadata": {
  "kernelspec": {
   "display_name": "Python 3",
   "language": "python",
   "name": "python3"
  },
  "language_info": {
   "codemirror_mode": {
    "name": "ipython",
    "version": 3
   },
   "file_extension": ".py",
   "mimetype": "text/x-python",
   "name": "python",
   "nbconvert_exporter": "python",
   "pygments_lexer": "ipython3",
   "version": "3.5.1"
  }
 },
 "nbformat": 4,
 "nbformat_minor": 0
}
