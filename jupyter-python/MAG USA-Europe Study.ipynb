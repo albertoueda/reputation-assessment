{
 "cells": [
  {
   "cell_type": "code",
   "execution_count": 8,
   "metadata": {
    "collapsed": false
   },
   "outputs": [
    {
     "name": "stdout",
     "output_type": "stream",
     "text": [
      "Populating the interactive namespace from numpy and matplotlib\n"
     ]
    }
   ],
   "source": [
    "%pylab inline\n",
    "import pandas as pd"
   ]
  },
  {
   "cell_type": "code",
   "execution_count": 9,
   "metadata": {
    "collapsed": true
   },
   "outputs": [],
   "source": [
    "def int2hex(x):\n",
    "    return ('%8s' % hex(x).upper()[2:]).replace(' ','0')\n",
    "\n",
    "def hex2int(x):\n",
    "    #try:\n",
    "    return int(x,16)\n",
    "    #except:\n",
    "    #    print 'ERROR',x\n",
    "\n",
    "def mag_read_df(filename,columns,keys,drop_keys=False,nrows=None):\n",
    "    df = pd.read_csv(filename,sep='\\t',names=columns,nrows=nrows)\n",
    "    for k,v in keys:\n",
    "        df[v] = df[k].map(hex2int)\n",
    "        if drop_keys:\n",
    "            del df[k]\n",
    "    if len(keys) > 0:\n",
    "        df.set_index(keys[0][1],inplace=True)\n",
    "    return df"
   ]
  },
  {
   "cell_type": "code",
   "execution_count": 22,
   "metadata": {
    "collapsed": false
   },
   "outputs": [
    {
     "name": "stdout",
     "output_type": "stream",
     "text": [
      "CPU times: user 2.43 ms, sys: 216 µs, total: 2.64 ms\n",
      "Wall time: 2.44 ms\n"
     ]
    }
   ],
   "source": [
    "%%time\n",
    "aff = pd.read_csv('/mnt/data/datasets/mag4/2016KDDCupSelectedAffiliations.txt',\n",
    "            sep='\\t', header=None) # PaperAuthorAffiliations nrows=10, "
   ]
  },
  {
   "cell_type": "code",
   "execution_count": 70,
   "metadata": {
    "collapsed": false
   },
   "outputs": [
    {
     "data": {
      "text/html": [
       "<div>\n",
       "<table border=\"1\" class=\"dataframe\">\n",
       "  <thead>\n",
       "    <tr style=\"text-align: right;\">\n",
       "      <th></th>\n",
       "      <th>0</th>\n",
       "      <th>1</th>\n",
       "    </tr>\n",
       "  </thead>\n",
       "  <tbody>\n",
       "    <tr>\n",
       "      <th>243</th>\n",
       "      <td>04C30B43</td>\n",
       "      <td>singapore management university</td>\n",
       "    </tr>\n",
       "    <tr>\n",
       "      <th>464</th>\n",
       "      <td>091BC727</td>\n",
       "      <td>singapore university of technology and design</td>\n",
       "    </tr>\n",
       "    <tr>\n",
       "      <th>506</th>\n",
       "      <td>09E3EE34</td>\n",
       "      <td>national university of singapore</td>\n",
       "    </tr>\n",
       "    <tr>\n",
       "      <th>735</th>\n",
       "      <td>863479D1</td>\n",
       "      <td>singapore general hospital</td>\n",
       "    </tr>\n",
       "  </tbody>\n",
       "</table>\n",
       "</div>"
      ],
      "text/plain": [
       "            0                                              1\n",
       "243  04C30B43                singapore management university\n",
       "464  091BC727  singapore university of technology and design\n",
       "506  09E3EE34               national university of singapore\n",
       "735  863479D1                     singapore general hospital"
      ]
     },
     "execution_count": 70,
     "metadata": {},
     "output_type": "execute_result"
    }
   ],
   "source": [
    "aff[aff.ix[:,1].str.contains('singapore')]\n",
    "\n"
   ]
  },
  {
   "cell_type": "code",
   "execution_count": 13,
   "metadata": {
    "collapsed": false
   },
   "outputs": [
    {
     "name": "stdout",
     "output_type": "stream",
     "text": [
      "741\n"
     ]
    },
    {
     "data": {
      "text/html": [
       "<div>\n",
       "<table border=\"1\" class=\"dataframe\">\n",
       "  <thead>\n",
       "    <tr style=\"text-align: right;\">\n",
       "      <th></th>\n",
       "      <th>Ikey</th>\n",
       "      <th>Inorm</th>\n",
       "    </tr>\n",
       "    <tr>\n",
       "      <th>Iid</th>\n",
       "      <th></th>\n",
       "      <th></th>\n",
       "    </tr>\n",
       "  </thead>\n",
       "  <tbody>\n",
       "    <tr>\n",
       "      <th>241749</th>\n",
       "      <td>0003B055</td>\n",
       "      <td>university of cambridge</td>\n",
       "    </tr>\n",
       "    <tr>\n",
       "      <th>392282</th>\n",
       "      <td>0005FC5A</td>\n",
       "      <td>university at albany suny</td>\n",
       "    </tr>\n",
       "    <tr>\n",
       "      <th>848706</th>\n",
       "      <td>000CF342</td>\n",
       "      <td>sungkyunkwan university</td>\n",
       "    </tr>\n",
       "    <tr>\n",
       "      <th>1118541</th>\n",
       "      <td>0011114D</td>\n",
       "      <td>university of east anglia</td>\n",
       "    </tr>\n",
       "    <tr>\n",
       "      <th>1174212</th>\n",
       "      <td>0011EAC4</td>\n",
       "      <td>university of southern california</td>\n",
       "    </tr>\n",
       "  </tbody>\n",
       "</table>\n",
       "</div>"
      ],
      "text/plain": [
       "             Ikey                              Inorm\n",
       "Iid                                                 \n",
       "241749   0003B055            university of cambridge\n",
       "392282   0005FC5A          university at albany suny\n",
       "848706   000CF342            sungkyunkwan university\n",
       "1118541  0011114D          university of east anglia\n",
       "1174212  0011EAC4  university of southern california"
      ]
     },
     "execution_count": 13,
     "metadata": {},
     "output_type": "execute_result"
    }
   ],
   "source": [
    "mag4_path = '/mnt/data/datasets/mag4/'\n",
    "filename = mag4_path + '2016KDDCupSelectedAffiliations.txt' \n",
    "columns  = 'Ikey Inorm'.split()\n",
    "keys     = [('Ikey','Iid')]\n",
    "\n",
    "dfinst = mag_read_df(filename,columns,keys)#,False,10)\n",
    "print len(dfinst)\n",
    "dfinst.head()"
   ]
  }
 ],
 "metadata": {
  "kernelspec": {
   "display_name": "Python 2",
   "language": "python",
   "name": "python2"
  },
  "language_info": {
   "codemirror_mode": {
    "name": "ipython",
    "version": 2
   },
   "file_extension": ".py",
   "mimetype": "text/x-python",
   "name": "python",
   "nbconvert_exporter": "python",
   "pygments_lexer": "ipython2",
   "version": "2.7.6"
  }
 },
 "nbformat": 4,
 "nbformat_minor": 0
}
