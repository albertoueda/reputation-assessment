{
 "cells": [
  {
   "cell_type": "markdown",
   "metadata": {},
   "source": [
    "Created by Alberto Ueda on 2017-01-30"
   ]
  },
  {
   "cell_type": "markdown",
   "metadata": {
    "heading_collapsed": true
   },
   "source": [
    "### Methods"
   ]
  },
  {
   "cell_type": "code",
   "execution_count": 20,
   "metadata": {
    "collapsed": true,
    "hidden": true
   },
   "outputs": [],
   "source": [
    "import pandas as pd\n",
    "import numpy as np"
   ]
  },
  {
   "cell_type": "code",
   "execution_count": 21,
   "metadata": {
    "collapsed": false,
    "hidden": true
   },
   "outputs": [
    {
     "data": {
      "text/html": [
       "<div>\n",
       "<table border=\"1\" class=\"dataframe\">\n",
       "  <thead>\n",
       "    <tr style=\"text-align: right;\">\n",
       "      <th></th>\n",
       "      <th>Sub-area</th>\n",
       "    </tr>\n",
       "    <tr>\n",
       "      <th>ID</th>\n",
       "      <th></th>\n",
       "    </tr>\n",
       "  </thead>\n",
       "  <tbody>\n",
       "    <tr>\n",
       "      <th>1</th>\n",
       "      <td>Algorithm</td>\n",
       "    </tr>\n",
       "    <tr>\n",
       "      <th>2</th>\n",
       "      <td>Artificial intelligence</td>\n",
       "    </tr>\n",
       "    <tr>\n",
       "      <th>3</th>\n",
       "      <td>Bioinformatics</td>\n",
       "    </tr>\n",
       "    <tr>\n",
       "      <th>4</th>\n",
       "      <td>Cognitive science</td>\n",
       "    </tr>\n",
       "    <tr>\n",
       "      <th>5</th>\n",
       "      <td>Computational biology</td>\n",
       "    </tr>\n",
       "  </tbody>\n",
       "</table>\n",
       "</div>"
      ],
      "text/plain": [
       "                   Sub-area\n",
       "ID                         \n",
       "1                 Algorithm\n",
       "2   Artificial intelligence\n",
       "3            Bioinformatics\n",
       "4         Cognitive science\n",
       "5     Computational biology"
      ]
     },
     "execution_count": 21,
     "metadata": {},
     "output_type": "execute_result"
    }
   ],
   "source": [
    "subareas = pd.read_csv('expert-subareas-classification/ms-subareas.csv', index_col='ID') \n",
    "subareas.head()"
   ]
  },
  {
   "cell_type": "code",
   "execution_count": 22,
   "metadata": {
    "collapsed": false,
    "hidden": true
   },
   "outputs": [
    {
     "data": {
      "text/html": [
       "<div>\n",
       "<table border=\"1\" class=\"dataframe\">\n",
       "  <thead>\n",
       "    <tr style=\"text-align: right;\">\n",
       "      <th>ID</th>\n",
       "      <th>1</th>\n",
       "      <th>2</th>\n",
       "      <th>3</th>\n",
       "      <th>4</th>\n",
       "      <th>5</th>\n",
       "      <th>6</th>\n",
       "      <th>7</th>\n",
       "      <th>8</th>\n",
       "      <th>9</th>\n",
       "      <th>10</th>\n",
       "      <th>...</th>\n",
       "      <th>29</th>\n",
       "      <th>30</th>\n",
       "      <th>31</th>\n",
       "      <th>32</th>\n",
       "      <th>33</th>\n",
       "      <th>34</th>\n",
       "      <th>35</th>\n",
       "      <th>36</th>\n",
       "      <th>37</th>\n",
       "      <th>0</th>\n",
       "    </tr>\n",
       "  </thead>\n",
       "  <tbody>\n",
       "    <tr>\n",
       "      <th>Vkey</th>\n",
       "      <td>Algorithm</td>\n",
       "      <td>Artificial intelligence</td>\n",
       "      <td>Bioinformatics</td>\n",
       "      <td>Cognitive science</td>\n",
       "      <td>Computational biology</td>\n",
       "      <td>Computational science</td>\n",
       "      <td>Computer architecture</td>\n",
       "      <td>Computer graphics (images)</td>\n",
       "      <td>Computer hardware</td>\n",
       "      <td>Computer network</td>\n",
       "      <td>...</td>\n",
       "      <td>Parallel computing</td>\n",
       "      <td>Pattern recognition</td>\n",
       "      <td>Programming language</td>\n",
       "      <td>Real-time computing</td>\n",
       "      <td>Simulation</td>\n",
       "      <td>Speech recognition</td>\n",
       "      <td>Telecommunications</td>\n",
       "      <td>Theoretical computer science</td>\n",
       "      <td>World Wide Web</td>\n",
       "      <td>Other</td>\n",
       "    </tr>\n",
       "  </tbody>\n",
       "</table>\n",
       "<p>1 rows × 38 columns</p>\n",
       "</div>"
      ],
      "text/plain": [
       "ID            1                        2               3                  4  \\\n",
       "Vkey  Algorithm  Artificial intelligence  Bioinformatics  Cognitive science   \n",
       "\n",
       "ID                        5                      6                      7  \\\n",
       "Vkey  Computational biology  Computational science  Computer architecture   \n",
       "\n",
       "ID                             8                  9                10  ...    \\\n",
       "Vkey  Computer graphics (images)  Computer hardware  Computer network  ...     \n",
       "\n",
       "ID                    29                   30                    31  \\\n",
       "Vkey  Parallel computing  Pattern recognition  Programming language   \n",
       "\n",
       "ID                     32          33                  34                  35  \\\n",
       "Vkey  Real-time computing  Simulation  Speech recognition  Telecommunications   \n",
       "\n",
       "ID                              36              37      0  \n",
       "Vkey  Theoretical computer science  World Wide Web  Other  \n",
       "\n",
       "[1 rows x 38 columns]"
      ]
     },
     "execution_count": 22,
     "metadata": {},
     "output_type": "execute_result"
    }
   ],
   "source": [
    "c = subareas.transpose()\n",
    "c.rename({'Sub-area':'Vkey'}, inplace=True)\n",
    "c['0'] = 'Other'\n",
    "c"
   ]
  },
  {
   "cell_type": "code",
   "execution_count": 23,
   "metadata": {
    "collapsed": false,
    "hidden": true
   },
   "outputs": [],
   "source": [
    "def to_full_table(dfsource, dirname, name):\n",
    "    \n",
    "    c = subareas.transpose()\n",
    "    c.rename({'Sub-area':'Vkey'}, inplace=True)\n",
    "    c['0'] = 'Other'\n",
    "\n",
    "    for i, row in dfsource.iterrows():\n",
    "        vkey = row['Vkey']\n",
    "        c.loc[vkey] = 0   \n",
    "\n",
    "    for index, row in dfsource.iterrows():   \n",
    "        vkey = row['Vkey']    \n",
    "        s1 = row['Sub-area I']\n",
    "        s2 = row['Sub-area II']\n",
    "        s3 = row['Sub-area III']\n",
    "\n",
    "        if (pd.notnull(s1)): c.loc[vkey][int(s1)] += 1\n",
    "        if (pd.notnull(s2)): c.loc[vkey][int(s2)] += 1\n",
    "        if (pd.notnull(s3)): c.loc[vkey][int(s3)] += 1\n",
    "\n",
    "    c.to_csv('expert-subareas-classification/' + dirname + '/' + name + '-all-areas.csv')\n",
    "    return c"
   ]
  },
  {
   "cell_type": "markdown",
   "metadata": {
    "heading_collapsed": true
   },
   "source": [
    "### Adding first source"
   ]
  },
  {
   "cell_type": "code",
   "execution_count": 24,
   "metadata": {
    "collapsed": false,
    "hidden": true
   },
   "outputs": [
    {
     "data": {
      "text/html": [
       "<div>\n",
       "<table border=\"1\" class=\"dataframe\">\n",
       "  <thead>\n",
       "    <tr style=\"text-align: right;\">\n",
       "      <th>ID</th>\n",
       "      <th>1</th>\n",
       "      <th>2</th>\n",
       "      <th>3</th>\n",
       "      <th>4</th>\n",
       "      <th>5</th>\n",
       "      <th>6</th>\n",
       "      <th>7</th>\n",
       "      <th>8</th>\n",
       "      <th>9</th>\n",
       "      <th>10</th>\n",
       "      <th>...</th>\n",
       "      <th>29</th>\n",
       "      <th>30</th>\n",
       "      <th>31</th>\n",
       "      <th>32</th>\n",
       "      <th>33</th>\n",
       "      <th>34</th>\n",
       "      <th>35</th>\n",
       "      <th>36</th>\n",
       "      <th>37</th>\n",
       "      <th>0</th>\n",
       "    </tr>\n",
       "  </thead>\n",
       "  <tbody>\n",
       "    <tr>\n",
       "      <th>Vkey</th>\n",
       "      <td>Algorithm</td>\n",
       "      <td>Artificial intelligence</td>\n",
       "      <td>Bioinformatics</td>\n",
       "      <td>Cognitive science</td>\n",
       "      <td>Computational biology</td>\n",
       "      <td>Computational science</td>\n",
       "      <td>Computer architecture</td>\n",
       "      <td>Computer graphics (images)</td>\n",
       "      <td>Computer hardware</td>\n",
       "      <td>Computer network</td>\n",
       "      <td>...</td>\n",
       "      <td>Parallel computing</td>\n",
       "      <td>Pattern recognition</td>\n",
       "      <td>Programming language</td>\n",
       "      <td>Real-time computing</td>\n",
       "      <td>Simulation</td>\n",
       "      <td>Speech recognition</td>\n",
       "      <td>Telecommunications</td>\n",
       "      <td>Theoretical computer science</td>\n",
       "      <td>World Wide Web</td>\n",
       "      <td>Other</td>\n",
       "    </tr>\n",
       "    <tr>\n",
       "      <th>(Exemplo)</th>\n",
       "      <td>0</td>\n",
       "      <td>0</td>\n",
       "      <td>0</td>\n",
       "      <td>0</td>\n",
       "      <td>0</td>\n",
       "      <td>0</td>\n",
       "      <td>0</td>\n",
       "      <td>0</td>\n",
       "      <td>0</td>\n",
       "      <td>0</td>\n",
       "      <td>...</td>\n",
       "      <td>0</td>\n",
       "      <td>0</td>\n",
       "      <td>0</td>\n",
       "      <td>0</td>\n",
       "      <td>0</td>\n",
       "      <td>0</td>\n",
       "      <td>0</td>\n",
       "      <td>0</td>\n",
       "      <td>0</td>\n",
       "      <td>0</td>\n",
       "    </tr>\n",
       "    <tr>\n",
       "      <th>conf/ictir</th>\n",
       "      <td>0</td>\n",
       "      <td>0</td>\n",
       "      <td>0</td>\n",
       "      <td>0</td>\n",
       "      <td>0</td>\n",
       "      <td>0</td>\n",
       "      <td>0</td>\n",
       "      <td>0</td>\n",
       "      <td>0</td>\n",
       "      <td>0</td>\n",
       "      <td>...</td>\n",
       "      <td>0</td>\n",
       "      <td>0</td>\n",
       "      <td>0</td>\n",
       "      <td>0</td>\n",
       "      <td>0</td>\n",
       "      <td>0</td>\n",
       "      <td>0</td>\n",
       "      <td>0</td>\n",
       "      <td>0</td>\n",
       "      <td>0</td>\n",
       "    </tr>\n",
       "    <tr>\n",
       "      <th>conf/sigir</th>\n",
       "      <td>0</td>\n",
       "      <td>0</td>\n",
       "      <td>0</td>\n",
       "      <td>0</td>\n",
       "      <td>0</td>\n",
       "      <td>0</td>\n",
       "      <td>0</td>\n",
       "      <td>0</td>\n",
       "      <td>0</td>\n",
       "      <td>0</td>\n",
       "      <td>...</td>\n",
       "      <td>0</td>\n",
       "      <td>0</td>\n",
       "      <td>0</td>\n",
       "      <td>0</td>\n",
       "      <td>0</td>\n",
       "      <td>0</td>\n",
       "      <td>0</td>\n",
       "      <td>0</td>\n",
       "      <td>0</td>\n",
       "      <td>0</td>\n",
       "    </tr>\n",
       "    <tr>\n",
       "      <th>conf/adcs</th>\n",
       "      <td>0</td>\n",
       "      <td>0</td>\n",
       "      <td>0</td>\n",
       "      <td>0</td>\n",
       "      <td>0</td>\n",
       "      <td>0</td>\n",
       "      <td>0</td>\n",
       "      <td>0</td>\n",
       "      <td>0</td>\n",
       "      <td>0</td>\n",
       "      <td>...</td>\n",
       "      <td>0</td>\n",
       "      <td>0</td>\n",
       "      <td>0</td>\n",
       "      <td>0</td>\n",
       "      <td>0</td>\n",
       "      <td>0</td>\n",
       "      <td>0</td>\n",
       "      <td>0</td>\n",
       "      <td>0</td>\n",
       "      <td>0</td>\n",
       "    </tr>\n",
       "  </tbody>\n",
       "</table>\n",
       "<p>5 rows × 38 columns</p>\n",
       "</div>"
      ],
      "text/plain": [
       "ID                  1                        2               3  \\\n",
       "Vkey        Algorithm  Artificial intelligence  Bioinformatics   \n",
       "(Exemplo)           0                        0               0   \n",
       "conf/ictir          0                        0               0   \n",
       "conf/sigir          0                        0               0   \n",
       "conf/adcs           0                        0               0   \n",
       "\n",
       "ID                          4                      5                      6  \\\n",
       "Vkey        Cognitive science  Computational biology  Computational science   \n",
       "(Exemplo)                   0                      0                      0   \n",
       "conf/ictir                  0                      0                      0   \n",
       "conf/sigir                  0                      0                      0   \n",
       "conf/adcs                   0                      0                      0   \n",
       "\n",
       "ID                              7                           8  \\\n",
       "Vkey        Computer architecture  Computer graphics (images)   \n",
       "(Exemplo)                       0                           0   \n",
       "conf/ictir                      0                           0   \n",
       "conf/sigir                      0                           0   \n",
       "conf/adcs                       0                           0   \n",
       "\n",
       "ID                          9                10  ...                    29  \\\n",
       "Vkey        Computer hardware  Computer network  ...    Parallel computing   \n",
       "(Exemplo)                   0                 0  ...                     0   \n",
       "conf/ictir                  0                 0  ...                     0   \n",
       "conf/sigir                  0                 0  ...                     0   \n",
       "conf/adcs                   0                 0  ...                     0   \n",
       "\n",
       "ID                           30                    31                   32  \\\n",
       "Vkey        Pattern recognition  Programming language  Real-time computing   \n",
       "(Exemplo)                     0                     0                    0   \n",
       "conf/ictir                    0                     0                    0   \n",
       "conf/sigir                    0                     0                    0   \n",
       "conf/adcs                     0                     0                    0   \n",
       "\n",
       "ID                  33                  34                  35  \\\n",
       "Vkey        Simulation  Speech recognition  Telecommunications   \n",
       "(Exemplo)            0                   0                   0   \n",
       "conf/ictir           0                   0                   0   \n",
       "conf/sigir           0                   0                   0   \n",
       "conf/adcs            0                   0                   0   \n",
       "\n",
       "ID                                    36              37      0  \n",
       "Vkey        Theoretical computer science  World Wide Web  Other  \n",
       "(Exemplo)                              0               0      0  \n",
       "conf/ictir                             0               0      0  \n",
       "conf/sigir                             0               0      0  \n",
       "conf/adcs                              0               0      0  \n",
       "\n",
       "[5 rows x 38 columns]"
      ]
     },
     "execution_count": 24,
     "metadata": {},
     "output_type": "execute_result"
    }
   ],
   "source": [
    "dirname = 'ir-students'\n",
    "\n",
    "name1 = 'Group II-A (LATIN)'\n",
    "source1 = pd.read_csv('expert-subareas-classification/' + dirname + '/' + name1 + '.csv', skiprows=1, index_col='Venue')\n",
    "source1 = to_full_table(source1, dirname, name1)\n",
    "\n",
    "sources = []\n",
    "sources.append(source1)\n",
    "source1.head()"
   ]
  },
  {
   "cell_type": "markdown",
   "metadata": {
    "heading_collapsed": true
   },
   "source": [
    "### Adding other sources (votes)"
   ]
  },
  {
   "cell_type": "code",
   "execution_count": 25,
   "metadata": {
    "collapsed": false,
    "hidden": true
   },
   "outputs": [],
   "source": [
    "name2 = 'Group II-B (LATIN)'\n",
    "source2 = pd.read_csv('expert-subareas-classification/' + dirname + '/' + name2 + '.csv', skiprows=1, index_col='Venue')\n",
    "source2 = to_full_table(source2, dirname, name2)\n",
    "sources.append(source2)"
   ]
  },
  {
   "cell_type": "code",
   "execution_count": 26,
   "metadata": {
    "collapsed": false,
    "hidden": true
   },
   "outputs": [],
   "source": [
    "name3 = 'Group II-C (LATIN)'\n",
    "source3 = pd.read_csv('expert-subareas-classification/' + dirname + '/' + name3 + '.csv', skiprows=1, index_col='Venue')\n",
    "source3 = to_full_table(source3, dirname, name3)\n",
    "sources.append(source3)"
   ]
  },
  {
   "cell_type": "code",
   "execution_count": 27,
   "metadata": {
    "collapsed": false,
    "hidden": true
   },
   "outputs": [
    {
     "data": {
      "text/html": [
       "<div>\n",
       "<table border=\"1\" class=\"dataframe\">\n",
       "  <thead>\n",
       "    <tr style=\"text-align: right;\">\n",
       "      <th>ID</th>\n",
       "      <th>1</th>\n",
       "      <th>2</th>\n",
       "      <th>3</th>\n",
       "      <th>4</th>\n",
       "      <th>5</th>\n",
       "      <th>6</th>\n",
       "      <th>7</th>\n",
       "      <th>8</th>\n",
       "      <th>9</th>\n",
       "      <th>10</th>\n",
       "      <th>...</th>\n",
       "      <th>29</th>\n",
       "      <th>30</th>\n",
       "      <th>31</th>\n",
       "      <th>32</th>\n",
       "      <th>33</th>\n",
       "      <th>34</th>\n",
       "      <th>35</th>\n",
       "      <th>36</th>\n",
       "      <th>37</th>\n",
       "      <th>0</th>\n",
       "    </tr>\n",
       "  </thead>\n",
       "  <tbody>\n",
       "    <tr>\n",
       "      <th>Vkey</th>\n",
       "      <td>Algorithm</td>\n",
       "      <td>Artificial intelligence</td>\n",
       "      <td>Bioinformatics</td>\n",
       "      <td>Cognitive science</td>\n",
       "      <td>Computational biology</td>\n",
       "      <td>Computational science</td>\n",
       "      <td>Computer architecture</td>\n",
       "      <td>Computer graphics (images)</td>\n",
       "      <td>Computer hardware</td>\n",
       "      <td>Computer network</td>\n",
       "      <td>...</td>\n",
       "      <td>Parallel computing</td>\n",
       "      <td>Pattern recognition</td>\n",
       "      <td>Programming language</td>\n",
       "      <td>Real-time computing</td>\n",
       "      <td>Simulation</td>\n",
       "      <td>Speech recognition</td>\n",
       "      <td>Telecommunications</td>\n",
       "      <td>Theoretical computer science</td>\n",
       "      <td>World Wide Web</td>\n",
       "      <td>Other</td>\n",
       "    </tr>\n",
       "    <tr>\n",
       "      <th>conf/ictir</th>\n",
       "      <td>0</td>\n",
       "      <td>0</td>\n",
       "      <td>0</td>\n",
       "      <td>0</td>\n",
       "      <td>0</td>\n",
       "      <td>0</td>\n",
       "      <td>0</td>\n",
       "      <td>0</td>\n",
       "      <td>0</td>\n",
       "      <td>0</td>\n",
       "      <td>...</td>\n",
       "      <td>0</td>\n",
       "      <td>0</td>\n",
       "      <td>0</td>\n",
       "      <td>0</td>\n",
       "      <td>0</td>\n",
       "      <td>0</td>\n",
       "      <td>0</td>\n",
       "      <td>0</td>\n",
       "      <td>0</td>\n",
       "      <td>0</td>\n",
       "    </tr>\n",
       "    <tr>\n",
       "      <th>conf/sigir</th>\n",
       "      <td>0</td>\n",
       "      <td>0</td>\n",
       "      <td>0</td>\n",
       "      <td>0</td>\n",
       "      <td>0</td>\n",
       "      <td>0</td>\n",
       "      <td>0</td>\n",
       "      <td>0</td>\n",
       "      <td>0</td>\n",
       "      <td>0</td>\n",
       "      <td>...</td>\n",
       "      <td>0</td>\n",
       "      <td>0</td>\n",
       "      <td>0</td>\n",
       "      <td>0</td>\n",
       "      <td>0</td>\n",
       "      <td>0</td>\n",
       "      <td>0</td>\n",
       "      <td>0</td>\n",
       "      <td>1</td>\n",
       "      <td>0</td>\n",
       "    </tr>\n",
       "    <tr>\n",
       "      <th>conf/adcs</th>\n",
       "      <td>0</td>\n",
       "      <td>0</td>\n",
       "      <td>0</td>\n",
       "      <td>0</td>\n",
       "      <td>0</td>\n",
       "      <td>0</td>\n",
       "      <td>0</td>\n",
       "      <td>0</td>\n",
       "      <td>0</td>\n",
       "      <td>0</td>\n",
       "      <td>...</td>\n",
       "      <td>0</td>\n",
       "      <td>0</td>\n",
       "      <td>0</td>\n",
       "      <td>0</td>\n",
       "      <td>0</td>\n",
       "      <td>0</td>\n",
       "      <td>0</td>\n",
       "      <td>0</td>\n",
       "      <td>0</td>\n",
       "      <td>0</td>\n",
       "    </tr>\n",
       "    <tr>\n",
       "      <th>journals/ir</th>\n",
       "      <td>0</td>\n",
       "      <td>0</td>\n",
       "      <td>0</td>\n",
       "      <td>0</td>\n",
       "      <td>0</td>\n",
       "      <td>0</td>\n",
       "      <td>0</td>\n",
       "      <td>0</td>\n",
       "      <td>0</td>\n",
       "      <td>0</td>\n",
       "      <td>...</td>\n",
       "      <td>0</td>\n",
       "      <td>0</td>\n",
       "      <td>0</td>\n",
       "      <td>0</td>\n",
       "      <td>0</td>\n",
       "      <td>0</td>\n",
       "      <td>0</td>\n",
       "      <td>0</td>\n",
       "      <td>1</td>\n",
       "      <td>0</td>\n",
       "    </tr>\n",
       "  </tbody>\n",
       "</table>\n",
       "<p>5 rows × 38 columns</p>\n",
       "</div>"
      ],
      "text/plain": [
       "ID                   1                        2               3  \\\n",
       "Vkey         Algorithm  Artificial intelligence  Bioinformatics   \n",
       "conf/ictir           0                        0               0   \n",
       "conf/sigir           0                        0               0   \n",
       "conf/adcs            0                        0               0   \n",
       "journals/ir          0                        0               0   \n",
       "\n",
       "ID                           4                      5                      6  \\\n",
       "Vkey         Cognitive science  Computational biology  Computational science   \n",
       "conf/ictir                   0                      0                      0   \n",
       "conf/sigir                   0                      0                      0   \n",
       "conf/adcs                    0                      0                      0   \n",
       "journals/ir                  0                      0                      0   \n",
       "\n",
       "ID                               7                           8  \\\n",
       "Vkey         Computer architecture  Computer graphics (images)   \n",
       "conf/ictir                       0                           0   \n",
       "conf/sigir                       0                           0   \n",
       "conf/adcs                        0                           0   \n",
       "journals/ir                      0                           0   \n",
       "\n",
       "ID                           9                10  ...                    29  \\\n",
       "Vkey         Computer hardware  Computer network  ...    Parallel computing   \n",
       "conf/ictir                   0                 0  ...                     0   \n",
       "conf/sigir                   0                 0  ...                     0   \n",
       "conf/adcs                    0                 0  ...                     0   \n",
       "journals/ir                  0                 0  ...                     0   \n",
       "\n",
       "ID                            30                    31                   32  \\\n",
       "Vkey         Pattern recognition  Programming language  Real-time computing   \n",
       "conf/ictir                     0                     0                    0   \n",
       "conf/sigir                     0                     0                    0   \n",
       "conf/adcs                      0                     0                    0   \n",
       "journals/ir                    0                     0                    0   \n",
       "\n",
       "ID                   33                  34                  35  \\\n",
       "Vkey         Simulation  Speech recognition  Telecommunications   \n",
       "conf/ictir            0                   0                   0   \n",
       "conf/sigir            0                   0                   0   \n",
       "conf/adcs             0                   0                   0   \n",
       "journals/ir           0                   0                   0   \n",
       "\n",
       "ID                                     36              37      0  \n",
       "Vkey         Theoretical computer science  World Wide Web  Other  \n",
       "conf/ictir                              0               0      0  \n",
       "conf/sigir                              0               1      0  \n",
       "conf/adcs                               0               0      0  \n",
       "journals/ir                             0               1      0  \n",
       "\n",
       "[5 rows x 38 columns]"
      ]
     },
     "execution_count": 27,
     "metadata": {},
     "output_type": "execute_result"
    }
   ],
   "source": [
    "all_votes = sources[0].copy()\n",
    "\n",
    "for i in range(1, len(sources)):\n",
    "    all_votes += sources[i].copy()\n",
    "\n",
    "all_votes.loc['Vkey'] = sources[0].loc['Vkey']\n",
    "all_votes.drop('(Exemplo)', inplace=True)\n",
    "all_votes.to_csv('expert-subareas-classification/' + dirname + '/all_votes.csv')\n",
    "all_votes.head()"
   ]
  },
  {
   "cell_type": "code",
   "execution_count": 30,
   "metadata": {
    "collapsed": false,
    "hidden": true
   },
   "outputs": [
    {
     "data": {
      "text/html": [
       "<div>\n",
       "<table border=\"1\" class=\"dataframe\">\n",
       "  <thead>\n",
       "    <tr style=\"text-align: right;\">\n",
       "      <th>ID</th>\n",
       "      <th>13</th>\n",
       "      <th>19</th>\n",
       "      <th>37</th>\n",
       "    </tr>\n",
       "  </thead>\n",
       "  <tbody>\n",
       "    <tr>\n",
       "      <th>Vkey</th>\n",
       "      <td>Data mining</td>\n",
       "      <td>Information retrieval</td>\n",
       "      <td>World Wide Web</td>\n",
       "    </tr>\n",
       "    <tr>\n",
       "      <th>journals/sigir</th>\n",
       "      <td>1</td>\n",
       "      <td>3</td>\n",
       "      <td>1</td>\n",
       "    </tr>\n",
       "  </tbody>\n",
       "</table>\n",
       "</div>"
      ],
      "text/plain": [
       "ID                       13                     19              37\n",
       "Vkey            Data mining  Information retrieval  World Wide Web\n",
       "journals/sigir            1                      3               1"
      ]
     },
     "execution_count": 30,
     "metadata": {},
     "output_type": "execute_result"
    }
   ],
   "source": [
    "row_index = 'journals/sigir'\n",
    "\n",
    "columns = all_votes.loc[[row_index]].gt(0).any()\n",
    "all_votes.ix[['Vkey',row_index], columns]"
   ]
  },
  {
   "cell_type": "markdown",
   "metadata": {
    "heading_collapsed": true
   },
   "source": [
    "### Deciding the sub-areas"
   ]
  },
  {
   "cell_type": "code",
   "execution_count": 33,
   "metadata": {
    "collapsed": false,
    "hidden": true
   },
   "outputs": [
    {
     "data": {
      "text/plain": [
       "Vkey           Other\n",
       "conf/ictir         0\n",
       "conf/sigir         0\n",
       "conf/adcs          0\n",
       "journals/ir        0\n",
       "Name: 0, dtype: object"
      ]
     },
     "execution_count": 33,
     "metadata": {},
     "output_type": "execute_result"
    }
   ],
   "source": [
    "all_votes['0'].copy().head()"
   ]
  },
  {
   "cell_type": "code",
   "execution_count": 40,
   "metadata": {
    "collapsed": false,
    "hidden": true
   },
   "outputs": [
    {
     "data": {
      "text/plain": [
       "Vkey                                                       Subareas\n",
       "conf/ictir                                  [Information retrieval]\n",
       "conf/sigir                                  [Information retrieval]\n",
       "conf/adcs                                   [Information retrieval]\n",
       "journals/ir                                 [Information retrieval]\n",
       "conf/ecir                                   [Information retrieval]\n",
       "conf/trec                                   [Information retrieval]\n",
       "journals/sigir                              [Information retrieval]\n",
       "conf/iiix         [Human-computer interaction, Information retri...\n",
       "journals/tois                               [Information retrieval]\n",
       "Name: 0, dtype: object"
      ]
     },
     "execution_count": 40,
     "metadata": {},
     "output_type": "execute_result"
    }
   ],
   "source": [
    "min_votes = 2\n",
    "\n",
    "def get_subareas(vkey):\n",
    "    columns = all_votes.loc[[vkey]].gt(min_votes-1).any()\n",
    "    return str(all_votes.ix[['Vkey'], columns].values.tolist())[3:-3].split(\"', '\")\n",
    "\n",
    "result = all_votes['0'].copy()\n",
    "result['Vkey'] = 'Subareas'\n",
    "\n",
    "for vkey, a in result.iteritems():\n",
    "    if (vkey != 'Vkey'): result.loc[vkey] = get_subareas(vkey)\n",
    "        \n",
    "result.to_csv('expert-subareas-classification/' + dirname + '/' + 'venues_subareas-' + str(min_votes) + '-votes.csv')\n",
    "result.head(10)"
   ]
  },
  {
   "cell_type": "code",
   "execution_count": 43,
   "metadata": {
    "collapsed": false,
    "hidden": true
   },
   "outputs": [
    {
     "data": {
      "text/plain": [
       "['Data mining', 'Knowledge management']"
      ]
     },
     "execution_count": 43,
     "metadata": {},
     "output_type": "execute_result"
    }
   ],
   "source": [
    "get_subareas('conf/kdd')"
   ]
  },
  {
   "cell_type": "markdown",
   "metadata": {},
   "source": [
    "### All-in-one"
   ]
  },
  {
   "cell_type": "code",
   "execution_count": 69,
   "metadata": {
    "collapsed": false
   },
   "outputs": [
    {
     "data": {
      "text/plain": [
       "Vkey                             Subareas\n",
       "conf/ictir        [Information retrieval]\n",
       "conf/wsdm                   [Data mining]\n",
       "conf/cikm          [Knowledge management]\n",
       "conf/sigir        [Information retrieval]\n",
       "conf/ecir         [Information retrieval]\n",
       "journals/tkdd               [Data mining]\n",
       "conf/trec         [Information retrieval]\n",
       "journals/sigir    [Information retrieval]\n",
       "conf/widm                              []\n",
       "Name: 0, dtype: object"
      ]
     },
     "execution_count": 69,
     "metadata": {},
     "output_type": "execute_result"
    }
   ],
   "source": [
    "# $ scp -r DIR pscore@host17:/mnt/hd0/pscore-tool/ufmg-latin/pscore/rfs/ipynb/06-alberto/expert-subareas-classification\n",
    "dirname = 'km'\n",
    "min_votes = 3\n",
    "\n",
    "name1 = 'Group V-A (Prof. Mirella Moro)'\n",
    "source1 = pd.read_csv('expert-subareas-classification/' + dirname + '/' + name1 + '.csv', skiprows=1, index_col='Venue')\n",
    "source1 = to_full_table(source1, dirname, name1)\n",
    "sources = []\n",
    "sources.append(source1)\n",
    "\n",
    "name2 = 'Group V-B (Prof. Mirella Moro)'\n",
    "source2 = pd.read_csv('expert-subareas-classification/' + dirname + '/' + name2 + '.csv', skiprows=1, index_col='Venue')\n",
    "source2 = to_full_table(source2, dirname, name2)\n",
    "sources.append(source2)\n",
    "\n",
    "name3 = 'Group V-C (Prof. Mirella Moro)'\n",
    "source3 = pd.read_csv('expert-subareas-classification/' + dirname + '/' + name3 + '.csv', skiprows=1, index_col='Venue')\n",
    "source3 = to_full_table(source3, dirname, name3)\n",
    "sources.append(source3)\n",
    "\n",
    "all_votes = sources[0].copy()\n",
    "\n",
    "for i in range(1, len(sources)):\n",
    "    all_votes += sources[i].copy()\n",
    "\n",
    "all_votes.loc['Vkey'] = sources[0].loc['Vkey']\n",
    "all_votes.drop('(Exemplo)', inplace=True)\n",
    "all_votes.to_csv('expert-subareas-classification/' + dirname + '/all_votes.csv')\n",
    "\n",
    "result = all_votes['0'].copy()\n",
    "result['Vkey'] = 'Subareas'\n",
    "\n",
    "for vkey, a in result.iteritems():\n",
    "    if (vkey != 'Vkey'): result.loc[vkey] = get_subareas(vkey)\n",
    "        \n",
    "result.to_csv('expert-subareas-classification/' + dirname + '/' + 'venues_subareas-' + str(min_votes) + '-votes.csv')\n",
    "result.head(10)"
   ]
  },
  {
   "cell_type": "code",
   "execution_count": 63,
   "metadata": {
    "collapsed": false
   },
   "outputs": [
    {
     "data": {
      "text/html": [
       "<div>\n",
       "<table border=\"1\" class=\"dataframe\">\n",
       "  <thead>\n",
       "    <tr style=\"text-align: right;\">\n",
       "      <th>ID</th>\n",
       "      <th>14</th>\n",
       "      <th>15</th>\n",
       "      <th>21</th>\n",
       "      <th>37</th>\n",
       "    </tr>\n",
       "  </thead>\n",
       "  <tbody>\n",
       "    <tr>\n",
       "      <th>Vkey</th>\n",
       "      <td>Data science</td>\n",
       "      <td>Database</td>\n",
       "      <td>Knowledge management</td>\n",
       "      <td>World Wide Web</td>\n",
       "    </tr>\n",
       "    <tr>\n",
       "      <th>conf/widm</th>\n",
       "      <td>1</td>\n",
       "      <td>1</td>\n",
       "      <td>1</td>\n",
       "      <td>1</td>\n",
       "    </tr>\n",
       "  </tbody>\n",
       "</table>\n",
       "</div>"
      ],
      "text/plain": [
       "ID                   14        15                    21              37\n",
       "Vkey       Data science  Database  Knowledge management  World Wide Web\n",
       "conf/widm             1         1                     1               1"
      ]
     },
     "execution_count": 63,
     "metadata": {},
     "output_type": "execute_result"
    }
   ],
   "source": [
    "row_index = 'conf/widm'\n",
    "\n",
    "columns = all_votes.loc[[row_index]].gt(0).any()\n",
    "all_votes.ix[['Vkey',row_index], columns]"
   ]
  },
  {
   "cell_type": "code",
   "execution_count": 64,
   "metadata": {
    "collapsed": false
   },
   "outputs": [
    {
     "data": {
      "text/plain": [
       "['']"
      ]
     },
     "execution_count": 64,
     "metadata": {},
     "output_type": "execute_result"
    }
   ],
   "source": [
    "get_subareas('conf/widm')"
   ]
  }
 ],
 "metadata": {
  "hide_input": false,
  "kernelspec": {
   "display_name": "Python 2",
   "language": "python",
   "name": "python2"
  },
  "language_info": {
   "codemirror_mode": {
    "name": "ipython",
    "version": 2
   },
   "file_extension": ".py",
   "mimetype": "text/x-python",
   "name": "python",
   "nbconvert_exporter": "python",
   "pygments_lexer": "ipython2",
   "version": "2.7.6"
  },
  "toc": {
   "colors": {
    "hover_highlight": "#DAA520",
    "running_highlight": "#FF0000",
    "selected_highlight": "#FFD700"
   },
   "moveMenuLeft": true,
   "nav_menu": {
    "height": "66px",
    "width": "252px"
   },
   "navigate_menu": true,
   "number_sections": true,
   "sideBar": true,
   "threshold": 4,
   "toc_cell": false,
   "toc_section_display": "block",
   "toc_window_display": false
  }
 },
 "nbformat": 4,
 "nbformat_minor": 0
}
