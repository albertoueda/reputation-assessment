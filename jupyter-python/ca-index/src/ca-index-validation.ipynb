{
 "metadata": {
  "name": ""
 },
 "nbformat": 3,
 "nbformat_minor": 0,
 "worksheets": [
  {
   "cells": [
    {
     "cell_type": "heading",
     "level": 1,
     "metadata": {},
     "source": [
      "ca-index validation"
     ]
    },
    {
     "cell_type": "heading",
     "level": 2,
     "metadata": {},
     "source": [
      "Input"
     ]
    },
    {
     "cell_type": "code",
     "collapsed": false,
     "input": [
      "instance = 'example2'\n",
      "method   = 'ca-index'\n",
      "method   = 'ca-volume'\n",
      "\n",
      "import pandas as pd\n",
      "dfauthors = pd.read_csv('%s/author-hindex.csv' % instance)\n",
      "dfareas   = pd.read_csv('%s/paper-areas.csv' % instance, index_col=0)\n",
      "print dfauthors\n",
      "print dfareas\n",
      "\n",
      "pubsfile = {}\n",
      "with open('%s/pubsfile' % instance) as f:\n",
      "    for line in f:\n",
      "        if line.strip() != '' and line[0] != '\\t':\n",
      "            name = line.strip()\n",
      "            pubsfile[name] = []\n",
      "        else:\n",
      "            pubsfile[name].append(line.strip())\n",
      "\n",
      "print\n",
      "print pubsfile\n",
      "\n",
      "papers   = dfareas.index.unique()\n",
      "paperids = { p:i for i,p in enumerate(papers) }\n",
      "print paperids\n",
      "\n",
      "areas   = dfareas.Area.unique()\n",
      "areaids = { p:i for i,p in enumerate(areas) }\n",
      "print areaids"
     ],
     "language": "python",
     "metadata": {},
     "outputs": [
      {
       "output_type": "stream",
       "stream": "stdout",
       "text": [
        "    Author  HIndex\n",
        "0  Author0      10\n",
        "1  Author1      15\n",
        "2  Author2       5\n",
        "\n",
        "[3 rows x 2 columns]\n",
        "                     Area\n",
        "Paper                    \n",
        "venue/paper0\\t2000  Area0\n",
        "venue/paper1\\t2001  Area0\n",
        "venue/paper1\\t2001  Area1\n",
        "venue/paper2\\t2002  Area1\n",
        "venue/paper3\\t2003  Area2\n",
        "\n",
        "[5 rows x 1 columns]\n",
        "\n",
        "{'Author0': ['venue/paper0\\t2000', 'venue/paper2\\t2002'], 'Author1': ['venue/paper1\\t2001', 'venue/paper3\\t2003'], 'Author2': ['venue/paper1\\t2001', 'venue/paper3\\t2003']}\n",
        "{'venue/paper0\\t2000': 0, 'venue/paper1\\t2001': 1, 'venue/paper2\\t2002': 2, 'venue/paper3\\t2003': 3}\n",
        "{'Area0': 0, 'Area1': 1, 'Area2': 2}\n"
       ]
      }
     ],
     "prompt_number": 69
    },
    {
     "cell_type": "code",
     "collapsed": false,
     "input": [
      "from scipy.sparse import coo_matrix\n",
      "row  = np.array([0, 3, 1, 0])\n",
      "col  = np.array([0, 3, 1, 2])\n",
      "data = np.array([4, 5, 7, 9])\n",
      "coo_matrix((data, (row, col)), shape=(4, 4)).toarray()"
     ],
     "language": "python",
     "metadata": {},
     "outputs": [
      {
       "metadata": {},
       "output_type": "pyout",
       "prompt_number": 70,
       "text": [
        "array([[4, 0, 9, 0],\n",
        "       [0, 7, 0, 0],\n",
        "       [0, 0, 0, 0],\n",
        "       [0, 0, 0, 5]])"
       ]
      }
     ],
     "prompt_number": 70
    },
    {
     "cell_type": "code",
     "collapsed": false,
     "input": [
      "row,col,data = [],[],[]\n",
      "\n",
      "for (i,name) in enumerate(dfauthors.Author):\n",
      "    print i,name\n",
      "    for paper in pubsfile[name]:\n",
      "        print ' ',paperids[paper],paper\n",
      "        row.append(i)\n",
      "        col.append(paperids[paper])\n",
      "        \n",
      "        # ca-volume\n",
      "        if method == 'ca-volume':\n",
      "            data.append(1)\n",
      "        # ca-index\n",
      "        elif method == 'ca-index':\n",
      "            data.append(dfauthors.iloc[i].HIndex)\n",
      "\n",
      "S = coo_matrix((data, (row, col)), shape=(dfauthors.shape[0], len(papers))).toarray()\n",
      "print S"
     ],
     "language": "python",
     "metadata": {},
     "outputs": [
      {
       "output_type": "stream",
       "stream": "stdout",
       "text": [
        "0 Author0\n",
        "  0 venue/paper0\t2000\n",
        "  2 venue/paper2\t2002\n",
        "1 Author1\n",
        "  1 venue/paper1\t2001\n",
        "  3 venue/paper3\t2003\n",
        "2 Author2\n",
        "  1 venue/paper1\t2001\n",
        "  3 venue/paper3\t2003\n",
        "[[1 0 1 0]\n",
        " [0 1 0 1]\n",
        " [0 1 0 1]]\n"
       ]
      }
     ],
     "prompt_number": 71
    },
    {
     "cell_type": "code",
     "collapsed": false,
     "input": [
      "row,col,data = [],[],[]\n",
      "\n",
      "for paper in papers:\n",
      "    print paper\n",
      "    #for area in dfareas.loc[paper].tolist():\n",
      "    #    print ' ',area\n",
      "    _areas = dfareas.loc[paper].Area\n",
      "    if type(_areas) == str: _areas = [_areas]\n",
      "    else: _areas = _areas.tolist()\n",
      "    for area in _areas:\n",
      "        print ' ',paperids[paper],areaids[area],area\n",
      "        row.append(paperids[paper])\n",
      "        col.append(areaids[area])\n",
      "        data.append(1)\n",
      "\n",
      "A = coo_matrix((data, (row, col)), shape=(len(papers),len(areaids)), dtype=np.float32).toarray()\n",
      "print A"
     ],
     "language": "python",
     "metadata": {},
     "outputs": [
      {
       "output_type": "stream",
       "stream": "stdout",
       "text": [
        "venue/paper0\t2000\n",
        "  0 0 Area0\n",
        "venue/paper1\t2001\n",
        "  1 0 Area0\n",
        "  1 1 Area1\n",
        "venue/paper2\t2002\n",
        "  2 1 Area1\n",
        "venue/paper3\t2003\n",
        "  3 2 Area2\n",
        "[[ 1.  0.  0.]\n",
        " [ 1.  1.  0.]\n",
        " [ 0.  1.  0.]\n",
        " [ 0.  0.  1.]]\n"
       ]
      }
     ],
     "prompt_number": 72
    },
    {
     "cell_type": "code",
     "collapsed": false,
     "input": [
      "Asum = A.sum(1)\n",
      "for j in range(A.shape[1]):\n",
      "    A[:,j] = A[:,j]/Asum\n",
      "print A"
     ],
     "language": "python",
     "metadata": {},
     "outputs": [
      {
       "output_type": "stream",
       "stream": "stdout",
       "text": [
        "[[ 1.   0.   0. ]\n",
        " [ 0.5  0.5  0. ]\n",
        " [ 0.   1.   0. ]\n",
        " [ 0.   0.   1. ]]\n"
       ]
      }
     ],
     "prompt_number": 73
    },
    {
     "cell_type": "code",
     "collapsed": false,
     "input": [
      "Na = zeros((len(areaids),))\n",
      "for (i,name) in enumerate(dfauthors.Author):\n",
      "    print i,name\n",
      "    for paper in pubsfile[name]:\n",
      "        print ' ',paperids[paper],paper\n",
      "        _areas = dfareas.loc[paper].Area\n",
      "        if type(_areas) == str: _areas = [_areas]\n",
      "        else: _areas = _areas.tolist()\n",
      "        for area in _areas:\n",
      "            print '   ',paperids[paper],areaids[area],area\n",
      "            Na[ areaids[area] ] += 1\n",
      "Na"
     ],
     "language": "python",
     "metadata": {},
     "outputs": [
      {
       "output_type": "stream",
       "stream": "stdout",
       "text": [
        "0 Author0\n",
        "  0 venue/paper0\t2000\n",
        "    0 0 Area0\n",
        "  2 venue/paper2\t2002\n",
        "    2 1 Area1\n",
        "1 Author1\n",
        "  1 venue/paper1\t2001\n",
        "    1 0 Area0\n",
        "    1 1 Area1\n",
        "  3 venue/paper3\t2003\n",
        "    3 2 Area2\n",
        "2 Author2\n",
        "  1 venue/paper1\t2001\n",
        "    1 0 Area0\n",
        "    1 1 Area1\n",
        "  3 venue/paper3\t2003\n",
        "    3 2 Area2\n"
       ]
      },
      {
       "metadata": {},
       "output_type": "pyout",
       "prompt_number": 74,
       "text": [
        "array([ 3.,  3.,  2.])"
       ]
      }
     ],
     "prompt_number": 74
    },
    {
     "cell_type": "heading",
     "level": 2,
     "metadata": {},
     "source": [
      "Method"
     ]
    },
    {
     "cell_type": "code",
     "collapsed": false,
     "input": [
      "Sline = S.dot(A)\n",
      "\n",
      "# Test/Validation\n",
      "#Na = array([3,3,3])\n",
      "#Sline = array([[10.,5.,1.],[50.,25.,5.],[1.,1.,6.]])\n",
      "\n",
      "Sline"
     ],
     "language": "python",
     "metadata": {},
     "outputs": [
      {
       "metadata": {},
       "output_type": "pyout",
       "prompt_number": 75,
       "text": [
        "array([[ 1. ,  1. ,  0. ],\n",
        "       [ 0.5,  0.5,  1. ],\n",
        "       [ 0.5,  0.5,  1. ]])"
       ]
      }
     ],
     "prompt_number": 75
    },
    {
     "cell_type": "code",
     "collapsed": false,
     "input": [
      "from collections import Counter\n",
      "   \n",
      "l = zeros(Sline.shape)\n",
      "e = zeros(Sline.shape)\n",
      "l.fill(nan)\n",
      "e.fill(nan)\n",
      "\n",
      "for j in range(Sline.shape[1]):\n",
      "\n",
      "    c = Sline[:,j]\n",
      "    counter = Counter(c)\n",
      "    \n",
      "    for i,v in enumerate(c):\n",
      "        if v == 0: continue\n",
      "        e[i,j] = counter[v]-1\n",
      "    \n",
      "    dl = {}\n",
      "    s = 0\n",
      "    for k,v in sorted(dict(counter).items()):\n",
      "        if k == 0: continue\n",
      "        dl[k] = s\n",
      "        s += v\n",
      "        \n",
      "    for i,v in enumerate(c):\n",
      "        if v == 0: continue\n",
      "        l[i,j] = dl[v]\n",
      "\n",
      "l,e"
     ],
     "language": "python",
     "metadata": {},
     "outputs": [
      {
       "metadata": {},
       "output_type": "pyout",
       "prompt_number": 76,
       "text": [
        "(array([[  2.,   2.,  nan],\n",
        "       [  0.,   0.,   0.],\n",
        "       [  0.,   0.,   0.]]),\n",
        " array([[  0.,   0.,  nan],\n",
        "       [  1.,   1.,   1.],\n",
        "       [  1.,   1.,   1.]]))"
       ]
      }
     ],
     "prompt_number": 76
    },
    {
     "cell_type": "code",
     "collapsed": false,
     "input": [
      "Pia = (l + 0.5*e) / Na\n",
      "Pia"
     ],
     "language": "python",
     "metadata": {},
     "outputs": [
      {
       "metadata": {},
       "output_type": "pyout",
       "prompt_number": 77,
       "text": [
        "array([[ 0.66666667,  0.66666667,         nan],\n",
        "       [ 0.16666667,  0.16666667,  0.25      ],\n",
        "       [ 0.16666667,  0.16666667,  0.25      ]])"
       ]
      }
     ],
     "prompt_number": 77
    },
    {
     "cell_type": "code",
     "collapsed": false,
     "input": [
      "Pia[pd.isnull(Pia)]=0\n",
      "Bi = Pia.argmax(1)\n",
      "Pia,Bi"
     ],
     "language": "python",
     "metadata": {},
     "outputs": [
      {
       "metadata": {},
       "output_type": "pyout",
       "prompt_number": 78,
       "text": [
        "(array([[ 0.66666667,  0.66666667,  0.        ],\n",
        "       [ 0.16666667,  0.16666667,  0.25      ],\n",
        "       [ 0.16666667,  0.16666667,  0.25      ]]),\n",
        " array([0, 2, 2]))"
       ]
      }
     ],
     "prompt_number": 78
    },
    {
     "cell_type": "code",
     "collapsed": false,
     "input": [
      "fblist = []\n",
      "for a in range(Pia.shape[1]):\n",
      "    fblist.append( sorted(zip(Pia[:,a],Sline[:,a])) )\n",
      "def fb(a,p):\n",
      "    xs = fblist[a]\n",
      "    for k,v in xs[::-1]:\n",
      "        #print p,v,k\n",
      "        if p >= k: return v\n",
      "print fblist\n",
      "fb(0,0.5)"
     ],
     "language": "python",
     "metadata": {},
     "outputs": [
      {
       "output_type": "stream",
       "stream": "stdout",
       "text": [
        "[[(0.16666666666666666, 0.5), (0.16666666666666666, 0.5), (0.66666666666666663, 1.0)], [(0.16666666666666666, 0.5), (0.16666666666666666, 0.5), (0.66666666666666663, 1.0)], [(0.0, 0.0), (0.25, 1.0), (0.25, 1.0)]]\n"
       ]
      },
      {
       "metadata": {},
       "output_type": "pyout",
       "prompt_number": 82,
       "text": [
        "0.5"
       ]
      }
     ],
     "prompt_number": 82
    },
    {
     "cell_type": "code",
     "collapsed": false,
     "input": [
      "#f1 = array([ xs[-1][1] for xs in fblist ])\n",
      "f1 = array([ fblist[a][-1][1] for a in Bi ])\n",
      "f1"
     ],
     "language": "python",
     "metadata": {},
     "outputs": [
      {
       "metadata": {},
       "output_type": "pyout",
       "prompt_number": 83,
       "text": [
        "array([ 1.,  1.,  1.])"
       ]
      }
     ],
     "prompt_number": 83
    },
    {
     "cell_type": "code",
     "collapsed": false,
     "input": [
      "F = np.zeros(Sline.shape)\n",
      "for i in range(F.shape[0]):\n",
      "    f = array([ fb(Bi[i],p) for p in Pia[i] ])\n",
      "    #print Pia[i]\n",
      "    #print f\n",
      "    F[i,:] = f #/ fb(Bi[i],1.0)\n",
      "F[pd.isnull(F)]=0\n",
      "print F.sum(1)\n",
      "F"
     ],
     "language": "python",
     "metadata": {},
     "outputs": [
      {
       "output_type": "stream",
       "stream": "stdout",
       "text": [
        "[ 2.  1.  1.]\n"
       ]
      },
      {
       "metadata": {},
       "output_type": "pyout",
       "prompt_number": 94,
       "text": [
        "array([[ 1.,  1.,  0.],\n",
        "       [ 0.,  0.,  1.],\n",
        "       [ 0.,  0.,  1.]])"
       ]
      }
     ],
     "prompt_number": 94
    },
    {
     "cell_type": "code",
     "collapsed": false,
     "input": [
      "score = F.sum(1) / f1"
     ],
     "language": "python",
     "metadata": {},
     "outputs": [],
     "prompt_number": 95
    },
    {
     "cell_type": "heading",
     "level": 2,
     "metadata": {},
     "source": [
      "Output"
     ]
    },
    {
     "cell_type": "code",
     "collapsed": false,
     "input": [
      "print score.tolist()"
     ],
     "language": "python",
     "metadata": {},
     "outputs": [
      {
       "output_type": "stream",
       "stream": "stdout",
       "text": [
        "[2.0, 1.0, 1.0]\n"
       ]
      }
     ],
     "prompt_number": 96
    },
    {
     "cell_type": "code",
     "collapsed": false,
     "input": [],
     "language": "python",
     "metadata": {},
     "outputs": [],
     "prompt_number": 86
    },
    {
     "cell_type": "code",
     "collapsed": false,
     "input": [],
     "language": "python",
     "metadata": {},
     "outputs": []
    }
   ],
   "metadata": {}
  }
 ]
}