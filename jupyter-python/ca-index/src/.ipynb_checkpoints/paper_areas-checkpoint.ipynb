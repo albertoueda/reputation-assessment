{
 "metadata": {
  "name": "",
  "signature": "sha256:b4d0a7ea6172e0b105df391bea252da13959c574d68e2f1fd073ac804382ea70"
 },
 "nbformat": 3,
 "nbformat_minor": 0,
 "worksheets": [
  {
   "cells": [
    {
     "cell_type": "code",
     "collapsed": false,
     "input": [
      "%pylab inline\n",
      "\n",
      "import pandas as pd\n",
      "import numpy as np\n",
      "import mmap\n",
      "import time\n",
      "\n",
      "from unidecode import unidecode\n",
      "\n",
      "class Dict(dict):\n",
      "    def __missing__(self, key):\n",
      "            return False\n",
      "        \n",
      "UTF8 = 'utf-8'\n",
      "        "
     ],
     "language": "python",
     "metadata": {},
     "outputs": [
      {
       "output_type": "stream",
       "stream": "stdout",
       "text": [
        "Populating the interactive namespace from numpy and matplotlib\n"
       ]
      }
     ],
     "prompt_number": 2
    },
    {
     "cell_type": "code",
     "collapsed": false,
     "input": [
      "# shortnames_list = [unidecode(x.decode(UTF8)).upper() for x in cnpq_authors['ShortName'].tolist()]\n",
      "\n",
      "\n",
      "with open('../cnpq-authors-dblpkeys.pubsfile') as dblp_file:\n",
      "\n",
      "    for line in dblp_file:\n",
      "        if '\\t' not in line: continue\n",
      "            \n",
      "        # Adding author's publications\n",
      "        selected_lines.append(line)\n",
      "            \n",
      "\n",
      "        # Reseting flags\n",
      "        copy_pubs = False\n",
      "        found = False\n",
      "        dblp_author = unidecode(line.strip('\\n').decode(UTF8)).upper()\n",
      "\n",
      "        # It is a name. Generating simplename for check.\n",
      "        names = dblp_author.split()\n",
      "        simplename = names[0] + ' ' + names[-1]\n",
      "\n",
      "        # Searching the new author             \n",
      "        # Heuristic: When there are more than one option for name,\n",
      "        #            choose the one with more publications        \n",
      "        if used_simplenames[simplename] == False and dblp_author in fullnames_list:\n",
      "            found = True\n",
      "        elif used_simplenames[simplename] == False and dblp_author in shortnames_list:\n",
      "            found = True\n",
      "            #line = line.strip('\\n') + ' (By ShortName)\\n'\n",
      "        elif used_simplenames[simplename] == False and dblp_author in simplenames_list:\n",
      "            found = True\n",
      "            #line = line.strip('\\n') + ' (By SimpleName)\\n'\n",
      "                \n",
      "        if not found: \n",
      "            continue\n",
      "        else:\n",
      "            # Adding author's name\n",
      "            selected_lines.append(line)\n",
      "            used_simplenames[simplename] = True\n",
      "            copy_pubs = True\n",
      "            \n",
      "\n",
      "            \n",
      "# to   ../paper-areas.csv"
     ],
     "language": "python",
     "metadata": {},
     "outputs": []
    },
    {
     "cell_type": "code",
     "collapsed": false,
     "input": [
      "#a = pd.DataFrame({}, [], columns=['Paper', 'Area'])\n",
      "#b = pd.DataFrame([[int(1)][\"1\"]], columns=['Paper', 'Area'], indices[])\n",
      "#a.concat(b)"
     ],
     "language": "python",
     "metadata": {},
     "outputs": [
      {
       "ename": "TypeError",
       "evalue": "list indices must be integers, not str",
       "output_type": "pyerr",
       "traceback": [
        "\u001b[1;31m---------------------------------------------------------------------------\u001b[0m\n\u001b[1;31mTypeError\u001b[0m                                 Traceback (most recent call last)",
        "\u001b[1;32m<ipython-input-38-a2750fb1f535>\u001b[0m in \u001b[0;36m<module>\u001b[1;34m()\u001b[0m\n\u001b[0;32m      1\u001b[0m \u001b[0ma\u001b[0m \u001b[1;33m=\u001b[0m \u001b[0mpd\u001b[0m\u001b[1;33m.\u001b[0m\u001b[0mDataFrame\u001b[0m\u001b[1;33m(\u001b[0m\u001b[1;33m{\u001b[0m\u001b[1;33m}\u001b[0m\u001b[1;33m,\u001b[0m \u001b[1;33m[\u001b[0m\u001b[1;33m]\u001b[0m\u001b[1;33m,\u001b[0m \u001b[0mcolumns\u001b[0m\u001b[1;33m=\u001b[0m\u001b[1;33m[\u001b[0m\u001b[1;34m'Paper'\u001b[0m\u001b[1;33m,\u001b[0m \u001b[1;34m'Area'\u001b[0m\u001b[1;33m]\u001b[0m\u001b[1;33m)\u001b[0m\u001b[1;33m\u001b[0m\u001b[0m\n\u001b[1;32m----> 2\u001b[1;33m \u001b[0mb\u001b[0m \u001b[1;33m=\u001b[0m \u001b[0mpd\u001b[0m\u001b[1;33m.\u001b[0m\u001b[0mDataFrame\u001b[0m\u001b[1;33m(\u001b[0m\u001b[1;33m[\u001b[0m\u001b[1;33m[\u001b[0m\u001b[0mint\u001b[0m\u001b[1;33m(\u001b[0m\u001b[1;36m1\u001b[0m\u001b[1;33m)\u001b[0m\u001b[1;33m]\u001b[0m\u001b[1;33m[\u001b[0m\u001b[1;34m\"1\"\u001b[0m\u001b[1;33m]\u001b[0m\u001b[1;33m]\u001b[0m\u001b[1;33m,\u001b[0m \u001b[0mcolumns\u001b[0m\u001b[1;33m=\u001b[0m\u001b[1;33m[\u001b[0m\u001b[1;34m'Paper'\u001b[0m\u001b[1;33m,\u001b[0m \u001b[1;34m'Area'\u001b[0m\u001b[1;33m]\u001b[0m\u001b[1;33m)\u001b[0m\u001b[1;33m\u001b[0m\u001b[0m\n\u001b[0m\u001b[0;32m      3\u001b[0m \u001b[0ma\u001b[0m\u001b[1;33m.\u001b[0m\u001b[0mconcat\u001b[0m\u001b[1;33m(\u001b[0m\u001b[0mb\u001b[0m\u001b[1;33m)\u001b[0m\u001b[1;33m\u001b[0m\u001b[0m\n",
        "\u001b[1;31mTypeError\u001b[0m: list indices must be integers, not str"
       ]
      }
     ],
     "prompt_number": 38
    }
   ],
   "metadata": {}
  }
 ]
}