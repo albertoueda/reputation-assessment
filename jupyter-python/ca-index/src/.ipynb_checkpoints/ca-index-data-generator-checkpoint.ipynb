{
 "metadata": {
  "name": "",
  "signature": "sha256:8e7735b98c46ba5c2e9914541fc94dba6ccf58ef86c085eee2a1ccf29c7b6430"
 },
 "nbformat": 3,
 "nbformat_minor": 0,
 "worksheets": []
}