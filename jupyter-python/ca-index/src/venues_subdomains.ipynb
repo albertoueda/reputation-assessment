{
 "metadata": {
  "name": "",
  "signature": "sha256:e8797be101816921125ad03e16413bd3ccae6c161f31a4aaee69bb718832afad"
 },
 "nbformat": 3,
 "nbformat_minor": 0,
 "worksheets": [
  {
   "cells": [
    {
     "cell_type": "code",
     "collapsed": false,
     "input": [
      "%pylab inline\n",
      "\n",
      "import pandas as pd\n",
      "import numpy as np\n",
      "\n",
      "pd.set_option('html', False)\n",
      "\n",
      "CS_AREA = 2\n",
      "\n",
      "conf     = pd.read_csv(\"../azure/Conference.csv\")\n",
      "conf_cat = pd.read_csv(\"../azure/Conf_Category.csv\")\n",
      "jour     = pd.read_csv(\"../azure/Journal.csv\")\n",
      "jour_cat = pd.read_csv(\"../azure/Jour_Category.csv\")\n",
      "cat      = pd.read_csv(\"../azure/Category.csv\")\n",
      "dom      = pd.read_csv(\"../azure/Domain.csv\")"
     ],
     "language": "python",
     "metadata": {},
     "outputs": [
      {
       "output_type": "stream",
       "stream": "stdout",
       "text": [
        "Populating the interactive namespace from numpy and matplotlib\n"
       ]
      }
     ],
     "prompt_number": 20
    },
    {
     "cell_type": "code",
     "collapsed": false,
     "input": [
      "# All: Pre-Merge\n",
      "cat.rename(columns={'Name':'SubDomainName'}, inplace=True)\n",
      "dom.rename(columns={'Name':'DomainName'}, inplace=True)\n",
      "\n",
      "# Conferences: Pre-Merge\n",
      "conf.rename(columns={'ID':'VenueOldID'}, inplace=True)\n",
      "conf_cat.rename(columns={'ConfCategoryID':'CategoryID'}, inplace=True)\n",
      "\n",
      "# Conferences: Merges\n",
      "conf_and_dom = pd.merge(conf.ix[:, :3], conf_cat, \n",
      "                        left_on='VenueOldID', \n",
      "                        right_on='CategoryID', \n",
      "                        how='left')\n",
      "conf_and_subdom_names = pd.merge(conf_and_dom[conf_and_dom['DomainID'] == CS_AREA], cat, \n",
      "                                 left_on=['DomainID', 'SubDomainID'], \n",
      "                                 right_on=['DomainID', 'SubDomainID'], \n",
      "                                 how='left')\n",
      "conf_and_dom_names = pd.merge(conf_and_subdom_names, dom,\n",
      "                              left_on='DomainID', \n",
      "                              right_on='ID', \n",
      "                              suffixes=['SubDomain','Domain'],\n",
      "                              how='left')\n",
      "conf_and_dom_names['Type'] = 'C'\n",
      "\n",
      "# Journals: Pre-Merge\n",
      "jour.rename(columns={'ID':'VenueOldID'}, inplace=True)\n",
      "jour_cat.rename(columns={'CJourID':'CategoryID'}, inplace=True)\n",
      "\n",
      "# Journals: Merges\n",
      "jour_and_dom = pd.merge(jour.ix[:, :3], jour_cat, \n",
      "                        left_on='VenueOldID', \n",
      "                        right_on='CategoryID', \n",
      "                        how='left')\n",
      "jour_and_subdom_names = pd.merge(jour_and_dom[jour_and_dom['DomainID'] == CS_AREA], cat, \n",
      "                                 left_on=['DomainID', 'SubDomainID'], \n",
      "                                 right_on=['DomainID', 'SubDomainID'], \n",
      "                                 how='left')\n",
      "jour_and_dom_names = pd.merge(jour_and_subdom_names, dom,\n",
      "                              left_on='DomainID', \n",
      "                              right_on='ID', \n",
      "                              suffixes=['SubDomain','Domain'],\n",
      "                              how='left')\n",
      "jour_and_dom_names['Type'] = 'J'"
     ],
     "language": "python",
     "metadata": {},
     "outputs": [],
     "prompt_number": 21
    },
    {
     "cell_type": "code",
     "collapsed": false,
     "input": [
      "venues_subdomains = pd.concat([conf_and_dom_names, jour_and_dom_names], ignore_index=True)\n",
      "venues_subdomains.to_csv('../Venue_SubDomain.csv')"
     ],
     "language": "python",
     "metadata": {},
     "outputs": [],
     "prompt_number": 33
    },
    {
     "cell_type": "code",
     "collapsed": false,
     "input": [
      "# np.random.randn(5)\n",
      "# lambda x: x.replace('ID', 'CONF_ID')"
     ],
     "language": "python",
     "metadata": {},
     "outputs": [],
     "prompt_number": 35
    }
   ],
   "metadata": {}
  }
 ]
}