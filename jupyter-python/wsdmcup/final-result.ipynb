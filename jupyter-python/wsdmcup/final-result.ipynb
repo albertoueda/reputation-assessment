{
 "cells": [
  {
   "cell_type": "markdown",
   "metadata": {},
   "source": [
    "# UFMG / Latin"
   ]
  },
  {
   "cell_type": "code",
   "execution_count": 1,
   "metadata": {
    "collapsed": false
   },
   "outputs": [
    {
     "name": "stdout",
     "output_type": "stream",
     "text": [
      "{'CPPPATH': '../cpp', 'DATAPATH': '../data3', 'MAGPATH': '../../mag3'}\n",
      "Populating the interactive namespace from numpy and matplotlib\n"
     ]
    }
   ],
   "source": [
    "#DATAPATH = '../data3-mag2'\n",
    "#MAGPATH  = '../../mag2'\n",
    "#CPPPATH  = '../cpp'\n",
    "\n",
    "DATAPATH = '../data3'\n",
    "MAGPATH  = '../../mag3'\n",
    "CPPPATH  = '../cpp'\n",
    "\n",
    "PATHS = dict(CPPPATH=CPPPATH,MAGPATH=MAGPATH,DATAPATH=DATAPATH)\n",
    "print PATHS\n",
    "\n",
    "import sys\n",
    "sys.path.append('../ipynb-mag2/') # python lib path\n",
    "import cuplib\n",
    "\n",
    "import pandas as pd\n",
    "import numpy as np\n",
    "import commands\n",
    "%pylab inline"
   ]
  },
  {
   "cell_type": "markdown",
   "metadata": {},
   "source": [
    "## Data"
   ]
  },
  {
   "cell_type": "markdown",
   "metadata": {},
   "source": [
    "### citcount_p (NB02)"
   ]
  },
  {
   "cell_type": "code",
   "execution_count": 2,
   "metadata": {
    "collapsed": false
   },
   "outputs": [
    {
     "name": "stdout",
     "output_type": "stream",
     "text": [
      "g++ ../cpp/citcount_p.cpp -o ../cpp/citcount_p -O3 && time ../cpp/citcount_p ../../mag3/PaperReferences.txt ../data3/citcount_p.tsv\n",
      "411.85user 59.82system 7:55.33elapsed 99%CPU (0avgtext+0avgdata 8405924maxresident)k\n",
      "35341656inputs+1040280outputs (0major+123119minor)pagefaults 0swaps\n"
     ]
    }
   ],
   "source": [
    "# cpp/citcount_p.cpp\n",
    "# g++ ../cpp/citcount_p.cpp -o ../cpp/citcount_p -O3 \n",
    "# time ../cpp/citcount_p ../../mag3/PaperReferences.txt ../data3/citcount_p.tsv\n",
    "\n",
    "cmd = 'g++ %(CPPPATH)s/citcount_p.cpp -o %(CPPPATH)s/citcount_p -O3 && \\\n",
    "time %(CPPPATH)s/citcount_p %(MAGPATH)s/PaperReferences.txt %(DATAPATH)s/citcount_p.tsv' % PATHS\n",
    "print cmd\n",
    "\n",
    "print commands.getoutput('%s > %s/run.log' % (cmd,PATHS['DATAPATH']))\n",
    "\n",
    "# 7m24.078s"
   ]
  },
  {
   "cell_type": "code",
   "execution_count": 3,
   "metadata": {
    "collapsed": false
   },
   "outputs": [
    {
     "name": "stdout",
     "output_type": "stream",
     "text": [
      "CPU times: user 7.38 s, sys: 444 ms, total: 7.82 s\n",
      "Wall time: 7.82 s\n"
     ]
    }
   ],
   "source": [
    "%%time \n",
    "dfpcits = pd.read_csv(DATAPATH+'/citcount_p.tsv',\n",
    "                      sep='\\t',header=None,names='Pid Pcits'.split(),dtype=np.int32)\n",
    "dfpcits.set_index('Pid',inplace=True)"
   ]
  },
  {
   "cell_type": "markdown",
   "metadata": {},
   "source": [
    "### ACR (NB12)"
   ]
  },
  {
   "cell_type": "code",
   "execution_count": 4,
   "metadata": {
    "collapsed": true
   },
   "outputs": [],
   "source": [
    "Xy = dfpcits"
   ]
  },
  {
   "cell_type": "code",
   "execution_count": 5,
   "metadata": {
    "collapsed": false
   },
   "outputs": [
    {
     "name": "stdout",
     "output_type": "stream",
     "text": [
      "CPU times: user 4min 3s, sys: 25.3 s, total: 4min 28s\n",
      "Wall time: 5min 19s\n"
     ]
    }
   ],
   "source": [
    "%%time\n",
    "# 7min\n",
    "dfp = cuplib.read_papers(magpath=MAGPATH,usecols='Pkey Pyear'.split())"
   ]
  },
  {
   "cell_type": "code",
   "execution_count": 6,
   "metadata": {
    "collapsed": false
   },
   "outputs": [
    {
     "name": "stdout",
     "output_type": "stream",
     "text": [
      "CPU times: user 22.7 s, sys: 4.74 s, total: 27.5 s\n",
      "Wall time: 27.6 s\n"
     ]
    }
   ],
   "source": [
    "%%time\n",
    "Xy = Xy.join(dfp,how='outer')"
   ]
  },
  {
   "cell_type": "code",
   "execution_count": 7,
   "metadata": {
    "collapsed": false
   },
   "outputs": [
    {
     "name": "stdout",
     "output_type": "stream",
     "text": [
      "CPU times: user 6.86 s, sys: 2.38 s, total: 9.24 s\n",
      "Wall time: 5.26 s\n"
     ]
    }
   ],
   "source": [
    "%%time\n",
    "sbmsource = 'final'\n",
    "field = 'ACR' # S02_PcitsYear\n",
    "Xy.Pyear.loc[Xy.Pyear > 2015] = 2015\n",
    "Xy[field] = Xy.Pcits / ( 2015 + 1 - Xy.Pyear )"
   ]
  },
  {
   "cell_type": "code",
   "execution_count": 8,
   "metadata": {
    "collapsed": false
   },
   "outputs": [
    {
     "name": "stdout",
     "output_type": "stream",
     "text": [
      "CPU times: user 1min 43s, sys: 6.58 s, total: 1min 50s\n",
      "Wall time: 1min 50s\n"
     ]
    },
    {
     "data": {
      "text/plain": [
       "'../data3/final/ACR/results.tsv'"
      ]
     },
     "execution_count": 8,
     "metadata": {},
     "output_type": "execute_result"
    }
   ],
   "source": [
    "%%time\n",
    "cuplib.write_submission(Xy[field],DATAPATH+'/%s/%s/'%(sbmsource,field),hexids=False)"
   ]
  },
  {
   "cell_type": "code",
   "execution_count": 9,
   "metadata": {
    "collapsed": true
   },
   "outputs": [],
   "source": [
    "#Xy['Pyear'].max()"
   ]
  },
  {
   "cell_type": "markdown",
   "metadata": {},
   "source": [
    "### Graph"
   ]
  },
  {
   "cell_type": "raw",
   "metadata": {
    "collapsed": true
   },
   "source": [
    "../../mag3/PaperReferences.txt\n",
    "=== hex2int ===>\n",
    "../../data3/PaperReferences.tsv (int)\n",
    "===  ===>\n",
    "../../data3/PaperReferences.nodes\n",
    "../../data3/PaperReferences.inlinks"
   ]
  },
  {
   "cell_type": "code",
   "execution_count": 10,
   "metadata": {
    "collapsed": false
   },
   "outputs": [
    {
     "name": "stdout",
     "output_type": "stream",
     "text": [
      "g++ ../cpp/randomwalk_build_graph/hex2int.cpp -o ../cpp/randomwalk_build_graph/hex2int -O3 && time ../cpp/randomwalk_build_graph/hex2int ../../mag3/PaperReferences.txt ../data3/PaperReferences.tsv\n",
      "431.67user 25.13system 13:36.73elapsed 55%CPU (0avgtext+0avgdata 1508maxresident)k\n",
      "34576752inputs+39949312outputs (4major+722minor)pagefaults 0swaps\n"
     ]
    }
   ],
   "source": [
    "# hex2int\n",
    "cmd = 'g++ %(CPPPATH)s/randomwalk_build_graph/hex2int.cpp -o %(CPPPATH)s/randomwalk_build_graph/hex2int -O3 && \\\n",
    "time %(CPPPATH)s/randomwalk_build_graph/hex2int %(MAGPATH)s/PaperReferences.txt %(DATAPATH)s/PaperReferences.tsv' \\\n",
    "% PATHS\n",
    "print cmd\n",
    "\n",
    "print commands.getoutput('%s >> %s/run.log' % (cmd,PATHS['DATAPATH']))\n",
    "\n",
    "# 10m58.763s"
   ]
  },
  {
   "cell_type": "code",
   "execution_count": 11,
   "metadata": {
    "collapsed": false
   },
   "outputs": [
    {
     "name": "stdout",
     "output_type": "stream",
     "text": [
      "g++ ../cpp/randomwalk_build_graph/sd2nodes.cpp -o ../cpp/randomwalk_build_graph/sd2nodes -O3 -std=c++11 && time ../cpp/randomwalk_build_graph/sd2nodes ../data3/PaperReferences.tsv ../data3/PaperReferences\n",
      "300.99user 13.72system 5:32.37elapsed 94%CPU (0avgtext+0avgdata 1627544maxresident)k\n",
      "36544280inputs+1035208outputs (3major+5274685minor)pagefaults 0swaps\n"
     ]
    }
   ],
   "source": [
    "# sd2nodes\n",
    "cmd = 'g++ %(CPPPATH)s/randomwalk_build_graph/sd2nodes.cpp \\\n",
    "-o %(CPPPATH)s/randomwalk_build_graph/sd2nodes -O3 -std=c++11 && \\\n",
    "time %(CPPPATH)s/randomwalk_build_graph/sd2nodes \\\n",
    "%(DATAPATH)s/PaperReferences.tsv %(DATAPATH)s/PaperReferences' % PATHS\n",
    "print cmd\n",
    "\n",
    "print commands.getoutput('%s >> %s/run.log' % (cmd,PATHS['DATAPATH']))\n",
    "\n",
    "# 5m13.549s"
   ]
  },
  {
   "cell_type": "code",
   "execution_count": 12,
   "metadata": {
    "collapsed": false
   },
   "outputs": [
    {
     "name": "stdout",
     "output_type": "stream",
     "text": [
      "g++ ../cpp/randomwalk_build_graph/sd2inlinks_int.cpp -o ../cpp/randomwalk_build_graph/sd2inlinks_int -O3 -std=c++11 && time ../cpp/randomwalk_build_graph/sd2inlinks_int ../data3/PaperReferences.tsv ../data3/PaperReferences.nodes ../data3/PaperReferences\n",
      "1378.42user 102.11system 26:12.11elapsed 94%CPU (0avgtext+0avgdata 32679204maxresident)k\n",
      "35049592inputs+17275928outputs (5major+131137043minor)pagefaults 0swaps\n"
     ]
    }
   ],
   "source": [
    "# sd2inlinks\n",
    "cmd = 'g++ %(CPPPATH)s/randomwalk_build_graph/sd2inlinks_int.cpp \\\n",
    "-o %(CPPPATH)s/randomwalk_build_graph/sd2inlinks_int -O3 -std=c++11 && \\\n",
    "time %(CPPPATH)s/randomwalk_build_graph/sd2inlinks_int \\\n",
    "%(DATAPATH)s/PaperReferences.tsv %(DATAPATH)s/PaperReferences.nodes %(DATAPATH)s/PaperReferences' % PATHS\n",
    "print cmd\n",
    "\n",
    "print commands.getoutput('%s >> %s/run.log' % (cmd,PATHS['DATAPATH']))\n",
    "\n",
    "# 27m30.578s"
   ]
  },
  {
   "cell_type": "markdown",
   "metadata": {},
   "source": [
    "## Running RCR"
   ]
  },
  {
   "cell_type": "code",
   "execution_count": 13,
   "metadata": {
    "collapsed": false
   },
   "outputs": [
    {
     "name": "stdout",
     "output_type": "stream",
     "text": [
      "g++ ../cpp/acr3.cpp -o ../cpp/acr3 -O3 -std=c++11 && time ../cpp/acr3 ../data3/PaperReferences.nodes ../data3/PaperReferences.inlinks ../data3/final/ACR/results.tsv ../data3/final/sRCR11.tsv\n",
      "2655.84user 108.41system 46:14.13elapsed 99%CPU (0avgtext+0avgdata 27207204maxresident)k\n",
      "2735176inputs+2045896outputs (5major+204373935minor)pagefaults 0swaps\n",
      "CPU times: user 27.4 ms, sys: 195 ms, total: 223 ms\n",
      "Wall time: 46min 16s\n"
     ]
    }
   ],
   "source": [
    "%%time \n",
    "\n",
    "# (sabir@host16) ../data2/sbm12/S02_PcitsYear/results.tsv\n",
    "\n",
    "# curinga@host17:~$ cd /mnt/hd0/alberto/\n",
    "# g++ acr.cpp -o acr -O3 -std=c++11\n",
    "# time ./acr graph.nodes graph.inlinks results.tsv output-unique-bros.tsv > log-unique-bros.txt\n",
    "\n",
    "# sabir@host16:~/wsdmcup/data2/model02mc$ wc -l graph.nodes\n",
    "\n",
    "import os\n",
    "try: os.makedirs('%(DATAPATH)s/final/sRCR11/' % PATHS) # TODO\n",
    "except: pass\n",
    "\n",
    "cmd = 'g++ %(CPPPATH)s/acr3.cpp -o %(CPPPATH)s/acr3 -O3 -std=c++11 && \\\n",
    "time %(CPPPATH)s/acr3 \\\n",
    "%(DATAPATH)s/PaperReferences.nodes %(DATAPATH)s/PaperReferences.inlinks %(DATAPATH)s/final/ACR/results.tsv \\\n",
    "%(DATAPATH)s/final/sRCR11.tsv' % PATHS # TODO\n",
    "print cmd\n",
    "\n",
    "print commands.getoutput('%s >> %s/run.log' % (cmd,PATHS['DATAPATH']))\n",
    "\n",
    "# "
   ]
  },
  {
   "cell_type": "code",
   "execution_count": 14,
   "metadata": {
    "collapsed": false
   },
   "outputs": [
    {
     "name": "stdout",
     "output_type": "stream",
     "text": [
      "CPU times: user 2min 8s, sys: 7.53 s, total: 2min 15s\n",
      "Wall time: 2min 17s\n"
     ]
    }
   ],
   "source": [
    "%%time \n",
    "\n",
    "df = pd.read_csv(DATAPATH+'/final/sRCR11.tsv', # TODO\n",
    "                      sep='\\t',header=None,names='Pid sRCR'.split(),index_col=0,nrows=None)\n",
    "\n",
    "df['sRCR'][df['sRCR'] == 0.0] = 1.0\n",
    "\n",
    "cuplib.write_submission(df['sRCR'],DATAPATH+'/final/sRCR11/',hexids=True) # TODO"
   ]
  },
  {
   "cell_type": "code",
   "execution_count": 15,
   "metadata": {
    "collapsed": false
   },
   "outputs": [],
   "source": [
    "#df.sRCR.tolist()"
   ]
  }
 ],
 "metadata": {
  "kernelspec": {
   "display_name": "Python 2",
   "language": "python",
   "name": "python2"
  },
  "language_info": {
   "codemirror_mode": {
    "name": "ipython",
    "version": 2
   },
   "file_extension": ".py",
   "mimetype": "text/x-python",
   "name": "python",
   "nbconvert_exporter": "python",
   "pygments_lexer": "ipython2",
   "version": "2.7.6"
  }
 },
 "nbformat": 4,
 "nbformat_minor": 0
}
