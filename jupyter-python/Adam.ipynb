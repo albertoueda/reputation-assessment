{
 "cells": [
  {
   "cell_type": "code",
   "execution_count": 8,
   "metadata": {
    "collapsed": true
   },
   "outputs": [],
   "source": [
    "import numpy as np\n",
    "import pandas as pd\n",
    "\n",
    "class Dict(dict):\n",
    "    def __missing__(self, key):\n",
    "            return False"
   ]
  },
  {
   "cell_type": "markdown",
   "metadata": {},
   "source": [
    "### GroupBy"
   ]
  },
  {
   "cell_type": "code",
   "execution_count": 4,
   "metadata": {
    "collapsed": false
   },
   "outputs": [
    {
     "data": {
      "text/plain": [
       "{'bar': [1, 3, 5], 'foo': [0, 2, 4]}"
      ]
     },
     "execution_count": 4,
     "metadata": {},
     "output_type": "execute_result"
    }
   ],
   "source": [
    "rand = np.random.RandomState(1)\n",
    "df = pd.DataFrame({'A': ['foo', 'bar'] * 3,\n",
    "                   'B': rand.randn(6),\n",
    "                   'C': rand.randint(0, 20, 6)})\n",
    "gb = df.groupby(['A'])\n",
    "gb.groups"
   ]
  },
  {
   "cell_type": "markdown",
   "metadata": {},
   "source": [
    "### BFS by Levels"
   ]
  },
  {
   "cell_type": "code",
   "execution_count": 20,
   "metadata": {
    "collapsed": false
   },
   "outputs": [
    {
     "name": "stdout",
     "output_type": "stream",
     "text": [
      "\n",
      "level:2\n",
      "\n",
      "1,4,Undirected\n",
      "\n",
      "1,5,Undirected\n",
      "\n",
      "2,4,Undirected\n",
      "\n",
      "3,4,Undirected\n",
      "\n"
     ]
    }
   ],
   "source": [
    "n_top_authors = 1\n",
    "levels = 2\n",
    "found = Dict()        \n",
    "\n",
    "coauthors = Dict()\n",
    "coauthors[1] = [4, 5]\n",
    "coauthors[2] = [4]\n",
    "coauthors[3] = [4]\n",
    "coauthors[4] = [5, 6, 7]\n",
    "new_authors = [1, 2, 3]\n",
    "\n",
    "for i in range(1, levels):\n",
    "    print('\\nlevel:' + str(i+1) + '\\n')\n",
    "    authors = new_authors\n",
    "    new_authors = []\n",
    "\n",
    "    for author in authors:            \n",
    "        if coauthors[author] == False or found[author] == True: continue           \n",
    "\n",
    "        for coauthor in coauthors[author]:      \n",
    "            print(str(author) + ',' + str(coauthor) + ',Undirected\\n')\n",
    "            new_authors.append(coauthor)   \n",
    "\n",
    "        found[author] = True"
   ]
  }
 ],
 "metadata": {
  "kernelspec": {
   "display_name": "Python 3",
   "language": "python",
   "name": "python3"
  },
  "language_info": {
   "codemirror_mode": {
    "name": "ipython",
    "version": 3
   },
   "file_extension": ".py",
   "mimetype": "text/x-python",
   "name": "python",
   "nbconvert_exporter": "python",
   "pygments_lexer": "ipython3",
   "version": "3.5.1"
  }
 },
 "nbformat": 4,
 "nbformat_minor": 0
}
