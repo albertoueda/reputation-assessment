{
 "metadata": {
  "name": "",
  "signature": "sha256:b76362efaa8a3f9e0b7aebf86b6e3d8717391f4abff0dc61fe0f19d1ef9d392a"
 },
 "nbformat": 3,
 "nbformat_minor": 0,
 "worksheets": [
  {
   "cells": [
    {
     "cell_type": "code",
     "collapsed": false,
     "input": [
      "%pylab inline\n",
      "\n",
      "import pandas as pd\n",
      "import re\n"
     ],
     "language": "python",
     "metadata": {},
     "outputs": [
      {
       "output_type": "stream",
       "stream": "stdout",
       "text": [
        "Populating the interactive namespace from numpy and matplotlib\n"
       ]
      }
     ],
     "prompt_number": 49
    },
    {
     "cell_type": "code",
     "collapsed": false,
     "input": [
      "# shortnames_list = [unidecode(x.decode(UTF8)).upper() for x in cnpq_authors['ShortName'].tolist()]\n",
      "\n",
      "venues = pd.read_csv('../conciliated_venues.csv')\n",
      "paper_area = pd.DataFrame({}, [], columns=['Paper', 'Venue'])\n",
      "lines = []\n",
      "\n",
      "with open('../cnpq-authors-dblpkeys.pubsfile') as dblp_file:\n",
      "\n",
      "    for line in dblp_file:\n",
      "        if '\\t' not in line: continue\n",
      "            \n",
      "        # Adding publications\n",
      "        lines.append(line[1:-1])    \n",
      "\n",
      "paper_area['Paper'] = lines\n",
      "paper_area['Venue'] = paper_area['Paper'].apply(\n",
      "    lambda x: \"\" if re.search(r'(.*/.*)/', x) is None else re.search(r'(.*/.*)/', x).group(1)\n",
      ")\n",
      "\n",
      "\n",
      "\n",
      "paper_area = pd.merge(paper_area, venues, left_on='Venue', right_on='DBLPVenueKey', how='left')\n",
      "paper_area.rename(columns={'MASSubDomainName':'Area'}, inplace=True)\n",
      "paper_area.sort('Area', inplace=True)\n",
      "paper_area.reset_index()\n",
      "\n",
      "paper_area = paper_area.ix[:, ['Paper', 'Area']]\n",
      "\n",
      "paper_area.to_csv('../paper-areas.csv')"
     ],
     "language": "python",
     "metadata": {},
     "outputs": [],
     "prompt_number": 104
    },
    {
     "cell_type": "code",
     "collapsed": false,
     "input": [
      "re.search(r'(.*/.*)/', 'conf/adsf/bb').group(1)"
     ],
     "language": "python",
     "metadata": {},
     "outputs": [
      {
       "metadata": {},
       "output_type": "pyout",
       "prompt_number": 78,
       "text": [
        "'conf/adsf'"
       ]
      }
     ],
     "prompt_number": 78
    },
    {
     "cell_type": "code",
     "collapsed": false,
     "input": [
      "a = pd.DataFrame({}, [], columns=['Paper', 'Area'])\n",
      "a['Paper']=['a']\n",
      "a"
     ],
     "language": "python",
     "metadata": {},
     "outputs": [
      {
       "html": [
        "<div style=\"max-height:1000px;max-width:1500px;overflow:auto;\">\n",
        "<table border=\"1\" class=\"dataframe\">\n",
        "  <thead>\n",
        "    <tr style=\"text-align: right;\">\n",
        "      <th></th>\n",
        "      <th>Paper</th>\n",
        "      <th>Area</th>\n",
        "    </tr>\n",
        "  </thead>\n",
        "  <tbody>\n",
        "    <tr>\n",
        "      <th>0</th>\n",
        "      <td> a</td>\n",
        "      <td> NaN</td>\n",
        "    </tr>\n",
        "  </tbody>\n",
        "</table>\n",
        "</div>"
       ],
       "metadata": {},
       "output_type": "pyout",
       "prompt_number": 43,
       "text": [
        "  Paper Area\n",
        "0     a  NaN"
       ]
      }
     ],
     "prompt_number": 43
    }
   ],
   "metadata": {}
  }
 ]
}