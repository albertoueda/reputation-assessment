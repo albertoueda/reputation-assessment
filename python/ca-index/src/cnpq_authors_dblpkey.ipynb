{
 "metadata": {
  "name": "",
  "signature": "sha256:eefcc31316785c211f5615fbff26a528e830ab249c5bd3833a80fa9a73abe76a"
 },
 "nbformat": 3,
 "nbformat_minor": 0,
 "worksheets": [
  {
   "cells": [
    {
     "cell_type": "code",
     "collapsed": false,
     "input": [
      "%pylab inline\n",
      "\n",
      "import pandas as pd\n",
      "import numpy as np\n",
      "import mmap\n",
      "import time\n",
      "\n",
      "from unidecode import unidecode\n",
      "\n",
      "class Dict(dict):\n",
      "    def __missing__(self, key):\n",
      "            return False\n",
      "        \n",
      "UTF8 = 'utf-8'\n",
      "        "
     ],
     "language": "python",
     "metadata": {},
     "outputs": [
      {
       "output_type": "stream",
       "stream": "stdout",
       "text": [
        "Populating the interactive namespace from numpy and matplotlib\n"
       ]
      }
     ],
     "prompt_number": 217
    },
    {
     "cell_type": "code",
     "collapsed": false,
     "input": [
      "# Time\n",
      "start_time = time.time()\n",
      "\n",
      "# CNPQ Authors\n",
      "cnpq_authors = pd.read_csv(\"../cnpq/prod-levels.csv\")\n",
      "cnpq_authors = cnpq_authors.ix[:, ['Name', 'ShortName', 'CNPqLevel']]\n",
      "fullnames_list = [unidecode(x.decode(UTF8)).upper() for x in cnpq_authors['Name'].tolist()]\n",
      "shortnames_list = [unidecode(x.decode(UTF8)).upper() for x in cnpq_authors['ShortName'].tolist()]\n",
      "\n",
      "# First + last names\n",
      "simplenames_list = []\n",
      "\n",
      "# Names Pre-processing\n",
      "\n",
      "\n",
      "for fullname in fullnames_list:\n",
      "    \n",
      "    names = fullname.split()\n",
      "    simplename = names[0] + ' ' + names[-1]\n",
      "    simplenames_list.append(simplename)\n",
      "    \n",
      "# DBLP Authors\n",
      "with open('../dblp/dblp-sorted.pubsfile') as dblp_file, open('../dblp/cnpq-authors-dblpkeys.pubsfile', 'wb') as output:\n",
      "    selected_lines = []    \n",
      "    used_simplenames = Dict()\n",
      "    copy_pubs = False\n",
      "\n",
      "    for line in dblp_file:\n",
      "\n",
      "        if '\\t' in line:\n",
      "            if copy_pubs:\n",
      "                # Adding author's publications\n",
      "                selected_lines.append(line)\n",
      "            continue\n",
      "\n",
      "        # Reseting flags\n",
      "        copy_pubs = False\n",
      "        found = False\n",
      "        dblp_author = unidecode(line.strip('\\n').decode(UTF8)).upper()\n",
      "\n",
      "        # It is a name. Generating simplename for check.\n",
      "        names = dblp_author.split()\n",
      "        simplename = names[0] + ' ' + names[-1]\n",
      "\n",
      "        # Searching the new author             \n",
      "        # Heuristic: When there are more than one option for name,\n",
      "        #            choose the one with more publications        \n",
      "        if used_simplenames[simplename] == False and dblp_author in fullnames_list:\n",
      "            found = True\n",
      "        elif used_simplenames[simplename] == False and dblp_author in shortnames_list:\n",
      "            found = True\n",
      "            #line = line.strip('\\n') + ' (By ShortName)\\n'\n",
      "        elif used_simplenames[simplename] == False and dblp_author in simplenames_list:\n",
      "            found = True\n",
      "            #line = line.strip('\\n') + ' (By SimpleName)\\n'\n",
      "                \n",
      "        if not found: \n",
      "            continue\n",
      "        else:\n",
      "            # Adding author's name\n",
      "            selected_lines.append(line)\n",
      "            used_simplenames[simplename] = True\n",
      "            copy_pubs = True\n",
      "        \n",
      "    print(\"\\n--- Finished after %.3f seconds. ---\" % (time.time() - start_time))\n",
      "\n",
      "    for line in selected_lines:\n",
      "        output.write(line)\n"
     ],
     "language": "python",
     "metadata": {},
     "outputs": [
      {
       "output_type": "stream",
       "stream": "stdout",
       "text": [
        "\n",
        "--- Finished after 156.977 seconds. ---\n"
       ]
      }
     ],
     "prompt_number": 228
    },
    {
     "cell_type": "code",
     "collapsed": false,
     "input": [
      "a = 'Marcos Andr\u00e9 Gon\u00e7alves'.decode('utf-8')\n",
      "print type(a)\n",
      "print unidecode(a).lower()\n"
     ],
     "language": "python",
     "metadata": {},
     "outputs": [
      {
       "output_type": "stream",
       "stream": "stdout",
       "text": [
        "<type 'unicode'>\n",
        "marcos andre goncalves\n"
       ]
      }
     ],
     "prompt_number": 215
    },
    {
     "cell_type": "code",
     "collapsed": false,
     "input": [
      "# Bash generate sorted authors only\n",
      "# less cnpq-authors-dblpkeys.pubsfile | grep -P '\\t' -v | uniq | sort > cnpq-authors-only.txt\n",
      "\n",
      "# Wagner Meira Jr case\n",
      "\n",
      "# Item 3 Trello:\n",
      "# less cnpq-authors-dblpkeys.pubsfile | grep -Po '\\tconf/.*(?=/)|\\tjournals/.*(?=/)' | tr -d \\\\t | sort | uniq > cnpq-all-vkeys.txt"
     ],
     "language": "python",
     "metadata": {},
     "outputs": [],
     "prompt_number": 138
    }
   ],
   "metadata": {}
  }
 ]
}