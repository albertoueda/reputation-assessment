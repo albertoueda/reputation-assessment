{
 "metadata": {
  "name": "",
  "signature": "sha256:ff316f11c57368a70bfbc993b0c0c682f8b32ba3ba024a13f92ea73f5d440f06"
 },
 "nbformat": 3,
 "nbformat_minor": 0,
 "worksheets": [
  {
   "cells": [
    {
     "cell_type": "code",
     "collapsed": false,
     "input": [
      "%pylab inline\n",
      "\n",
      "import pandas as pd\n",
      "import numpy as np\n",
      "\n",
      "pd.set_option('html', False)"
     ],
     "language": "python",
     "metadata": {},
     "outputs": [
      {
       "output_type": "stream",
       "stream": "stdout",
       "text": [
        "Populating the interactive namespace from numpy and matplotlib\n"
       ]
      }
     ],
     "prompt_number": 60
    },
    {
     "cell_type": "code",
     "collapsed": false,
     "input": [
      "vkeys = pd.read_csv('../dblp/cnpq-all-vkeys.txt', header=None)\n",
      "confs = pd.read_csv('../dblp/dblp-conf-azlist.csv')\n",
      "journals = pd.read_csv('../dblp/dblp-journals-azlist2.csv')\n",
      "\n",
      "# Pre-processing columns names\n",
      "vkeys.columns = ['VKey']\n",
      "confs.rename(columns={'Unnamed: 0':'VKey'}, inplace=True)\n",
      "journals.rename(columns={'Unnamed: 0':'VKey', 'NameH1':'ShortNameAZList'}, inplace=True)\n",
      "all_dblp_venues = pd.concat([confs, journals])\n",
      "\n",
      "all_cnpq_authors_venues = pd.merge(vkeys, all_dblp_venues, how='left')\n",
      "\n",
      "all_cnpq_authors_venues.to_csv('../dblp/cnpq-authors-vkeys.csv')"
     ],
     "language": "python",
     "metadata": {},
     "outputs": [],
     "prompt_number": 98
    },
    {
     "cell_type": "code",
     "collapsed": false,
     "input": [],
     "language": "python",
     "metadata": {},
     "outputs": [],
     "prompt_number": 98
    },
    {
     "cell_type": "code",
     "collapsed": false,
     "input": [],
     "language": "python",
     "metadata": {},
     "outputs": []
    }
   ],
   "metadata": {}
  }
 ]
}