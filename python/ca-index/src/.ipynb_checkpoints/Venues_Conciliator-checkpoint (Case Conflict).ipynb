{
 "cells": [
  {
   "cell_type": "code",
   "execution_count": 256,
   "metadata": {
    "collapsed": false
   },
   "outputs": [
    {
     "name": "stdout",
     "output_type": "stream",
     "text": [
      "Populating the interactive namespace from numpy and matplotlib\n"
     ]
    }
   ],
   "source": [
    "%pylab inline\n",
    "\n",
    "import pandas as pd\n",
    "import numpy as np\n",
    "\n",
    "from unidecode import unidecode\n",
    "\n",
    "class Dict(dict):\n",
    "    def __missing__(self, key):\n",
    "            return False"
   ]
  },
  {
   "cell_type": "code",
   "execution_count": 409,
   "metadata": {
    "collapsed": false
   },
   "outputs": [],
   "source": [
    "dblp = pd.read_csv('../cnpq-authors-vkeys.csv')\n",
    "mas = pd.read_csv('../mas-venue-subdomain.csv')\n",
    "\n",
    "# Pre-processing tables\n",
    "def normalize(x):\n",
    "    return unidecode(str(x).decode('utf-8)')).lower()\n",
    "\n",
    "dblp.rename(columns={'VKey':'DBLPVenueKey', 'NameAZList':'DBLPName', 'ShortNameAZList':'DBLPShortName'}, inplace=True)\n",
    "dblp['DBLPShortName'] = dblp[dblp['DBLPShortName'].notnull()]['DBLPShortName'].apply(lambda x: normalize(x))\n",
    "dblp['DBLPName'] = dblp['DBLPName'].apply(lambda x: normalize(x))\n",
    "\n",
    "dblp['DBLPType'] = dblp['DBLPVenueKey'].apply(lambda x: 'C' if x.startswith('conf/') else 'J')\n",
    "dblp['DBLPMinVKey'] = dblp['DBLPVenueKey'].apply(lambda x: normalize(x).replace(\"conf/\", \"\").replace(\"journals/\", \"\"))\n",
    "\n",
    "mas.rename(columns={'VenueOldID':'MASID', 'FullName':'MASName', 'Type':'MASType', 'ShortName':'MASShortName', \n",
    "                    'SubDomainName':'MASSubDomainName'}, inplace=True)\n",
    "mas = mas.ix[:, ['MASID', 'MASType', 'MASShortName', 'MASName', 'DomainName', 'MASSubDomainName', 'DomainID', 'SubDomainID']]\n",
    "\n",
    "mas['MASShortName'] = mas[mas['MASShortName'].notnull()]['MASShortName'].apply(lambda x: normalize(x))\n",
    "mas['MASName'] = mas['MASName'].apply(lambda x: normalize(x))\n",
    "\n",
    "# For Tests\n",
    "# dblp = dblp.head(100)\n",
    "\n",
    "#[dblp['DBLPName'] == 'artificial intelligence in education']"
   ]
  },
  {
   "cell_type": "code",
   "execution_count": 410,
   "metadata": {
    "collapsed": false
   },
   "outputs": [
    {
     "name": "stdout",
     "output_type": "stream",
     "text": [
      "Distinct Type for:  human-computer interaction !!!\n",
      "Distinct Type for:  computational intelligence !!!\n",
      "Distinct Type for:  intelligent data analysis !!!\n",
      "Distinct Type for:  mobile information systems !!!\n",
      "Distinct Type for:  mobile information systems !!!\n",
      "Distinct Type for:  language resources and evaluation !!!\n",
      "Distinct Type for:  language resources and evaluation !!!\n",
      "Distinct Type for:  parallel computing !!!\n",
      "Distinct Type for:  pervasive and mobile computing !!!\n",
      "Distinct Type for:  operating systems review !!!\n",
      "Distinct Type for:  sigplan notices !!!\n",
      "Distinct Type for:  computational intelligence !!!\n",
      "Distinct Type for:  cluster computing !!!\n",
      "Distinct Type for:  intelligent data analysis !!!\n",
      "Distinct Type for:  operations research !!!\n",
      "Distinct Type for:  information retrieval !!!\n",
      "Distinct Type for:  language resources and evaluation !!!\n",
      "Distinct Type for:  multimedia systems !!!\n",
      "Distinct Type for:  parallel computing !!!\n",
      "Distinct Type for:  requirements engineering !!!\n",
      "Distinct Type for:  theoretical computer science !!!\n",
      "Distinct Type for:  vlsi design !!!\n",
      "Distinct Type for:  virtual reality !!!\n"
     ]
    }
   ],
   "source": [
    "result = pd.DataFrame()\n",
    "dblp_found = Dict()\n",
    "\n",
    "for index, row in dblp.iterrows():\n",
    "    dblp_key = row['DBLPVenueKey']\n",
    "    \n",
    "    if dblp_found[dblp_key] == 'True': continue \n",
    "    \n",
    "    # First attempt: By Venue Fullname    \n",
    "    dblp_name = row['DBLPName']\n",
    "    mas_rows = mas[mas['MASName'] == dblp_name]\n",
    "    mas_matches = len(mas_rows)\n",
    "    \n",
    "    # Fullname: 1-to-N from DBLP to MAS \n",
    "    for index, mas_row in mas_rows.iterrows(): \n",
    "        if row['DBLPType'] != mas_row['MASType']: \n",
    "            print 'Distinct Type for: ', mas_row['MASName'], '!!!'\n",
    "            continue\n",
    "\n",
    "        row['MASID'] = mas_row['MASID']\n",
    "        row['MASName'] = mas_row['MASName']\n",
    "        row['MASShortName'] = mas_row['MASShortName']\n",
    "        row['MASSubDomainName'] = mas_row['MASSubDomainName']\n",
    "        \n",
    "        result = result.append(row)\n",
    "\n",
    "    if mas_matches > 0:\n",
    "        dblp_found[dblp_key] = 'True'\n",
    "        continue\n",
    "\n",
    "    # Second attempt: By Venue Shortname    \n",
    "    dblp_shortname = row['DBLPShortName']\n",
    "    mas_rows = mas[mas['MASShortName'] == dblp_shortname]\n",
    "    mas_matches = len(mas_rows)\n",
    "    \n",
    "    # Shortname: 1-to-1 from DBLP to MAS \n",
    "    if mas_matches == 1:\n",
    "        if row['DBLPType'] != mas_rows['MASType'].item(): \n",
    "            print 'Distinct Type for: ', mas_rows['MASName'].item(), '!!!'\n",
    "            continue\n",
    "            \n",
    "        row['MASName'] = mas_rows['MASName'].item()\n",
    "        row['MASID'] = mas_rows['MASID'].item()\n",
    "        row['MASShortName'] = mas_rows['MASShortName'].item()\n",
    "        row['MASSubDomainName'] = mas_rows['MASSubDomainName'].item()\n",
    "        \n",
    "        result = result.append(row)\n",
    "        dblp_found[dblp_key] = 'True'\n",
    "        continue\n",
    "\n",
    "    # Append empty row if didnt find\n",
    "    result = result.append(row)\n",
    "    \n",
    "# Sort\n",
    "result.sort('DBLPVenueKey', inplace=True)\n",
    "#result.drop_duplicates('DBLPVenueKey', inplace=True)\n",
    "result.reset_index(inplace=True)\n",
    "\n",
    "# Writing result files\n",
    "result = result.ix[:, ['DBLPVenueKey', 'MASID', 'MASSubDomainName', 'MASShortName', 'DBLPShortName', 'MASName', 'DBLPName']]\n",
    "result.to_csv('../conciliated_venues_FULL.csv')\n",
    "\n",
    "mini_result = result.ix[:, ['DBLPVenueKey', 'MASID', 'MASSubDomainName']]\n",
    "mini_result.to_csv('../conciliated_venues.csv')"
   ]
  },
  {
   "cell_type": "code",
   "execution_count": null,
   "metadata": {
    "collapsed": false
   },
   "outputs": [],
   "source": [
    "result"
   ]
  },
  {
   "cell_type": "code",
   "execution_count": 401,
   "metadata": {
    "collapsed": false
   },
   "outputs": [],
   "source": []
  },
  {
   "cell_type": "code",
   "execution_count": 183,
   "metadata": {
    "collapsed": false
   },
   "outputs": [],
   "source": [
    "# H-Index File\n",
    "h = pd.read_csv('../cnpq/prod-levels.csv')\n",
    "h.rename(columns={'Name':'Author', 'H-index':'HIndex'}, inplace=True)\n",
    "h = h.ix[:, ['Author', 'HIndex']]\n",
    "h['HIndex'] = h[h['HIndex'].notnull()]['HIndex'].apply(lambda x: str(int(x)))\n",
    "#h.to_csv('../author-hindex.csv')"
   ]
  },
  {
   "cell_type": "code",
   "execution_count": 252,
   "metadata": {
    "collapsed": false
   },
   "outputs": [],
   "source": [
    "#result[result.groupby('DBLPName').count() > 1]"
   ]
  }
 ],
 "metadata": {
  "kernelspec": {
   "display_name": "Python 3",
   "language": "python",
   "name": "python3"
  },
  "language_info": {
   "codemirror_mode": {
    "name": "ipython",
    "version": 3
   },
   "file_extension": ".py",
   "mimetype": "text/x-python",
   "name": "python",
   "nbconvert_exporter": "python",
   "pygments_lexer": "ipython3",
   "version": "3.5.1"
  }
 },
 "nbformat": 4,
 "nbformat_minor": 0
}
