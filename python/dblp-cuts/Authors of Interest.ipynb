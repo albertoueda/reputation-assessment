{
 "cells": [
  {
   "cell_type": "markdown",
   "metadata": {},
   "source": [
    "# Authors of Interest\n",
    "\n",
    "Created in 2015-03-25 by Alberto Ueda"
   ]
  },
  {
   "cell_type": "code",
   "execution_count": 1,
   "metadata": {
    "collapsed": false
   },
   "outputs": [
    {
     "name": "stdout",
     "output_type": "stream",
     "text": [
      "Populating the interactive namespace from numpy and matplotlib\n"
     ]
    }
   ],
   "source": [
    "%pylab inline\n",
    "%matplotlib inline\n",
    "\n",
    "import pandas as pd\n",
    "import numpy as np\n",
    "import mmap\n",
    "import time\n",
    "import re\n",
    "\n",
    "from unidecode import unidecode\n",
    "UTF8 = 'utf-8'        \n",
    "\n",
    "class Dict(dict):\n",
    "    def __missing__(self, key):\n",
    "            return False\n",
    "\n",
    "#reload(sys)  # Solve the acentos problem, but create the terminal output problem\n",
    "#sys.setdefaultencoding(UTF8)\n",
    "\n",
    "mypath = '/mnt/hd0/alberto/Dropbox/ufmg-not-code/datasets/dblp/dblp-cuts/'\n",
    "# mypath = '/home/alberto/Dropbox/ufmg-not-code/datasets/dblp/dblp-cuts/'"
   ]
  },
  {
   "cell_type": "code",
   "execution_count": 8,
   "metadata": {
    "collapsed": false
   },
   "outputs": [
    {
     "data": {
      "text/html": [
       "<div>\n",
       "<table border=\"1\" class=\"dataframe\">\n",
       "  <thead>\n",
       "    <tr style=\"text-align: right;\">\n",
       "      <th></th>\n",
       "      <th>author</th>\n",
       "      <th>paper</th>\n",
       "    </tr>\n",
       "  </thead>\n",
       "  <tbody>\n",
       "    <tr>\n",
       "      <th>0</th>\n",
       "      <td>0</td>\n",
       "      <td>0</td>\n",
       "    </tr>\n",
       "    <tr>\n",
       "      <th>1</th>\n",
       "      <td>0</td>\n",
       "      <td>1</td>\n",
       "    </tr>\n",
       "    <tr>\n",
       "      <th>2</th>\n",
       "      <td>0</td>\n",
       "      <td>2</td>\n",
       "    </tr>\n",
       "    <tr>\n",
       "      <th>3</th>\n",
       "      <td>0</td>\n",
       "      <td>3</td>\n",
       "    </tr>\n",
       "    <tr>\n",
       "      <th>4</th>\n",
       "      <td>0</td>\n",
       "      <td>4</td>\n",
       "    </tr>\n",
       "  </tbody>\n",
       "</table>\n",
       "</div>"
      ],
      "text/plain": [
       "   author  paper\n",
       "0       0      0\n",
       "1       0      1\n",
       "2       0      2\n",
       "3       0      3\n",
       "4       0      4"
      ]
     },
     "execution_count": 8,
     "metadata": {},
     "output_type": "execute_result"
    }
   ],
   "source": [
    "a_p = pd.read_csv(mypath + \"../authorpaper.csv\", names=['author','paper'])#, nrows=17220)\n",
    "a_p.head()"
   ]
  },
  {
   "cell_type": "markdown",
   "metadata": {},
   "source": [
    "## Counting Publications"
   ]
  },
  {
   "cell_type": "code",
   "execution_count": 44,
   "metadata": {
    "collapsed": false
   },
   "outputs": [],
   "source": [
    "# Exec Time: 1 min\n",
    "p_counts = a_p.groupby('author').count()\n",
    "p_counts.columns = ['n_papers']\n",
    "p_counts.to_csv(mypath + 'author_num_papers.csv')"
   ]
  },
  {
   "cell_type": "code",
   "execution_count": 32,
   "metadata": {
    "collapsed": false
   },
   "outputs": [
    {
     "data": {
      "text/plain": [
       "1095"
      ]
     },
     "execution_count": 32,
     "metadata": {},
     "output_type": "execute_result"
    }
   ],
   "source": [
    "p_counts.ix[0]['paper'] # Expected: 1095"
   ]
  },
  {
   "cell_type": "code",
   "execution_count": 38,
   "metadata": {
    "collapsed": false
   },
   "outputs": [
    {
     "data": {
      "text/plain": [
       "1182692"
      ]
     },
     "execution_count": 38,
     "metadata": {},
     "output_type": "execute_result"
    }
   ],
   "source": [
    "len(p_counts[p_counts['paper'] < 5])"
   ]
  },
  {
   "cell_type": "markdown",
   "metadata": {},
   "source": [
    "## Counting Coauthorships\n"
   ]
  },
  {
   "cell_type": "code",
   "execution_count": 2,
   "metadata": {
    "collapsed": false
   },
   "outputs": [
    {
     "data": {
      "text/html": [
       "<div>\n",
       "<table border=\"1\" class=\"dataframe\">\n",
       "  <thead>\n",
       "    <tr style=\"text-align: right;\">\n",
       "      <th></th>\n",
       "      <th>author</th>\n",
       "      <th>paper</th>\n",
       "    </tr>\n",
       "  </thead>\n",
       "  <tbody>\n",
       "    <tr>\n",
       "      <th>0</th>\n",
       "      <td>0</td>\n",
       "      <td>0</td>\n",
       "    </tr>\n",
       "    <tr>\n",
       "      <th>1</th>\n",
       "      <td>0</td>\n",
       "      <td>1</td>\n",
       "    </tr>\n",
       "    <tr>\n",
       "      <th>2</th>\n",
       "      <td>0</td>\n",
       "      <td>2</td>\n",
       "    </tr>\n",
       "    <tr>\n",
       "      <th>3</th>\n",
       "      <td>0</td>\n",
       "      <td>3</td>\n",
       "    </tr>\n",
       "    <tr>\n",
       "      <th>4</th>\n",
       "      <td>0</td>\n",
       "      <td>4</td>\n",
       "    </tr>\n",
       "  </tbody>\n",
       "</table>\n",
       "</div>"
      ],
      "text/plain": [
       "   author  paper\n",
       "0       0      0\n",
       "1       0      1\n",
       "2       0      2\n",
       "3       0      3\n",
       "4       0      4"
      ]
     },
     "execution_count": 2,
     "metadata": {},
     "output_type": "execute_result"
    }
   ],
   "source": [
    "a_p = pd.read_csv(mypath + \"../authorpaper.csv\", names=['author','paper'])#, nrows=17220)\n",
    "a_p.head()"
   ]
  },
  {
   "cell_type": "code",
   "execution_count": 3,
   "metadata": {
    "collapsed": false
   },
   "outputs": [
    {
     "data": {
      "text/plain": [
       "paper\n",
       "0                        [0, 189099]\n",
       "1           [0, 2029, 44493, 246705]\n",
       "2                 [0, 22572, 111477]\n",
       "3                            [0, 21]\n",
       "4    [0, 4590, 10861, 20004, 258270]\n",
       "Name: author, dtype: object"
      ]
     },
     "execution_count": 3,
     "metadata": {},
     "output_type": "execute_result"
    }
   ],
   "source": [
    "# this block takes a long time to run (5min)\n",
    "groups = a_p.groupby('paper')['author'].apply(list) \n",
    "groups.head()"
   ]
  },
  {
   "cell_type": "code",
   "execution_count": 5,
   "metadata": {
    "collapsed": false
   },
   "outputs": [],
   "source": [
    "# Saving output...\n",
    "groups.to_csv(mypath + 'paper-authors.csv')"
   ]
  },
  {
   "cell_type": "code",
   "execution_count": 10,
   "metadata": {
    "collapsed": false
   },
   "outputs": [],
   "source": [
    "# Really counting\n",
    "count = Dict()\n",
    "\n",
    "def connect_coauthors(coauthors):\n",
    "    for author1 in coauthors: \n",
    "        for author2 in coauthors:\n",
    "            if author1 < author2:                                 \n",
    "                key = str(author1) + ',' + str(author2);\n",
    "                if count[key] == False: \n",
    "                    count[key] = 1\n",
    "                else:\n",
    "                    count[key] += 1                                                        \n",
    "                # if count[key] > 1: print (key, ' --> ', count[key])               \n",
    "                 \n",
    "k = 0\n",
    "for paper_coauthors in groups.values:\n",
    "    #if k > 29: break  #max:4551362 # this takes a long time to run\n",
    "    k += 1\n",
    "    connect_coauthors(paper_coauthors)            \n",
    "        \n",
    "# with open(mypath + 'coauthorships.csv', 'w') as f:    "
   ]
  },
  {
   "cell_type": "code",
   "execution_count": 13,
   "metadata": {
    "collapsed": false
   },
   "outputs": [],
   "source": [
    "# Writing in file\n",
    "coauthorships = pd.DataFrame.from_dict(list(count.items()))\n",
    "coauthorships.columns = ['author1,author2', 'num_papers']\n",
    "coauthorships.to_csv(mypath + 'coauthorships.csv', index=False)\n",
    "\n",
    "# Remove double quotes with: $ sed -i 's/\\\"//g' coauthorships.csv (30s)"
   ]
  }
 ],
 "metadata": {
  "kernelspec": {
   "display_name": "Python 3",
   "language": "python",
   "name": "python3"
  },
  "language_info": {
   "codemirror_mode": {
    "name": "ipython",
    "version": 3
   },
   "file_extension": ".py",
   "mimetype": "text/x-python",
   "name": "python",
   "nbconvert_exporter": "python",
   "pygments_lexer": "ipython3",
   "version": "3.5.1"
  }
 },
 "nbformat": 4,
 "nbformat_minor": 0
}
