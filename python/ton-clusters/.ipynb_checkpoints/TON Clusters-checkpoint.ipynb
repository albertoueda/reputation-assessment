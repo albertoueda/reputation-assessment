{
 "cells": [
  {
   "cell_type": "markdown",
   "metadata": {},
   "source": [
    "### TON Clusters\n",
    "\n",
    "\n",
    "by Alberto Ueda"
   ]
  },
  {
   "cell_type": "code",
   "execution_count": 1,
   "metadata": {
    "collapsed": false
   },
   "outputs": [
    {
     "name": "stdout",
     "output_type": "stream",
     "text": [
      "Populating the interactive namespace from numpy and matplotlib\n"
     ]
    }
   ],
   "source": [
    "%pylab inline\n",
    "%matplotlib inline\n",
    "\n",
    "import pandas as pd\n",
    "import numpy as np\n",
    "import mmap\n",
    "import time\n",
    "import re\n",
    "\n",
    "from unidecode import unidecode\n",
    "UTF8 = 'utf-8'        \n",
    "\n",
    "class Dict(dict):\n",
    "    def __missing__(self, key):\n",
    "            return False\n",
    "\n",
    "#reload(sys)  # Solve the acentos problem, but create the terminal output problem\n",
    "#sys.setdefaultencoding(UTF8)\n",
    "\n",
    "mypath = '/mnt/hd0/alberto/Dropbox/ufmg-not-code/datasets/dblp/cn-infocom-clusters/' # UFMG\n",
    "#mypath = '/home/alberto/Dropbox/ufmg-not-code/datasets/dblp/ton-clusters/' # Home"
   ]
  },
  {
   "cell_type": "code",
   "execution_count": 2,
   "metadata": {
    "collapsed": false
   },
   "outputs": [
    {
     "data": {
      "text/html": [
       "<div>\n",
       "<table border=\"1\" class=\"dataframe\">\n",
       "  <thead>\n",
       "    <tr style=\"text-align: right;\">\n",
       "      <th></th>\n",
       "      <th>author</th>\n",
       "      <th>paper</th>\n",
       "    </tr>\n",
       "  </thead>\n",
       "  <tbody>\n",
       "    <tr>\n",
       "      <th>0</th>\n",
       "      <td>0</td>\n",
       "      <td>0</td>\n",
       "    </tr>\n",
       "    <tr>\n",
       "      <th>1</th>\n",
       "      <td>0</td>\n",
       "      <td>1</td>\n",
       "    </tr>\n",
       "    <tr>\n",
       "      <th>2</th>\n",
       "      <td>0</td>\n",
       "      <td>2</td>\n",
       "    </tr>\n",
       "    <tr>\n",
       "      <th>3</th>\n",
       "      <td>0</td>\n",
       "      <td>3</td>\n",
       "    </tr>\n",
       "    <tr>\n",
       "      <th>4</th>\n",
       "      <td>0</td>\n",
       "      <td>4</td>\n",
       "    </tr>\n",
       "  </tbody>\n",
       "</table>\n",
       "</div>"
      ],
      "text/plain": [
       "   author  paper\n",
       "0       0      0\n",
       "1       0      1\n",
       "2       0      2\n",
       "3       0      3\n",
       "4       0      4"
      ]
     },
     "execution_count": 2,
     "metadata": {},
     "output_type": "execute_result"
    }
   ],
   "source": [
    "a_p = pd.read_csv(mypath + \"../authorpaper.csv\", names=['author','paper'])#, nrows=17220)\n",
    "a_p.head()"
   ]
  },
  {
   "cell_type": "markdown",
   "metadata": {},
   "source": [
    "#### IDs ---> Names"
   ]
  },
  {
   "cell_type": "code",
   "execution_count": 73,
   "metadata": {
    "collapsed": false
   },
   "outputs": [
    {
     "name": "stdout",
     "output_type": "stream",
     "text": [
      "H. Vincent Poor\n"
     ]
    }
   ],
   "source": [
    "all_names = pd.read_csv(mypath + \"../all_names.csv\")\n",
    "author_id = 0\n",
    "print (all_names.ix[author_id]['a_name']) # Expected: H. Vincent Poor"
   ]
  },
  {
   "cell_type": "code",
   "execution_count": 4,
   "metadata": {
    "collapsed": false
   },
   "outputs": [
    {
     "data": {
      "text/html": [
       "<div style=\"max-height:1000px;max-width:1500px;overflow:auto;\">\n",
       "<table border=\"1\" class=\"dataframe\">\n",
       "  <thead>\n",
       "    <tr style=\"text-align: right;\">\n",
       "      <th></th>\n",
       "      <th>paper</th>\n",
       "      <th>conf</th>\n",
       "      <th>year</th>\n",
       "      <th>x</th>\n",
       "    </tr>\n",
       "  </thead>\n",
       "  <tbody>\n",
       "    <tr>\n",
       "      <th>0</th>\n",
       "      <td>   933</td>\n",
       "      <td> journals/ton/ThejaswiZPPZ10</td>\n",
       "      <td> 2010</td>\n",
       "      <td> 86</td>\n",
       "    </tr>\n",
       "    <tr>\n",
       "      <th>1</th>\n",
       "      <td>  1542</td>\n",
       "      <td>   journals/ton/WangKAGLZW13</td>\n",
       "      <td> 2013</td>\n",
       "      <td> 86</td>\n",
       "    </tr>\n",
       "    <tr>\n",
       "      <th>2</th>\n",
       "      <td>  4832</td>\n",
       "      <td>      journals/ton/HeSGZZG08</td>\n",
       "      <td> 2008</td>\n",
       "      <td> 86</td>\n",
       "    </tr>\n",
       "    <tr>\n",
       "      <th>3</th>\n",
       "      <td> 11683</td>\n",
       "      <td>        journals/ton/YangS15</td>\n",
       "      <td> 2015</td>\n",
       "      <td> 86</td>\n",
       "    </tr>\n",
       "    <tr>\n",
       "      <th>4</th>\n",
       "      <td> 11713</td>\n",
       "      <td>       journals/ton/DingYX12</td>\n",
       "      <td> 2012</td>\n",
       "      <td> 86</td>\n",
       "    </tr>\n",
       "  </tbody>\n",
       "</table>\n",
       "</div>"
      ],
      "text/plain": [
       "   paper                         conf  year   x\n",
       "0    933  journals/ton/ThejaswiZPPZ10  2010  86\n",
       "1   1542    journals/ton/WangKAGLZW13  2013  86\n",
       "2   4832       journals/ton/HeSGZZG08  2008  86\n",
       "3  11683         journals/ton/YangS15  2015  86\n",
       "4  11713        journals/ton/DingYX12  2012  86"
      ]
     },
     "execution_count": 4,
     "metadata": {},
     "output_type": "execute_result"
    }
   ],
   "source": [
    "# To find TON papers: \n",
    "# grep -n 'journals/ton/' ../papers.csv > papers.csv.ton\n",
    "# sed -i -- 's/:/\\t/g' papers.csv.ton                              # replace ':' from grep by tab\n",
    "# awk '{$1=$1-1} {print}' papers.csv.ton > papers.csv.ton.fixed    # convert paper id to 0-index base\n",
    "# sed -i -- 's/\\ /\\t/g' papers.csv.ton.fixed                       # replace generated spaces for tabs again \n",
    "\n",
    "p_ton = pd.read_csv(mypath + \"papers.csv.ton.fixed\", header=None, names=['paper', 'conf', 'year', 'x'], sep='\\t')#, nrows=17220)\n",
    "p_ton.head()"
   ]
  },
  {
   "cell_type": "code",
   "execution_count": 5,
   "metadata": {
    "collapsed": false
   },
   "outputs": [
    {
     "data": {
      "text/html": [
       "<div style=\"max-height:1000px;max-width:1500px;overflow:auto;\">\n",
       "<table border=\"1\" class=\"dataframe\">\n",
       "  <thead>\n",
       "    <tr style=\"text-align: right;\">\n",
       "      <th></th>\n",
       "      <th>paper</th>\n",
       "      <th>conf</th>\n",
       "      <th>year</th>\n",
       "      <th>x</th>\n",
       "      <th>author</th>\n",
       "      <th>a_name</th>\n",
       "    </tr>\n",
       "  </thead>\n",
       "  <tbody>\n",
       "    <tr>\n",
       "      <th>0</th>\n",
       "      <td>    933</td>\n",
       "      <td> journals/ton/ThejaswiZPPZ10</td>\n",
       "      <td> 2010</td>\n",
       "      <td> 86</td>\n",
       "      <td>      0</td>\n",
       "      <td>               H. Vincent Poor</td>\n",
       "    </tr>\n",
       "    <tr>\n",
       "      <th>1</th>\n",
       "      <td>    933</td>\n",
       "      <td> journals/ton/ThejaswiZPPZ10</td>\n",
       "      <td> 2010</td>\n",
       "      <td> 86</td>\n",
       "      <td>   3173</td>\n",
       "      <td>                 Junshan Zhang</td>\n",
       "    </tr>\n",
       "    <tr>\n",
       "      <th>2</th>\n",
       "      <td> 207519</td>\n",
       "      <td>      journals/ton/ChoiJZS14</td>\n",
       "      <td> 2014</td>\n",
       "      <td> 86</td>\n",
       "      <td>   3173</td>\n",
       "      <td>                 Junshan Zhang</td>\n",
       "    </tr>\n",
       "    <tr>\n",
       "      <th>3</th>\n",
       "      <td> 207632</td>\n",
       "      <td>     journals/ton/QianZZSJ13</td>\n",
       "      <td> 2013</td>\n",
       "      <td> 86</td>\n",
       "      <td>   3173</td>\n",
       "      <td>                 Junshan Zhang</td>\n",
       "    </tr>\n",
       "    <tr>\n",
       "      <th>4</th>\n",
       "      <td> 235299</td>\n",
       "      <td>     journals/ton/YangKZCT13</td>\n",
       "      <td> 2013</td>\n",
       "      <td> 86</td>\n",
       "      <td>   3173</td>\n",
       "      <td>                 Junshan Zhang</td>\n",
       "    </tr>\n",
       "    <tr>\n",
       "      <th>5</th>\n",
       "      <td>    933</td>\n",
       "      <td> journals/ton/ThejaswiZPPZ10</td>\n",
       "      <td> 2010</td>\n",
       "      <td> 86</td>\n",
       "      <td>  10669</td>\n",
       "      <td>                    Dong Zheng</td>\n",
       "    </tr>\n",
       "    <tr>\n",
       "      <th>6</th>\n",
       "      <td> 207632</td>\n",
       "      <td>     journals/ton/QianZZSJ13</td>\n",
       "      <td> 2013</td>\n",
       "      <td> 86</td>\n",
       "      <td>  10669</td>\n",
       "      <td>                    Dong Zheng</td>\n",
       "    </tr>\n",
       "    <tr>\n",
       "      <th>7</th>\n",
       "      <td>    933</td>\n",
       "      <td> journals/ton/ThejaswiZPPZ10</td>\n",
       "      <td> 2010</td>\n",
       "      <td> 86</td>\n",
       "      <td>  29139</td>\n",
       "      <td>                    Man-On Pun</td>\n",
       "    </tr>\n",
       "    <tr>\n",
       "      <th>8</th>\n",
       "      <td>    933</td>\n",
       "      <td> journals/ton/ThejaswiZPPZ10</td>\n",
       "      <td> 2010</td>\n",
       "      <td> 86</td>\n",
       "      <td> 155791</td>\n",
       "      <td> Chandrashekhar Thejaswi P. S.</td>\n",
       "    </tr>\n",
       "    <tr>\n",
       "      <th>9</th>\n",
       "      <td>   1542</td>\n",
       "      <td>   journals/ton/WangKAGLZW13</td>\n",
       "      <td> 2013</td>\n",
       "      <td> 86</td>\n",
       "      <td>      1</td>\n",
       "      <td>                      Wei Wang</td>\n",
       "    </tr>\n",
       "  </tbody>\n",
       "</table>\n",
       "</div>"
      ],
      "text/plain": [
       "    paper                         conf  year   x  author  \\\n",
       "0     933  journals/ton/ThejaswiZPPZ10  2010  86       0   \n",
       "1     933  journals/ton/ThejaswiZPPZ10  2010  86    3173   \n",
       "2  207519       journals/ton/ChoiJZS14  2014  86    3173   \n",
       "3  207632      journals/ton/QianZZSJ13  2013  86    3173   \n",
       "4  235299      journals/ton/YangKZCT13  2013  86    3173   \n",
       "5     933  journals/ton/ThejaswiZPPZ10  2010  86   10669   \n",
       "6  207632      journals/ton/QianZZSJ13  2013  86   10669   \n",
       "7     933  journals/ton/ThejaswiZPPZ10  2010  86   29139   \n",
       "8     933  journals/ton/ThejaswiZPPZ10  2010  86  155791   \n",
       "9    1542    journals/ton/WangKAGLZW13  2013  86       1   \n",
       "\n",
       "                          a_name  \n",
       "0                H. Vincent Poor  \n",
       "1                  Junshan Zhang  \n",
       "2                  Junshan Zhang  \n",
       "3                  Junshan Zhang  \n",
       "4                  Junshan Zhang  \n",
       "5                     Dong Zheng  \n",
       "6                     Dong Zheng  \n",
       "7                     Man-On Pun  \n",
       "8  Chandrashekhar Thejaswi P. S.  \n",
       "9                       Wei Wang  "
      ]
     },
     "execution_count": 5,
     "metadata": {},
     "output_type": "execute_result"
    }
   ],
   "source": [
    "a_ton = pd.merge(p_ton, a_p, how='left', on='paper').merge(all_names, on='author', how='left')\n",
    "a_ton.head(10)"
   ]
  },
  {
   "cell_type": "code",
   "execution_count": 8,
   "metadata": {
    "collapsed": false
   },
   "outputs": [],
   "source": [
    "a_ton[a_ton['a_name'].str.contains('Edmundo')]\n",
    "# Saving data...\n",
    "# a_ton.to_csv(mypath + 'ton_all_authors_and_papers.csv', index=False)"
   ]
  },
  {
   "cell_type": "code",
   "execution_count": 13,
   "metadata": {
    "collapsed": false
   },
   "outputs": [
    {
     "data": {
      "text/html": [
       "<div style=\"max-height:1000px;max-width:1500px;overflow:auto;\">\n",
       "<table border=\"1\" class=\"dataframe\">\n",
       "  <thead>\n",
       "    <tr style=\"text-align: right;\">\n",
       "      <th></th>\n",
       "      <th>index</th>\n",
       "      <th>author</th>\n",
       "      <th>a_name</th>\n",
       "    </tr>\n",
       "  </thead>\n",
       "  <tbody>\n",
       "    <tr>\n",
       "      <th>0</th>\n",
       "      <td> 0</td>\n",
       "      <td>      0</td>\n",
       "      <td>               H. Vincent Poor</td>\n",
       "    </tr>\n",
       "    <tr>\n",
       "      <th>1</th>\n",
       "      <td> 1</td>\n",
       "      <td>   3173</td>\n",
       "      <td>                 Junshan Zhang</td>\n",
       "    </tr>\n",
       "    <tr>\n",
       "      <th>2</th>\n",
       "      <td> 5</td>\n",
       "      <td>  10669</td>\n",
       "      <td>                    Dong Zheng</td>\n",
       "    </tr>\n",
       "    <tr>\n",
       "      <th>3</th>\n",
       "      <td> 7</td>\n",
       "      <td>  29139</td>\n",
       "      <td>                    Man-On Pun</td>\n",
       "    </tr>\n",
       "    <tr>\n",
       "      <th>4</th>\n",
       "      <td> 8</td>\n",
       "      <td> 155791</td>\n",
       "      <td> Chandrashekhar Thejaswi P. S.</td>\n",
       "    </tr>\n",
       "  </tbody>\n",
       "</table>\n",
       "</div>"
      ],
      "text/plain": [
       "   index  author                         a_name\n",
       "0      0       0                H. Vincent Poor\n",
       "1      1    3173                  Junshan Zhang\n",
       "2      5   10669                     Dong Zheng\n",
       "3      7   29139                     Man-On Pun\n",
       "4      8  155791  Chandrashekhar Thejaswi P. S."
      ]
     },
     "execution_count": 13,
     "metadata": {},
     "output_type": "execute_result"
    }
   ],
   "source": [
    "a_ton_unique = a_ton[['author','a_name']].drop_duplicates().reset_index()\n",
    "a_ton_unique.head()"
   ]
  },
  {
   "cell_type": "code",
   "execution_count": 10,
   "metadata": {
    "collapsed": false
   },
   "outputs": [
    {
     "name": "stdout",
     "output_type": "stream",
     "text": [
      "6708 3776\n"
     ]
    }
   ],
   "source": [
    "print len(a_ton), len(a_ton_unique) # Expected: 6708 3776"
   ]
  },
  {
   "cell_type": "code",
   "execution_count": 14,
   "metadata": {
    "collapsed": false
   },
   "outputs": [
    {
     "data": {
      "text/html": [
       "<div style=\"max-height:1000px;max-width:1500px;overflow:auto;\">\n",
       "<table border=\"1\" class=\"dataframe\">\n",
       "  <thead>\n",
       "    <tr style=\"text-align: right;\">\n",
       "      <th></th>\n",
       "      <th>index</th>\n",
       "      <th>author</th>\n",
       "      <th>a_name</th>\n",
       "    </tr>\n",
       "  </thead>\n",
       "  <tbody>\n",
       "    <tr>\n",
       "      <th>455</th>\n",
       "      <td> 1242</td>\n",
       "      <td> 83542</td>\n",
       "      <td> Kyoungwon Suh</td>\n",
       "    </tr>\n",
       "  </tbody>\n",
       "</table>\n",
       "</div>"
      ],
      "text/plain": [
       "     index  author         a_name\n",
       "455   1242   83542  Kyoungwon Suh"
      ]
     },
     "execution_count": 14,
     "metadata": {},
     "output_type": "execute_result"
    }
   ],
   "source": [
    "a_ton_unique[a_ton_unique['author'] == 83542]"
   ]
  },
  {
   "cell_type": "code",
   "execution_count": 17,
   "metadata": {
    "collapsed": false
   },
   "outputs": [],
   "source": [
    "k = 0\n",
    "for index,row in a_ton_unique.iterrows(): # try to use 'apply' later :)\n",
    "    #if (k == 5): break\n",
    "    k+=1        \n",
    "    \n",
    "    a_score = len(a_ton[a_ton['author'] == row['author']])       \n",
    "    a_ton_unique.set_value(index, 'score', a_score)\n",
    "    \n",
    "a_ton_unique.head()\n",
    "\n",
    "# Saving data...\n",
    "# a_ton_unique[['author','a_name', 'score']].to_csv(mypath + 'ton_authors_unique.csv', index=False)"
   ]
  },
  {
   "cell_type": "code",
   "execution_count": 18,
   "metadata": {
    "collapsed": false
   },
   "outputs": [
    {
     "data": {
      "text/html": [
       "<div style=\"max-height:1000px;max-width:1500px;overflow:auto;\">\n",
       "<table border=\"1\" class=\"dataframe\">\n",
       "  <thead>\n",
       "    <tr style=\"text-align: right;\">\n",
       "      <th></th>\n",
       "      <th>paper</th>\n",
       "      <th>conf</th>\n",
       "      <th>year</th>\n",
       "      <th>x</th>\n",
       "      <th>author</th>\n",
       "      <th>a_name</th>\n",
       "    </tr>\n",
       "  </thead>\n",
       "  <tbody>\n",
       "    <tr>\n",
       "      <th>1</th>\n",
       "      <td>    933</td>\n",
       "      <td> journals/ton/ThejaswiZPPZ10</td>\n",
       "      <td> 2010</td>\n",
       "      <td> 86</td>\n",
       "      <td> 3173</td>\n",
       "      <td> Junshan Zhang</td>\n",
       "    </tr>\n",
       "    <tr>\n",
       "      <th>2</th>\n",
       "      <td> 207519</td>\n",
       "      <td>      journals/ton/ChoiJZS14</td>\n",
       "      <td> 2014</td>\n",
       "      <td> 86</td>\n",
       "      <td> 3173</td>\n",
       "      <td> Junshan Zhang</td>\n",
       "    </tr>\n",
       "    <tr>\n",
       "      <th>3</th>\n",
       "      <td> 207632</td>\n",
       "      <td>     journals/ton/QianZZSJ13</td>\n",
       "      <td> 2013</td>\n",
       "      <td> 86</td>\n",
       "      <td> 3173</td>\n",
       "      <td> Junshan Zhang</td>\n",
       "    </tr>\n",
       "    <tr>\n",
       "      <th>4</th>\n",
       "      <td> 235299</td>\n",
       "      <td>     journals/ton/YangKZCT13</td>\n",
       "      <td> 2013</td>\n",
       "      <td> 86</td>\n",
       "      <td> 3173</td>\n",
       "      <td> Junshan Zhang</td>\n",
       "    </tr>\n",
       "  </tbody>\n",
       "</table>\n",
       "</div>"
      ],
      "text/plain": [
       "    paper                         conf  year   x  author         a_name\n",
       "1     933  journals/ton/ThejaswiZPPZ10  2010  86    3173  Junshan Zhang\n",
       "2  207519       journals/ton/ChoiJZS14  2014  86    3173  Junshan Zhang\n",
       "3  207632      journals/ton/QianZZSJ13  2013  86    3173  Junshan Zhang\n",
       "4  235299      journals/ton/YangKZCT13  2013  86    3173  Junshan Zhang"
      ]
     },
     "execution_count": 18,
     "metadata": {},
     "output_type": "execute_result"
    }
   ],
   "source": [
    "a_ton[a_ton['author'] == 3173] # Expected 4 papers"
   ]
  },
  {
   "cell_type": "code",
   "execution_count": 19,
   "metadata": {
    "collapsed": false
   },
   "outputs": [
    {
     "data": {
      "text/plain": [
       "True"
      ]
     },
     "execution_count": 19,
     "metadata": {},
     "output_type": "execute_result"
    }
   ],
   "source": [
    "list_a_ton = a_ton_unique['author'].tolist()\n",
    "10540 in list_a_ton"
   ]
  },
  {
   "cell_type": "code",
   "execution_count": 20,
   "metadata": {
    "collapsed": false
   },
   "outputs": [
    {
     "data": {
      "text/html": [
       "<div style=\"max-height:1000px;max-width:1500px;overflow:auto;\">\n",
       "<table border=\"1\" class=\"dataframe\">\n",
       "  <thead>\n",
       "    <tr style=\"text-align: right;\">\n",
       "      <th></th>\n",
       "      <th>index</th>\n",
       "      <th>author</th>\n",
       "      <th>a_name</th>\n",
       "      <th>score</th>\n",
       "    </tr>\n",
       "  </thead>\n",
       "  <tbody>\n",
       "    <tr>\n",
       "      <th>19  </th>\n",
       "      <td>   27</td>\n",
       "      <td>  550</td>\n",
       "      <td>      Ness B. Shroff</td>\n",
       "      <td> 44</td>\n",
       "    </tr>\n",
       "    <tr>\n",
       "      <th>333 </th>\n",
       "      <td>  906</td>\n",
       "      <td> 1915</td>\n",
       "      <td>          R. Srikant</td>\n",
       "      <td> 32</td>\n",
       "    </tr>\n",
       "    <tr>\n",
       "      <th>48  </th>\n",
       "      <td>  141</td>\n",
       "      <td>  211</td>\n",
       "      <td>   Donald F. Towsley</td>\n",
       "      <td> 29</td>\n",
       "    </tr>\n",
       "    <tr>\n",
       "      <th>389 </th>\n",
       "      <td> 1062</td>\n",
       "      <td>  242</td>\n",
       "      <td>     Ian F. Akyildiz</td>\n",
       "      <td> 26</td>\n",
       "    </tr>\n",
       "    <tr>\n",
       "      <th>1304</th>\n",
       "      <td> 3155</td>\n",
       "      <td> 5116</td>\n",
       "      <td>        Reuven Cohen</td>\n",
       "      <td> 24</td>\n",
       "    </tr>\n",
       "    <tr>\n",
       "      <th>678 </th>\n",
       "      <td> 1747</td>\n",
       "      <td> 1846</td>\n",
       "      <td>       Eytan Modiano</td>\n",
       "      <td> 24</td>\n",
       "    </tr>\n",
       "    <tr>\n",
       "      <th>492 </th>\n",
       "      <td> 1316</td>\n",
       "      <td>  465</td>\n",
       "      <td> Biswanath Mukherjee</td>\n",
       "      <td> 24</td>\n",
       "    </tr>\n",
       "    <tr>\n",
       "      <th>61  </th>\n",
       "      <td>  185</td>\n",
       "      <td>   42</td>\n",
       "      <td>        Kang G. Shin</td>\n",
       "      <td> 22</td>\n",
       "    </tr>\n",
       "    <tr>\n",
       "      <th>1582</th>\n",
       "      <td> 3692</td>\n",
       "      <td> 4278</td>\n",
       "      <td>      T. V. Lakshman</td>\n",
       "      <td> 21</td>\n",
       "    </tr>\n",
       "    <tr>\n",
       "      <th>1221</th>\n",
       "      <td> 2961</td>\n",
       "      <td> 4819</td>\n",
       "      <td>  Edward W. Knightly</td>\n",
       "      <td> 20</td>\n",
       "    </tr>\n",
       "  </tbody>\n",
       "</table>\n",
       "</div>"
      ],
      "text/plain": [
       "      index  author               a_name  score\n",
       "19       27     550       Ness B. Shroff     44\n",
       "333     906    1915           R. Srikant     32\n",
       "48      141     211    Donald F. Towsley     29\n",
       "389    1062     242      Ian F. Akyildiz     26\n",
       "1304   3155    5116         Reuven Cohen     24\n",
       "678    1747    1846        Eytan Modiano     24\n",
       "492    1316     465  Biswanath Mukherjee     24\n",
       "61      185      42         Kang G. Shin     22\n",
       "1582   3692    4278       T. V. Lakshman     21\n",
       "1221   2961    4819   Edward W. Knightly     20"
      ]
     },
     "execution_count": 20,
     "metadata": {},
     "output_type": "execute_result"
    }
   ],
   "source": [
    "a_ton_unique.sort('score', inplace=True, ascending=False)\n",
    "a_ton_unique.head(10)\n",
    "\n",
    "# Saving data...\n",
    "# a_ton_unique[['author','a_name', 'score']].to_csv(mypath + 'ton_authors_sorted.csv', index=False)"
   ]
  },
  {
   "cell_type": "code",
   "execution_count": 21,
   "metadata": {
    "collapsed": false
   },
   "outputs": [
    {
     "data": {
      "text/plain": [
       "3776"
      ]
     },
     "execution_count": 21,
     "metadata": {},
     "output_type": "execute_result"
    }
   ],
   "source": [
    "len(a_ton_unique)"
   ]
  },
  {
   "cell_type": "code",
   "execution_count": null,
   "metadata": {
    "collapsed": false
   },
   "outputs": [],
   "source": [
    "# author -> all_coauthors\n",
    "coauthors = Dict()\n",
    "with open(mypath + '../coauthors.csv.unique') as f:       # Format: a b\\na c \n",
    "    k = 0    \n",
    "    for line in f.readlines():        \n",
    "        # if (k == 1000000): break    # full exec. time ~1min\n",
    "        k+=1       \n",
    "        \n",
    "        authors = line.split()        \n",
    "        author1 = int(authors[0])\n",
    "        author2 = int(authors[1])\n",
    "        \n",
    "        if coauthors[author1] == False: coauthors[author1] = []            \n",
    "        coauthors[author1].append(author2)    \n",
    "        \n",
    "        if coauthors[author2] == False: coauthors[author2] = []            \n",
    "        coauthors[author2].append(author1)        "
   ]
  },
  {
   "cell_type": "code",
   "execution_count": 4,
   "metadata": {
    "collapsed": false
   },
   "outputs": [],
   "source": [
    "# Saving data...\n",
    "with open(mypath + 'author-coauthors.tsv', 'w') as f:    \n",
    "    for key, values in coauthors.items():\n",
    "        f.write(str(key))\n",
    "        for value in values:\n",
    "            f.write('\\t' + str(value))\n",
    "        f.write('\\n')\n"
   ]
  },
  {
   "cell_type": "code",
   "execution_count": 40,
   "metadata": {
    "collapsed": false
   },
   "outputs": [
    {
     "data": {
      "text/html": [
       "<div>\n",
       "<table border=\"1\" class=\"dataframe\">\n",
       "  <thead>\n",
       "    <tr style=\"text-align: right;\">\n",
       "      <th></th>\n",
       "      <th>author</th>\n",
       "      <th>n_papers</th>\n",
       "    </tr>\n",
       "  </thead>\n",
       "  <tbody>\n",
       "    <tr>\n",
       "      <th>0</th>\n",
       "      <td>0</td>\n",
       "      <td>1095</td>\n",
       "    </tr>\n",
       "    <tr>\n",
       "      <th>1</th>\n",
       "      <td>1</td>\n",
       "      <td>1041</td>\n",
       "    </tr>\n",
       "    <tr>\n",
       "      <th>2</th>\n",
       "      <td>2</td>\n",
       "      <td>983</td>\n",
       "    </tr>\n",
       "    <tr>\n",
       "      <th>3</th>\n",
       "      <td>3</td>\n",
       "      <td>957</td>\n",
       "    </tr>\n",
       "    <tr>\n",
       "      <th>4</th>\n",
       "      <td>4</td>\n",
       "      <td>912</td>\n",
       "    </tr>\n",
       "  </tbody>\n",
       "</table>\n",
       "</div>"
      ],
      "text/plain": [
       "   author  n_papers\n",
       "0       0      1095\n",
       "1       1      1041\n",
       "2       2       983\n",
       "3       3       957\n",
       "4       4       912"
      ]
     },
     "execution_count": 40,
     "metadata": {},
     "output_type": "execute_result"
    }
   ],
   "source": [
    "a_num_papers = pd.read_csv(mypath + '../author_num_papers.csv')\n",
    "a_num_papers.head()"
   ]
  },
  {
   "cell_type": "code",
   "execution_count": 45,
   "metadata": {
    "collapsed": false
   },
   "outputs": [
    {
     "data": {
      "text/plain": [
       "79800"
      ]
     },
     "execution_count": 45,
     "metadata": {},
     "output_type": "execute_result"
    }
   ],
   "source": [
    "# Minimum number of pubs\n",
    "min_publications = 20\n",
    "\n",
    "filtered_authors = a_num_papers[a_num_papers['n_papers'] > min_publications]['author'].tolist()\n",
    "highest_author_id = len(filtered_authors)\n",
    "highest_author_id"
   ]
  },
  {
   "cell_type": "code",
   "execution_count": 46,
   "metadata": {
    "collapsed": false
   },
   "outputs": [
    {
     "name": "stdout",
     "output_type": "stream",
     "text": [
      "Processed 0 rows of coauthorship...\n",
      "Processed has finished.\n"
     ]
    }
   ],
   "source": [
    "# Read here and avoid to load all the data with the steps before\n",
    "ton_top_authors = pd.read_csv(mypath + 'ton_authors_sorted.csv')\n",
    "ton_top_authors.head()\n",
    "\n",
    "# Load coauthors   # full exec. time ~2min\n",
    "max_coauthors = 100\n",
    "# highest_author_id = 170049\n",
    "\n",
    "coauthors = Dict()\n",
    "with open(mypath + 'author-coauthors.tsv') as f:        \n",
    "    k = 0    \n",
    "    for line in f.readlines():          \n",
    "        if k % 100000 == 0: print ('Processed', k , 'rows of coauthorship...')    \n",
    "        k+=1       \n",
    "        \n",
    "        authors = line.split()        \n",
    "        author = int(authors[0])\n",
    "        \n",
    "        if (author > highest_author_id): break\n",
    "        \n",
    "        # Limiting the max number of coauthors\n",
    "        max_coauthors = max_coauthors if len(authors) > max_coauthors else len(authors)\n",
    "        \n",
    "        for i in range(1, len(authors)): #len(authors) (unlimited) or max_coauthors             \n",
    "            coauthor = int(authors[i])\n",
    "            \n",
    "            if (coauthor > highest_author_id): continue\n",
    "            \n",
    "            if coauthors[author] == False: coauthors[author] = []            \n",
    "            coauthors[author].append(coauthor)    \n",
    "\n",
    "print ('Processed has finished.')    "
   ]
  },
  {
   "cell_type": "code",
   "execution_count": 43,
   "metadata": {
    "collapsed": false
   },
   "outputs": [
    {
     "data": {
      "text/plain": [
       "55"
      ]
     },
     "execution_count": 43,
     "metadata": {},
     "output_type": "execute_result"
    }
   ],
   "source": [
    "ton_top_authors[ton_top_authors['a_name'].str.contains('Edmundo')]['author'].tolist()\n",
    "coauthors[10540][0] # Expected: 55 (using unlimited number of neighbors)"
   ]
  },
  {
   "cell_type": "code",
   "execution_count": 47,
   "metadata": {
    "collapsed": false,
    "scrolled": true
   },
   "outputs": [
    {
     "name": "stdout",
     "output_type": "stream",
     "text": [
      "Writing coauthorship edges in the file...\n",
      "Writing names of interest...\n",
      "Assigning the correct weights to the edges...\n",
      "Generating MCL input...\n",
      "N: 33479  E: 109943\n",
      "Process has finished.\n"
     ]
    }
   ],
   "source": [
    "# Authors of Interest, exec. time 50.2.50:2sec, 50.3.50:5min (755587 edges)\n",
    "# Generates input for Gephi\n",
    "n_top_authors = 50\n",
    "levels = 2\n",
    "tmp_file = 'edges_without_weights.csv'\n",
    "\n",
    "# Top\n",
    "list_top_ton = ton_top_authors['author'].head(n_top_authors).tolist()\n",
    "# Specific authors\n",
    "# list_top_ton = ton_top_authors[ton_top_authors['a_name'].str.contains('Edmundo')]['author'].head(n_authors).tolist()\n",
    "print (\"Writing coauthorship edges in the file...\")\n",
    "\n",
    "with open(mypath + tmp_file, 'w') as f:        \n",
    "    found = Dict()    \n",
    "    \n",
    "    all_authors_found = []\n",
    "    new_authors = list_top_ton    \n",
    "    f.write('SOURCE,TARGET,TYPE\\n')\n",
    "        \n",
    "    for i in range(levels):\n",
    "        #f.write('\\nlevel:' + str(i+1) + '\\n')\n",
    "        authors = new_authors\n",
    "        new_authors = []\n",
    "\n",
    "        for author in authors:            \n",
    "            if coauthors[author] == False or found[author] == True: continue           \n",
    "            all_authors_found.append(author)    \n",
    "\n",
    "            for coauthor in coauthors[author]:      \n",
    "                \n",
    "                # Left ID always lower than Right ID\n",
    "                if (author < coauthor):\n",
    "                    f.write(str(author) + ',' + str(coauthor) + ',Undirected\\n')\n",
    "                else:\n",
    "                    f.write(str(coauthor) + ',' + str(author) + ',Undirected\\n')\n",
    "                    \n",
    "                new_authors.append(coauthor)   \n",
    "                all_authors_found.append(coauthor)\n",
    "\n",
    "            # if (author > highest_author_id): print ('Warning: the author should not be here:', author)\n",
    "            found[author] = True\n",
    "\n",
    "\n",
    "# Names of the authors of interest; highlighting the top authors from the list\n",
    "print (\"Writing names of interest...\")\n",
    "nodes = pd.read_csv(mypath + \"../all_names.csv\")\n",
    "nodes = nodes[nodes['id'].isin(all_authors_found)]\n",
    "nodes['top'] = 0\n",
    "nodes.ix[nodes['id'].isin(list_top_ton), 'top'] = 1\n",
    "nodes.to_csv(mypath + \"nodes.csv\", index=False)     \n",
    "\n",
    "# Edge Weights (based on number of coauthorships)\n",
    "print (\"Assigning the correct weights to the edges...\")\n",
    "weights = pd.read_csv(mypath + '../coauthorships.csv', names=['SOURCE', 'TARGET', 'WEIGHT'], skiprows=1)\n",
    "edges = pd.read_csv(mypath + tmp_file)\n",
    "\n",
    "# We could apply functions to balance the weights\n",
    "weights['WEIGHT'] = weights['WEIGHT'].apply(lambda x: (log(x) + 1))\n",
    "\n",
    "edges = pd.merge(edges, weights)\n",
    "edges.drop_duplicates(inplace=True)\n",
    "edges.to_csv(mypath + 'edges.csv', index=False)\n",
    "\n",
    "# MCL Input\n",
    "print (\"Generating MCL input...\")\n",
    "edges[['SOURCE', 'TARGET', 'WEIGHT']].to_csv(mypath + 'mcl_input.txt', index=False, header=None, sep=' ')\n",
    "\n",
    "print (\"N:\", len(nodes), \" E:\", len(edges))\n",
    "print (\"Process has finished.\")"
   ]
  },
  {
   "cell_type": "code",
   "execution_count": 29,
   "metadata": {
    "collapsed": false
   },
   "outputs": [
    {
     "data": {
      "text/html": [
       "<div>\n",
       "<table border=\"1\" class=\"dataframe\">\n",
       "  <thead>\n",
       "    <tr style=\"text-align: right;\">\n",
       "      <th></th>\n",
       "      <th>SOURCE</th>\n",
       "      <th>TARGET</th>\n",
       "      <th>TYPE</th>\n",
       "      <th>WEIGHT</th>\n",
       "    </tr>\n",
       "  </thead>\n",
       "  <tbody>\n",
       "    <tr>\n",
       "      <th>0</th>\n",
       "      <td>13</td>\n",
       "      <td>550</td>\n",
       "      <td>Undirected</td>\n",
       "      <td>2.194706</td>\n",
       "    </tr>\n",
       "    <tr>\n",
       "      <th>1</th>\n",
       "      <td>90</td>\n",
       "      <td>550</td>\n",
       "      <td>Undirected</td>\n",
       "      <td>1.000000</td>\n",
       "    </tr>\n",
       "    <tr>\n",
       "      <th>2</th>\n",
       "      <td>111</td>\n",
       "      <td>550</td>\n",
       "      <td>Undirected</td>\n",
       "      <td>2.026672</td>\n",
       "    </tr>\n",
       "    <tr>\n",
       "      <th>3</th>\n",
       "      <td>211</td>\n",
       "      <td>550</td>\n",
       "      <td>Undirected</td>\n",
       "      <td>1.526589</td>\n",
       "    </tr>\n",
       "    <tr>\n",
       "      <th>4</th>\n",
       "      <td>214</td>\n",
       "      <td>550</td>\n",
       "      <td>Undirected</td>\n",
       "      <td>1.000000</td>\n",
       "    </tr>\n",
       "  </tbody>\n",
       "</table>\n",
       "</div>"
      ],
      "text/plain": [
       "   SOURCE  TARGET        TYPE    WEIGHT\n",
       "0      13     550  Undirected  2.194706\n",
       "1      90     550  Undirected  1.000000\n",
       "2     111     550  Undirected  2.026672\n",
       "3     211     550  Undirected  1.526589\n",
       "4     214     550  Undirected  1.000000"
      ]
     },
     "execution_count": 29,
     "metadata": {},
     "output_type": "execute_result"
    }
   ],
   "source": [
    "# Reweighting only\n",
    "old = pd.read_csv(mypath + 'edges.csv')\n",
    "old['WEIGHT'] = old['WEIGHT'].apply(lambda x: (log(x) + 1))\n",
    "# old.to_csv(mypath + 'coauthorships_of_interest.csv.weight-log')\n",
    "old.head()"
   ]
  },
  {
   "cell_type": "code",
   "execution_count": 50,
   "metadata": {
    "collapsed": false
   },
   "outputs": [
    {
     "data": {
      "text/html": [
       "<div>\n",
       "<table border=\"1\" class=\"dataframe\">\n",
       "  <thead>\n",
       "    <tr style=\"text-align: right;\">\n",
       "      <th></th>\n",
       "      <th>id</th>\n",
       "      <th>label</th>\n",
       "      <th>top</th>\n",
       "      <th>mcl_cluster</th>\n",
       "    </tr>\n",
       "  </thead>\n",
       "  <tbody>\n",
       "    <tr>\n",
       "      <th>0</th>\n",
       "      <td>0</td>\n",
       "      <td>H. Vincent Poor</td>\n",
       "      <td>0</td>\n",
       "      <td>18458</td>\n",
       "    </tr>\n",
       "    <tr>\n",
       "      <th>1</th>\n",
       "      <td>1</td>\n",
       "      <td>Wei Wang</td>\n",
       "      <td>0</td>\n",
       "      <td>13</td>\n",
       "    </tr>\n",
       "    <tr>\n",
       "      <th>2</th>\n",
       "      <td>2</td>\n",
       "      <td>Yan Zhang</td>\n",
       "      <td>0</td>\n",
       "      <td>13</td>\n",
       "    </tr>\n",
       "    <tr>\n",
       "      <th>3</th>\n",
       "      <td>3</td>\n",
       "      <td>Wei Liu</td>\n",
       "      <td>0</td>\n",
       "      <td>13</td>\n",
       "    </tr>\n",
       "    <tr>\n",
       "      <th>4</th>\n",
       "      <td>4</td>\n",
       "      <td>Wen Gao</td>\n",
       "      <td>0</td>\n",
       "      <td>13</td>\n",
       "    </tr>\n",
       "  </tbody>\n",
       "</table>\n",
       "</div>"
      ],
      "text/plain": [
       "   id            label  top  mcl_cluster\n",
       "0   0  H. Vincent Poor    0        18458\n",
       "1   1         Wei Wang    0           13\n",
       "2   2        Yan Zhang    0           13\n",
       "3   3          Wei Liu    0           13\n",
       "4   4          Wen Gao    0           13"
      ]
     },
     "execution_count": 50,
     "metadata": {},
     "output_type": "execute_result"
    }
   ],
   "source": [
    "# Caution: After we have MCL Clusters!\n",
    "nodes = pd.read_csv(mypath + \"nodes.csv\")\n",
    "\n",
    "# MCL Clusters\n",
    "with open(mypath + 'mcl_output.txt.I1.2') as f:        \n",
    "    for line in f.readlines():               \n",
    "        authors = [int(x) for x in line.split()]\n",
    "        cluster_id = int(authors[0])\n",
    "        nodes.ix[nodes['id'].isin(authors), 'mcl_cluster'] = cluster_id \n",
    "        \n",
    "nodes[['id', 'label', 'top', 'mcl_cluster']].to_csv(mypath + \"nodes.csv\", index=False)     \n",
    "nodes.head()"
   ]
  }
 ],
 "metadata": {
  "kernelspec": {
   "display_name": "Python 3",
   "language": "python",
   "name": "python3"
  },
  "language_info": {
   "codemirror_mode": {
    "name": "ipython",
    "version": 3
   },
   "file_extension": ".py",
   "mimetype": "text/x-python",
   "name": "python",
   "nbconvert_exporter": "python",
   "pygments_lexer": "ipython3",
   "version": "3.5.1"
  }
 },
 "nbformat": 4,
 "nbformat_minor": 0
}
