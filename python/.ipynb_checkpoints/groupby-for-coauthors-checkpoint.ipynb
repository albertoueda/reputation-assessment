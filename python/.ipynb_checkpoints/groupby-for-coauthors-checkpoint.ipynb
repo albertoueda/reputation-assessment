{
 "cells": [
  {
   "cell_type": "code",
   "execution_count": 1,
   "metadata": {
    "collapsed": true
   },
   "outputs": [],
   "source": [
    "import pandas as pd\n",
    "%matplotlib inline"
   ]
  },
  {
   "cell_type": "code",
   "execution_count": 2,
   "metadata": {
    "collapsed": false
   },
   "outputs": [
    {
     "data": {
      "text/plain": [
       "{1: [0, 1, 5, 6], 2: [2, 3, 7], 3: [4]}"
      ]
     },
     "execution_count": 2,
     "metadata": {},
     "output_type": "execute_result"
    }
   ],
   "source": [
    "names = ['Bob','Jessica','Bob','Paul','Lucas', 'Berthier', 'Nivio', 'Rodrygo']\n",
    "births = [1, 1, 2, 2, 3, 1, 1, 2]\n",
    "BabyDataSet = list(zip(names,births))\n",
    "BabyDataSet\n",
    "df = pd.DataFrame(data = BabyDataSet, columns=['author', 'paper'])\n",
    "df.groupby('paper').groups"
   ]
  },
  {
   "cell_type": "code",
   "execution_count": 3,
   "metadata": {
    "collapsed": false
   },
   "outputs": [
    {
     "name": "stdout",
     "output_type": "stream",
     "text": [
      "Coauthors --> [0, 1, 5, 6]\n",
      "Coauthors --> [2, 3, 7]\n",
      "Coauthors --> [4]\n"
     ]
    }
   ],
   "source": [
    "for coauthors in df.groupby('paper').groups.values():\n",
    "    print \"Coauthors -->\", coauthors"
   ]
  },
  {
   "cell_type": "code",
   "execution_count": 4,
   "metadata": {
    "collapsed": false
   },
   "outputs": [
    {
     "name": "stdout",
     "output_type": "stream",
     "text": [
      "\n",
      "0 -- 1\n",
      "0 -- 5\n",
      "0 -- 6\n",
      "1 -- 5\n",
      "1 -- 6\n",
      "5 -- 6\n",
      "\n",
      "2 -- 3\n",
      "2 -- 7\n",
      "3 -- 7\n",
      "\n"
     ]
    }
   ],
   "source": [
    "def connect_coauthors(coauthors):\n",
    "    print \"\"\n",
    "    for author1 in coauthors: \n",
    "        for author2 in coauthors:\n",
    "            if (author1 < author2): print author1, \"--\", author2            \n",
    "    \n",
    "for coauthors in df.groupby('paper').groups.values():\n",
    "    connect_coauthors(coauthors)"
   ]
  },
  {
   "cell_type": "code",
   "execution_count": null,
   "metadata": {
    "collapsed": true
   },
   "outputs": [],
   "source": []
  }
 ],
 "metadata": {
  "kernelspec": {
   "display_name": "Python 2",
   "language": "python",
   "name": "python2"
  },
  "language_info": {
   "codemirror_mode": {
    "name": "ipython",
    "version": 2
   },
   "file_extension": ".py",
   "mimetype": "text/x-python",
   "name": "python",
   "nbconvert_exporter": "python",
   "pygments_lexer": "ipython2",
   "version": "2.7.9"
  }
 },
 "nbformat": 4,
 "nbformat_minor": 0
}
