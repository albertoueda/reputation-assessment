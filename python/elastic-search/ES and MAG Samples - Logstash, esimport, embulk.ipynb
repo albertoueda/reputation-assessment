{
 "cells": [
  {
   "cell_type": "markdown",
   "metadata": {},
   "source": [
    "# ES and MAG Samples - Logstash, esimport, embulk\n",
    "\n",
    "albertoueda - 2016/09/29"
   ]
  },
  {
   "cell_type": "code",
   "execution_count": 3,
   "metadata": {
    "collapsed": false
   },
   "outputs": [
    {
     "data": {
      "text/plain": [
       "<Elasticsearch([{'port': 9200, 'host': 'localhost'}])>"
      ]
     },
     "execution_count": 3,
     "metadata": {},
     "output_type": "execute_result"
    }
   ],
   "source": [
    "from elasticsearch import Elasticsearch\n",
    "es = Elasticsearch([{'host': 'localhost', 'port': 9200}])\n",
    "es"
   ]
  },
  {
   "cell_type": "code",
   "execution_count": 1,
   "metadata": {
    "collapsed": false
   },
   "outputs": [],
   "source": [
    "# \n",
    "# es.search(index='mag', doc_type='authors', q='*:*')"
   ]
  },
  {
   "cell_type": "code",
   "execution_count": 30,
   "metadata": {
    "collapsed": false
   },
   "outputs": [],
   "source": [
    "# Deleting indexes\n",
    "# es.indices.delete(index='mag')"
   ]
  },
  {
   "cell_type": "code",
   "execution_count": 15,
   "metadata": {
    "collapsed": false
   },
   "outputs": [],
   "source": [
    "# It has failed too\n",
    "# for i in es.search(index=\"mag\", doc_type=\"authors\", body={\"query\": {\"term\" : { \"name\" : \"randy\" }}})['hits']['hits'] :\n",
    "#        print(i['_source']['name'])\n",
    "\n",
    "# I also tried the esimport plugin, but it failed too"
   ]
  },
  {
   "cell_type": "code",
   "execution_count": 32,
   "metadata": {
    "collapsed": false
   },
   "outputs": [
    {
     "data": {
      "text/plain": [
       "{'_shards': {'failed': 0, 'successful': 5, 'total': 5},\n",
       " 'hits': {'hits': [{'_id': 'AVeMG4pWZ5YASbh6pZ_1',\n",
       "    '_index': 'mag',\n",
       "    '_score': 1.0,\n",
       "    '_source': {'conf': '42D7146F',\n",
       "     'date': '2012/10/27',\n",
       "     'doi': '10.1007/978-3-642-37807-2_11',\n",
       "     'id': '027D0030',\n",
       "     'journal': None,\n",
       "     'ntitle': 'automatic monitoring the content of audio broadcasted by internet radio stations',\n",
       "     'nvenue': 'micai',\n",
       "     'rank': 19444,\n",
       "     'title': 'Automatic Monitoring the Content of Audio Broadcasted by Internet Radio Stations',\n",
       "     'venue': 'mexican international conference on artificial intelligence',\n",
       "     'year': 2012},\n",
       "    '_type': 'X'},\n",
       "   {'_id': 'AVeMG4pWZ5YASbh6pZ__',\n",
       "    '_index': 'mag',\n",
       "    '_score': 1.0,\n",
       "    '_source': {'conf': '42D7146F',\n",
       "     'date': '2000/04/11',\n",
       "     'doi': '10.1007/10720076_49',\n",
       "     'id': '58B384F6',\n",
       "     'journal': None,\n",
       "     'ntitle': 'syntactic conceptual analysis of sentences in spanish using a restricted lexicon for disambiguation',\n",
       "     'nvenue': 'micai',\n",
       "     'rank': 19370,\n",
       "     'title': 'Syntactic-Conceptual Analysis of Sentences in Spanish Using a Restricted Lexicon for Disambiguation',\n",
       "     'venue': 'mexican international conference on artificial intelligence',\n",
       "     'year': 2000},\n",
       "    '_type': 'X'},\n",
       "   {'_id': 'AVeMG4pXZ5YASbh6paAN',\n",
       "    '_index': 'mag',\n",
       "    '_score': 1.0,\n",
       "    '_source': {'conf': '42D7146F',\n",
       "     'date': None,\n",
       "     'doi': None,\n",
       "     'id': '589BA07A',\n",
       "     'journal': None,\n",
       "     'ntitle': 'bayesian network based time sequence simulation for power system reliability assessment',\n",
       "     'nvenue': 'micai',\n",
       "     'rank': 19555,\n",
       "     'title': 'Bayesian Network Based Time-Sequence Simulation for Power System Reliability Assessment',\n",
       "     'venue': 'mexican international conference on artificial intelligence',\n",
       "     'year': 2008},\n",
       "    '_type': 'X'},\n",
       "   {'_id': 'AVeMG4pXZ5YASbh6paAP',\n",
       "    '_index': 'mag',\n",
       "    '_score': 1.0,\n",
       "    '_source': {'conf': '42D7146F',\n",
       "     'date': '2005/11/14',\n",
       "     'doi': '10.1007/11579427_62',\n",
       "     'id': '7085DEBD',\n",
       "     'journal': None,\n",
       "     'ntitle': 'a comparison of memetic recombination operators for the minla problem',\n",
       "     'nvenue': 'micai',\n",
       "     'rank': 19508,\n",
       "     'title': 'A comparison of memetic recombination operators for the MinLA problem',\n",
       "     'venue': 'mexican international conference on artificial intelligence',\n",
       "     'year': 2005},\n",
       "    '_type': 'X'},\n",
       "   {'_id': 'AVeMG4pXZ5YASbh6paAQ',\n",
       "    '_index': 'mag',\n",
       "    '_score': 1.0,\n",
       "    '_source': {'conf': '42D7146F',\n",
       "     'date': '2013/11/24',\n",
       "     'doi': '10.1007/978-3-642-45111-9_10',\n",
       "     'id': '08845A7C',\n",
       "     'journal': None,\n",
       "     'ntitle': 'a massive parallel cellular gpu implementation of neural network to large scale euclidean tsp',\n",
       "     'nvenue': 'micai',\n",
       "     'rank': 19356,\n",
       "     'title': 'A Massive Parallel Cellular GPU Implementation of Neural Network to Large Scale Euclidean TSP',\n",
       "     'venue': 'mexican international conference on artificial intelligence',\n",
       "     'year': 2013},\n",
       "    '_type': 'X'},\n",
       "   {'_id': 'AVeMG4pXZ5YASbh6paAj',\n",
       "    '_index': 'mag',\n",
       "    '_score': 1.0,\n",
       "    '_source': {'conf': '42D7146F',\n",
       "     'date': '2008/10/27',\n",
       "     'doi': '10.1007/978-3-540-88636-5_31',\n",
       "     'id': '5EA3A0F9',\n",
       "     'journal': None,\n",
       "     'ntitle': 'undecimated wavelet based autoregressive model for anchovy catches forecasting',\n",
       "     'nvenue': 'micai',\n",
       "     'rank': 19404,\n",
       "     'title': 'Undecimated Wavelet Based Autoregressive Model for Anchovy Catches Forecasting',\n",
       "     'venue': 'mexican international conference on artificial intelligence',\n",
       "     'year': 2008},\n",
       "    '_type': 'X'},\n",
       "   {'_id': 'AVeMG4pXZ5YASbh6paAm',\n",
       "    '_index': 'mag',\n",
       "    '_score': 1.0,\n",
       "    '_source': {'conf': '42D7146F',\n",
       "     'date': None,\n",
       "     'doi': None,\n",
       "     'id': '5F39CE1E',\n",
       "     'journal': None,\n",
       "     'ntitle': 'extrinsic evaluation on automatic summarization tasks testing affixality measurements for statistic',\n",
       "     'nvenue': 'micai',\n",
       "     'rank': 19555,\n",
       "     'title': 'Extrinsic Evaluation on Automatic Summarization Tasks: Testing Affixality Measurements for Statistic',\n",
       "     'venue': 'mexican international conference on artificial intelligence',\n",
       "     'year': 2012},\n",
       "    '_type': 'X'},\n",
       "   {'_id': 'AVeMG4pXZ5YASbh6paAs',\n",
       "    '_index': 'mag',\n",
       "    '_score': 1.0,\n",
       "    '_source': {'conf': '42D7146F',\n",
       "     'date': '2008',\n",
       "     'doi': None,\n",
       "     'id': '5E004C3B',\n",
       "     'journal': None,\n",
       "     'ntitle': 'design of the approximation function of a pedometer based on artificial neural network for the healthy life style promotion in diabetic patients',\n",
       "     'nvenue': 'micai',\n",
       "     'rank': 19555,\n",
       "     'title': 'Design Of the Approximation Function of a Pedometer based on Artificial Neural Network for the Healthy Life Style Promotion in Diabetic Patients',\n",
       "     'venue': 'mexican international conference on artificial intelligence',\n",
       "     'year': 2008},\n",
       "    '_type': 'X'},\n",
       "   {'_id': 'AVeMG4pXZ5YASbh6paAw',\n",
       "    '_index': 'mag',\n",
       "    '_score': 1.0,\n",
       "    '_source': {'conf': '42D7146F',\n",
       "     'date': '2004/04/26',\n",
       "     'doi': '10.1007/978-3-540-24694-7_33',\n",
       "     'id': '5E66DDF4',\n",
       "     'journal': None,\n",
       "     'ntitle': 'advanced clustering technique for medical data using semantic information',\n",
       "     'nvenue': 'micai',\n",
       "     'rank': 19444,\n",
       "     'title': 'Advanced Clustering Technique for Medical Data Using Semantic Information',\n",
       "     'venue': 'mexican international conference on artificial intelligence',\n",
       "     'year': 2004},\n",
       "    '_type': 'X'},\n",
       "   {'_id': 'AVeMG4pXZ5YASbh6paAx',\n",
       "    '_index': 'mag',\n",
       "    '_score': 1.0,\n",
       "    '_source': {'conf': '42D7146F',\n",
       "     'date': '2004/04/26',\n",
       "     'doi': '10.1007/978-3-540-24694-7_22',\n",
       "     'id': '7D2C4B1A',\n",
       "     'journal': None,\n",
       "     'ntitle': 'a framework for agent based brokering of reasoning services',\n",
       "     'nvenue': 'micai',\n",
       "     'rank': 19444,\n",
       "     'title': 'A Framework for Agent-Based Brokering of Reasoning Services',\n",
       "     'venue': 'mexican international conference on artificial intelligence',\n",
       "     'year': 2004},\n",
       "    '_type': 'X'}],\n",
       "  'max_score': 1.0,\n",
       "  'total': 79},\n",
       " 'timed_out': False,\n",
       " 'took': 3}"
      ]
     },
     "execution_count": 32,
     "metadata": {},
     "output_type": "execute_result"
    }
   ],
   "source": [
    "# embulk\n",
    "es.search(index='mag', q='*:*')"
   ]
  },
  {
   "cell_type": "code",
   "execution_count": 36,
   "metadata": {
    "collapsed": false
   },
   "outputs": [
    {
     "data": {
      "text/plain": [
       "{'_shards': {'failed': 0, 'successful': 5, 'total': 5},\n",
       " 'hits': {'hits': [{'_id': 'AVeMG43qZ5YASbh6paBL',\n",
       "    '_index': 'mag',\n",
       "    '_score': 4.135494,\n",
       "    '_source': {'conf': '42D7146F',\n",
       "     'date': '2006/11/13',\n",
       "     'doi': '10.1007/11925231_42',\n",
       "     'id': '58767C5A',\n",
       "     'journal': None,\n",
       "     'ntitle': 'a new algorithm that obtains an approximation of the critical path in the job shop scheduling problem',\n",
       "     'nvenue': 'micai',\n",
       "     'rank': 19468,\n",
       "     'title': 'A new algorithm that obtains an approximation of the critical path in the job shop scheduling problem',\n",
       "     'venue': 'mexican international conference on artificial intelligence',\n",
       "     'year': 2006},\n",
       "    '_type': 'X'}],\n",
       "  'max_score': 4.135494,\n",
       "  'total': 1},\n",
       " 'timed_out': False,\n",
       " 'took': 431}"
      ]
     },
     "execution_count": 36,
     "metadata": {},
     "output_type": "execute_result"
    }
   ],
   "source": [
    "es.search(index='mag', q='id:58767C5A')"
   ]
  }
 ],
 "metadata": {
  "kernelspec": {
   "display_name": "Python 3",
   "language": "python",
   "name": "python3"
  },
  "language_info": {
   "codemirror_mode": {
    "name": "ipython",
    "version": 3
   },
   "file_extension": ".py",
   "mimetype": "text/x-python",
   "name": "python",
   "nbconvert_exporter": "python",
   "pygments_lexer": "ipython3",
   "version": "3.5.1"
  }
 },
 "nbformat": 4,
 "nbformat_minor": 0
}
