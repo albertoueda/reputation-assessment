{
 "cells": [
  {
   "cell_type": "markdown",
   "metadata": {},
   "source": [
    "# ElasticSearch and StarWars\n",
    "\n",
    "Based on: https://tryolabs.com/blog/2015/02/17/python-elasticsearch-first-steps/\n",
    "\n",
    "albertoueda - 2016/09/29 "
   ]
  },
  {
   "cell_type": "code",
   "execution_count": 103,
   "metadata": {
    "collapsed": false
   },
   "outputs": [
    {
     "name": "stdout",
     "output_type": "stream",
     "text": [
      "b'{\\n  \"name\" : \"Alberto\",\\n  \"cluster_name\" : \"elasticsearch\",\\n  \"version\" : {\\n    \"number\" : \"2.4.0\",\\n    \"build_hash\" : \"ce9f0c7394dee074091dd1bc4e9469251181fc55\",\\n    \"build_timestamp\" : \"2016-08-29T09:14:17Z\",\\n    \"build_snapshot\" : false,\\n    \"lucene_version\" : \"5.5.2\"\\n  },\\n  \"tagline\" : \"You Know, for Search\"\\n}\\n'\n"
     ]
    }
   ],
   "source": [
    "# Simplest connection check\n",
    "import requests\n",
    "res = requests.get('http://localhost:9200')\n",
    "print(res.content)"
   ]
  },
  {
   "cell_type": "code",
   "execution_count": 104,
   "metadata": {
    "collapsed": false
   },
   "outputs": [
    {
     "data": {
      "text/plain": [
       "<Elasticsearch([{'host': 'localhost', 'port': 9200}])>"
      ]
     },
     "execution_count": 104,
     "metadata": {},
     "output_type": "execute_result"
    }
   ],
   "source": [
    "from elasticsearch import Elasticsearch\n",
    "es = Elasticsearch([{'host': 'localhost', 'port': 9200}])\n",
    "es"
   ]
  },
  {
   "cell_type": "code",
   "execution_count": 9,
   "metadata": {
    "collapsed": false
   },
   "outputs": [
    {
     "data": {
      "text/plain": [
       "{'_id': '1',\n",
       " '_index': 'test-index',\n",
       " '_shards': {'failed': 0, 'successful': 1, 'total': 2},\n",
       " '_type': 'test',\n",
       " '_version': 1,\n",
       " 'created': True}"
      ]
     },
     "execution_count": 9,
     "metadata": {},
     "output_type": "execute_result"
    }
   ],
   "source": [
    "#index some test data\n",
    "es.index(index='test-index', doc_type='test', id=1, body={'test': 'test'})"
   ]
  },
  {
   "cell_type": "code",
   "execution_count": 10,
   "metadata": {
    "collapsed": false
   },
   "outputs": [
    {
     "data": {
      "text/plain": [
       "{'_id': '1',\n",
       " '_index': 'test-index',\n",
       " '_shards': {'failed': 0, 'successful': 1, 'total': 2},\n",
       " '_type': 'test',\n",
       " '_version': 2,\n",
       " 'found': True}"
      ]
     },
     "execution_count": 10,
     "metadata": {},
     "output_type": "execute_result"
    }
   ],
   "source": [
    "#delete test data and try with something more interesting\n",
    "es.delete(index='test-index', doc_type='test', id=1)"
   ]
  },
  {
   "cell_type": "code",
   "execution_count": 11,
   "metadata": {
    "collapsed": false
   },
   "outputs": [
    {
     "data": {
      "text/plain": [
       "{'_id': '1',\n",
       " '_index': 'sw',\n",
       " '_shards': {'failed': 0, 'successful': 1, 'total': 2},\n",
       " '_type': 'people',\n",
       " '_version': 1,\n",
       " 'created': True}"
      ]
     },
     "execution_count": 11,
     "metadata": {},
     "output_type": "execute_result"
    }
   ],
   "source": [
    "es.index(index='sw', doc_type='people', id=1, body={\n",
    "\t\"name\": \"Luke Skywalker\",\n",
    "\t\"height\": \"172\",\n",
    "\t\"mass\": \"77\",\n",
    "\t\"hair_color\": \"blond\",\n",
    "\t\"birth_year\": \"19BBY\",\n",
    "\t\"gender\": \"male\",\n",
    "})"
   ]
  },
  {
   "cell_type": "code",
   "execution_count": 110,
   "metadata": {
    "collapsed": false
   },
   "outputs": [
    {
     "data": {
      "text/plain": [
       "{'_id': '1',\n",
       " '_index': 'sw',\n",
       " '_source': {'birth_year': '19BBY',\n",
       "  'created': '2014-12-09T13:50:51.644000Z',\n",
       "  'edited': '2014-12-20T21:17:56.891000Z',\n",
       "  'eye_color': 'blue',\n",
       "  'films': ['http://swapi.co/api/films/6/',\n",
       "   'http://swapi.co/api/films/3/',\n",
       "   'http://swapi.co/api/films/2/',\n",
       "   'http://swapi.co/api/films/1/',\n",
       "   'http://swapi.co/api/films/7/'],\n",
       "  'gender': 'male',\n",
       "  'hair_color': 'blond',\n",
       "  'height': '172',\n",
       "  'homeworld': 'http://swapi.co/api/planets/1/',\n",
       "  'mass': '77',\n",
       "  'name': 'Luke Skywalker',\n",
       "  'skin_color': 'fair',\n",
       "  'species': ['http://swapi.co/api/species/1/'],\n",
       "  'starships': ['http://swapi.co/api/starships/12/',\n",
       "   'http://swapi.co/api/starships/22/'],\n",
       "  'url': 'http://swapi.co/api/people/1/',\n",
       "  'vehicles': ['http://swapi.co/api/vehicles/14/',\n",
       "   'http://swapi.co/api/vehicles/30/']},\n",
       " '_type': 'people',\n",
       " '_version': 2,\n",
       " 'found': True}"
      ]
     },
     "execution_count": 110,
     "metadata": {},
     "output_type": "execute_result"
    }
   ],
   "source": [
    "es.get(index='sw', doc_type='people', id=1)"
   ]
  },
  {
   "cell_type": "code",
   "execution_count": 21,
   "metadata": {
    "collapsed": false
   },
   "outputs": [
    {
     "name": "stdout",
     "output_type": "stream",
     "text": [
      "18\n"
     ]
    }
   ],
   "source": [
    "#let's iterate over swapi people documents and index them\n",
    "import json\n",
    "r = requests.get('http://localhost:9200') \n",
    "i = 1\n",
    "while r.status_code == 200:\n",
    "    r = requests.get('http://swapi.co/api/people/'+ str(i))\n",
    "    es.index(index='sw', doc_type='people', id=i, body=json.loads(r.content.decode('utf-8')))\n",
    "    i=i+1\n",
    " \n",
    "print(i)"
   ]
  },
  {
   "cell_type": "code",
   "execution_count": 22,
   "metadata": {
    "collapsed": false
   },
   "outputs": [
    {
     "data": {
      "text/plain": [
       "{'_id': '5',\n",
       " '_index': 'sw',\n",
       " '_source': {'birth_year': '19BBY',\n",
       "  'created': '2014-12-10T15:20:09.791000Z',\n",
       "  'edited': '2014-12-20T21:17:50.315000Z',\n",
       "  'eye_color': 'brown',\n",
       "  'films': ['http://swapi.co/api/films/6/',\n",
       "   'http://swapi.co/api/films/3/',\n",
       "   'http://swapi.co/api/films/2/',\n",
       "   'http://swapi.co/api/films/1/',\n",
       "   'http://swapi.co/api/films/7/'],\n",
       "  'gender': 'female',\n",
       "  'hair_color': 'brown',\n",
       "  'height': '150',\n",
       "  'homeworld': 'http://swapi.co/api/planets/2/',\n",
       "  'mass': '49',\n",
       "  'name': 'Leia Organa',\n",
       "  'skin_color': 'light',\n",
       "  'species': ['http://swapi.co/api/species/1/'],\n",
       "  'starships': [],\n",
       "  'url': 'http://swapi.co/api/people/5/',\n",
       "  'vehicles': ['http://swapi.co/api/vehicles/30/']},\n",
       " '_type': 'people',\n",
       " '_version': 1,\n",
       " 'found': True}"
      ]
     },
     "execution_count": 22,
     "metadata": {},
     "output_type": "execute_result"
    }
   ],
   "source": [
    "es.get(index='sw', doc_type='people', id=5)"
   ]
  },
  {
   "cell_type": "code",
   "execution_count": 23,
   "metadata": {
    "collapsed": false
   },
   "outputs": [
    {
     "data": {
      "text/plain": [
       "{'_shards': {'failed': 0, 'successful': 5, 'total': 5},\n",
       " 'hits': {'hits': [{'_id': '4',\n",
       "    '_index': 'sw',\n",
       "    '_score': 1.4965448,\n",
       "    '_source': {'birth_year': '41.9BBY',\n",
       "     'created': '2014-12-10T15:18:20.704000Z',\n",
       "     'edited': '2014-12-20T21:17:50.313000Z',\n",
       "     'eye_color': 'yellow',\n",
       "     'films': ['http://swapi.co/api/films/6/',\n",
       "      'http://swapi.co/api/films/3/',\n",
       "      'http://swapi.co/api/films/2/',\n",
       "      'http://swapi.co/api/films/1/'],\n",
       "     'gender': 'male',\n",
       "     'hair_color': 'none',\n",
       "     'height': '202',\n",
       "     'homeworld': 'http://swapi.co/api/planets/1/',\n",
       "     'mass': '136',\n",
       "     'name': 'Darth Vader',\n",
       "     'skin_color': 'white',\n",
       "     'species': ['http://swapi.co/api/species/1/'],\n",
       "     'starships': ['http://swapi.co/api/starships/13/'],\n",
       "     'url': 'http://swapi.co/api/people/4/',\n",
       "     'vehicles': []},\n",
       "    '_type': 'people'}],\n",
       "  'max_score': 1.4965448,\n",
       "  'total': 1},\n",
       " 'timed_out': False,\n",
       " 'took': 220}"
      ]
     },
     "execution_count": 23,
     "metadata": {},
     "output_type": "execute_result"
    }
   ],
   "source": [
    "es.search(index=\"mag\", body={\"query\": {\"match\": {'name':'Darth Vader'}}})"
   ]
  },
  {
   "cell_type": "code",
   "execution_count": 24,
   "metadata": {
    "collapsed": false,
    "scrolled": true
   },
   "outputs": [
    {
     "data": {
      "text/plain": [
       "{'_shards': {'failed': 0, 'successful': 5, 'total': 5},\n",
       " 'hits': {'hits': [{'_id': '1',\n",
       "    '_index': 'sw',\n",
       "    '_score': 1.0,\n",
       "    '_source': {'birth_year': '19BBY',\n",
       "     'created': '2014-12-09T13:50:51.644000Z',\n",
       "     'edited': '2014-12-20T21:17:56.891000Z',\n",
       "     'eye_color': 'blue',\n",
       "     'films': ['http://swapi.co/api/films/6/',\n",
       "      'http://swapi.co/api/films/3/',\n",
       "      'http://swapi.co/api/films/2/',\n",
       "      'http://swapi.co/api/films/1/',\n",
       "      'http://swapi.co/api/films/7/'],\n",
       "     'gender': 'male',\n",
       "     'hair_color': 'blond',\n",
       "     'height': '172',\n",
       "     'homeworld': 'http://swapi.co/api/planets/1/',\n",
       "     'mass': '77',\n",
       "     'name': 'Luke Skywalker',\n",
       "     'skin_color': 'fair',\n",
       "     'species': ['http://swapi.co/api/species/1/'],\n",
       "     'starships': ['http://swapi.co/api/starships/12/',\n",
       "      'http://swapi.co/api/starships/22/'],\n",
       "     'url': 'http://swapi.co/api/people/1/',\n",
       "     'vehicles': ['http://swapi.co/api/vehicles/14/',\n",
       "      'http://swapi.co/api/vehicles/30/']},\n",
       "    '_type': 'people'}],\n",
       "  'max_score': 1.0,\n",
       "  'total': 1},\n",
       " 'timed_out': False,\n",
       " 'took': 20}"
      ]
     },
     "execution_count": 24,
     "metadata": {},
     "output_type": "execute_result"
    }
   ],
   "source": [
    "es.search(index=\"sw\", body={\"query\": {\"prefix\" : { \"name\" : \"lu\" }}})"
   ]
  },
  {
   "cell_type": "code",
   "execution_count": 86,
   "metadata": {
    "collapsed": false
   },
   "outputs": [
    {
     "name": "stdout",
     "output_type": "stream",
     "text": [
      "Leia Organa\n",
      "Owen Lars\n",
      "Luke Skywalker\n",
      "Beru Whitesun lars\n"
     ]
    }
   ],
   "source": [
    "for i in es.search(index=\"sw\", body={\"query\": {\"wildcard\" : { \"name\" : \"l*\" }}})['hits']['hits'] :\n",
    "        print(i['_source']['name'])"
   ]
  },
  {
   "cell_type": "code",
   "execution_count": 92,
   "metadata": {
    "collapsed": false
   },
   "outputs": [
    {
     "name": "stdout",
     "output_type": "stream",
     "text": [
      "Luke Skywalker\n"
     ]
    }
   ],
   "source": [
    "for i in es.search(index=\"sw\", body={\"query\": {\"term\" : { \"name\" : \"luke\" }}})['hits']['hits'] :\n",
    "        print(i['_source']['name'])"
   ]
  },
  {
   "cell_type": "code",
   "execution_count": 108,
   "metadata": {
    "collapsed": false
   },
   "outputs": [
    {
     "data": {
      "text/plain": [
       "{'_id': '45',\n",
       " '_index': 'sw',\n",
       " '_shards': {'failed': 0, 'successful': 1, 'total': 2},\n",
       " '_type': 'people',\n",
       " '_version': 1,\n",
       " 'created': True}"
      ]
     },
     "execution_count": 108,
     "metadata": {},
     "output_type": "execute_result"
    }
   ],
   "source": [
    "es.index(index='sw', doc_type='people', id=44, body={\n",
    "\t\"name\": \"Alberto Skywalker\",\n",
    "\t\"height\": \"172\",\n",
    "\t\"mass\": \"77\",\n",
    "\t\"hair_color\": \"blond\",\n",
    "\t\"birth_year\": \"19BBY\",\n",
    "\t\"gender\": \"male\",\n",
    "})"
   ]
  },
  {
   "cell_type": "code",
   "execution_count": 105,
   "metadata": {
    "collapsed": false
   },
   "outputs": [
    {
     "name": "stdout",
     "output_type": "stream",
     "text": [
      "Alberto Skywalker\n",
      "Luke Skywalker\n",
      "Anakin Skywalker\n"
     ]
    }
   ],
   "source": [
    "# Persistent data test. The data must be available after ES restart\n",
    "for i in es.search(index=\"sw\", body={\"query\": {\"term\" : { \"name\" : \"skywalker\" }}})['hits']['hits'] :\n",
    "        print(i['_source']['name'])"
   ]
  }
 ],
 "metadata": {
  "kernelspec": {
   "display_name": "Python 3",
   "language": "python",
   "name": "python3"
  },
  "language_info": {
   "codemirror_mode": {
    "name": "ipython",
    "version": 3
   },
   "file_extension": ".py",
   "mimetype": "text/x-python",
   "name": "python",
   "nbconvert_exporter": "python",
   "pygments_lexer": "ipython3",
   "version": "3.5.1"
  }
 },
 "nbformat": 4,
 "nbformat_minor": 0
}
