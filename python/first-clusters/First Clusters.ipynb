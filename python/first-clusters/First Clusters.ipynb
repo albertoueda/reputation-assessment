{
 "cells": [
  {
   "cell_type": "markdown",
   "metadata": {},
   "source": [
    "### First Clusters\n",
    "\n",
    "Neste arquivo foram gerados os primeiros clusters de autores utilizando dados da DBLP e um grafo simples de co-autorias. 1) O grafo é construído, 2) é gerada a entrada para o MCL e 3) o parsing de nomes dos autores a partir da saída do MCL.\n",
    "\n",
    "Created in 2015-02-26 by Alberto Ueda"
   ]
  },
  {
   "cell_type": "code",
   "execution_count": 1,
   "metadata": {
    "collapsed": false
   },
   "outputs": [
    {
     "name": "stdout",
     "output_type": "stream",
     "text": [
      "Populating the interactive namespace from numpy and matplotlib\n"
     ]
    }
   ],
   "source": [
    "%pylab inline\n",
    "%matplotlib inline\n",
    "\n",
    "import pandas as pd\n",
    "import numpy as np\n",
    "import mmap\n",
    "import time\n",
    "import re\n",
    "\n",
    "from unidecode import unidecode\n",
    "UTF8 = 'utf-8'        \n",
    "\n",
    "class Dict(dict):\n",
    "    def __missing__(self, key):\n",
    "            return False\n",
    "\n",
    "#reload(sys)  # Solve the acentos problem, but create the terminal output problem\n",
    "#sys.setdefaultencoding(UTF8)\n",
    "\n",
    "mypath = '/mnt/hd0/alberto/large-datasets/dblp/dblp/coauthors-first-clusters/'"
   ]
  },
  {
   "cell_type": "code",
   "execution_count": 5,
   "metadata": {
    "collapsed": false
   },
   "outputs": [
    {
     "data": {
      "text/html": [
       "<div style=\"max-height:1000px;max-width:1500px;overflow:auto;\">\n",
       "<table border=\"1\" class=\"dataframe\">\n",
       "  <thead>\n",
       "    <tr style=\"text-align: right;\">\n",
       "      <th></th>\n",
       "      <th>author</th>\n",
       "      <th>paper</th>\n",
       "    </tr>\n",
       "  </thead>\n",
       "  <tbody>\n",
       "    <tr>\n",
       "      <th>0</th>\n",
       "      <td> 0</td>\n",
       "      <td> 0</td>\n",
       "    </tr>\n",
       "    <tr>\n",
       "      <th>1</th>\n",
       "      <td> 0</td>\n",
       "      <td> 1</td>\n",
       "    </tr>\n",
       "    <tr>\n",
       "      <th>2</th>\n",
       "      <td> 0</td>\n",
       "      <td> 2</td>\n",
       "    </tr>\n",
       "    <tr>\n",
       "      <th>3</th>\n",
       "      <td> 0</td>\n",
       "      <td> 3</td>\n",
       "    </tr>\n",
       "    <tr>\n",
       "      <th>4</th>\n",
       "      <td> 0</td>\n",
       "      <td> 4</td>\n",
       "    </tr>\n",
       "  </tbody>\n",
       "</table>\n",
       "</div>"
      ],
      "text/plain": [
       "   author  paper\n",
       "0       0      0\n",
       "1       0      1\n",
       "2       0      2\n",
       "3       0      3\n",
       "4       0      4"
      ]
     },
     "execution_count": 5,
     "metadata": {},
     "output_type": "execute_result"
    }
   ],
   "source": [
    "a_p = pd.read_csv(mypath + \"../authorpaper.csv\", names=['author','paper'])#, nrows=17220)\n",
    "a_p.head()"
   ]
  },
  {
   "cell_type": "code",
   "execution_count": 4,
   "metadata": {
    "collapsed": false
   },
   "outputs": [
    {
     "data": {
      "text/plain": [
       "paper\n",
       "0                              [0, 189099]\n",
       "1                 [0, 2029, 44493, 246705]\n",
       "2                       [0, 22572, 111477]\n",
       "3                                  [0, 21]\n",
       "4          [0, 4590, 10861, 20004, 258270]\n",
       "5                  [0, 6231, 12342, 21505]\n",
       "6                   [0, 2029, 3133, 47070]\n",
       "7                   [0, 4196, 6927, 25618]\n",
       "8                   [0, 1530, 3811, 55613]\n",
       "9                    [0, 1642, 2997, 6510]\n",
       "10                      [0, 22945, 173529]\n",
       "11                         [0, 178, 11697]\n",
       "12                [0, 3937, 14286, 262524]\n",
       "13       [0, 94, 686, 25318, 53553, 98074]\n",
       "14                                 [0, 21]\n",
       "...\n",
       "4551347    [1595010]\n",
       "4551348    [1595011]\n",
       "4551349    [1595012]\n",
       "4551350    [1595013]\n",
       "4551351    [1595014]\n",
       "4551352    [1595015]\n",
       "4551353    [1595016]\n",
       "4551354    [1595017]\n",
       "4551355    [1595018]\n",
       "4551356    [1595019]\n",
       "4551357    [1595020]\n",
       "4551358    [1595021]\n",
       "4551359    [1595022]\n",
       "4551360    [1595023]\n",
       "4551361    [1595024]\n",
       "Name: author, Length: 4551362, dtype: object"
      ]
     },
     "execution_count": 4,
     "metadata": {},
     "output_type": "execute_result"
    }
   ],
   "source": [
    "# this block takes a long time to run (5min)\n",
    "groups = a_p.groupby('paper')['author'].apply(list) \n",
    "groups"
   ]
  },
  {
   "cell_type": "code",
   "execution_count": 3,
   "metadata": {
    "collapsed": false
   },
   "outputs": [
    {
     "data": {
      "text/plain": [
       "array([[0, 189099], [0, 2029, 44493, 246705], [0, 22572, 111477], ...,\n",
       "       [1595022], [1595023], [1595024]], dtype=object)"
      ]
     },
     "execution_count": 3,
     "metadata": {},
     "output_type": "execute_result"
    }
   ],
   "source": [
    "groups.values"
   ]
  },
  {
   "cell_type": "markdown",
   "metadata": {},
   "source": [
    "###### To generate MCL input"
   ]
  },
  {
   "cell_type": "code",
   "execution_count": 96,
   "metadata": {
    "collapsed": false,
    "scrolled": true
   },
   "outputs": [],
   "source": [
    "def connect_coauthors(coauthors, f):\n",
    "    for author1 in coauthors: \n",
    "        for author2 in coauthors:\n",
    "            if (author1 < author2): \n",
    "                f.write(str(author1) + \" \" + str(author2) + '\\n')\n",
    "                #print author1, \"--\", author2            \n",
    "               \n",
    "with open(mypath + 'coauthors.csv', 'w') as f:                  \n",
    "    k = 0\n",
    "    for paper_coauthors in groups.values:\n",
    "        #if k > 10: break  #max:4551362 # this takes a long time to run\n",
    "        k += 1\n",
    "        connect_coauthors(paper_coauthors, f)    "
   ]
  },
  {
   "cell_type": "markdown",
   "metadata": {},
   "source": [
    "###### IDs ---> Names"
   ]
  },
  {
   "cell_type": "code",
   "execution_count": 3,
   "metadata": {
    "collapsed": false
   },
   "outputs": [
    {
     "name": "stdout",
     "output_type": "stream",
     "text": [
      "   author  paper           a_name\n",
      "0       0      0  H. Vincent Poor\n",
      "1       0      1  H. Vincent Poor\n",
      "2       0      2  H. Vincent Poor\n",
      "3       0      3  H. Vincent Poor\n",
      "4       0      4  H. Vincent Poor\n"
     ]
    }
   ],
   "source": [
    "# Encoding workaround\n",
    "import sys\n",
    "sys_out = sys.stdout\n",
    "sys_err = sys.stderr\n",
    "reload(sys)\n",
    "sys.setdefaultencoding(UTF8)\n",
    "sys.stdout = sys_out\n",
    "sys.stderr = sys_err\n",
    "\n",
    "a   = pd.read_csv(mypath + \"../authors.csv\", header=None, names=['a_name'], encoding=UTF8)#, nrows=100)\n",
    "a['author'] = a.index\n",
    "a_names = pd.merge(a_p, a, how='left')\n",
    "a_names.head()\n"
   ]
  },
  {
   "cell_type": "code",
   "execution_count": 15,
   "metadata": {
    "collapsed": false
   },
   "outputs": [
    {
     "data": {
      "text/html": [
       "<div style=\"max-height:1000px;max-width:1500px;overflow:auto;\">\n",
       "<table border=\"1\" class=\"dataframe\">\n",
       "  <thead>\n",
       "    <tr style=\"text-align: right;\">\n",
       "      <th></th>\n",
       "      <th>index</th>\n",
       "      <th>author</th>\n",
       "      <th>a_name</th>\n",
       "    </tr>\n",
       "  </thead>\n",
       "  <tbody>\n",
       "    <tr>\n",
       "      <th>0</th>\n",
       "      <td>    0</td>\n",
       "      <td> 0</td>\n",
       "      <td> H. Vincent Poor</td>\n",
       "    </tr>\n",
       "    <tr>\n",
       "      <th>1</th>\n",
       "      <td> 1095</td>\n",
       "      <td> 1</td>\n",
       "      <td>        Wei Wang</td>\n",
       "    </tr>\n",
       "    <tr>\n",
       "      <th>2</th>\n",
       "      <td> 2136</td>\n",
       "      <td> 2</td>\n",
       "      <td>       Yan Zhang</td>\n",
       "    </tr>\n",
       "    <tr>\n",
       "      <th>3</th>\n",
       "      <td> 3119</td>\n",
       "      <td> 3</td>\n",
       "      <td>         Wei Liu</td>\n",
       "    </tr>\n",
       "    <tr>\n",
       "      <th>4</th>\n",
       "      <td> 4076</td>\n",
       "      <td> 4</td>\n",
       "      <td>         Wen Gao</td>\n",
       "    </tr>\n",
       "  </tbody>\n",
       "</table>\n",
       "</div>"
      ],
      "text/plain": [
       "   index  author           a_name\n",
       "0      0       0  H. Vincent Poor\n",
       "1   1095       1         Wei Wang\n",
       "2   2136       2        Yan Zhang\n",
       "3   3119       3          Wei Liu\n",
       "4   4076       4          Wen Gao"
      ]
     },
     "execution_count": 15,
     "metadata": {},
     "output_type": "execute_result"
    }
   ],
   "source": [
    "all_names = a_names[['author','a_name']].drop_duplicates().reset_index()\n",
    "all_names.head()"
   ]
  },
  {
   "cell_type": "markdown",
   "metadata": {},
   "source": [
    "###### Writing all_names.csv"
   ]
  },
  {
   "cell_type": "code",
   "execution_count": 34,
   "metadata": {
    "collapsed": false
   },
   "outputs": [],
   "source": [
    "all_names[['author','a_name']].to_csv(mypath + 'all_names.csv', index=False)"
   ]
  },
  {
   "cell_type": "code",
   "execution_count": 38,
   "metadata": {
    "collapsed": false
   },
   "outputs": [
    {
     "data": {
      "text/html": [
       "<div style=\"max-height:1000px;max-width:1500px;overflow:auto;\">\n",
       "<table border=\"1\" class=\"dataframe\">\n",
       "  <thead>\n",
       "    <tr style=\"text-align: right;\">\n",
       "      <th></th>\n",
       "      <th>author</th>\n",
       "      <th>a_name</th>\n",
       "    </tr>\n",
       "  </thead>\n",
       "  <tbody>\n",
       "  </tbody>\n",
       "</table>\n",
       "</div>"
      ],
      "text/plain": [
       "Empty DataFrame\n",
       "Columns: [author, a_name]\n",
       "Index: []"
      ]
     },
     "execution_count": 38,
     "metadata": {},
     "output_type": "execute_result"
    }
   ],
   "source": [
    "# All the indexes are also the author identifier\n",
    "all_names[all_names['author'] != all_names.index]"
   ]
  },
  {
   "cell_type": "code",
   "execution_count": 2,
   "metadata": {
    "collapsed": false
   },
   "outputs": [
    {
     "name": "stdout",
     "output_type": "stream",
     "text": [
      "H. Vincent Poor\n"
     ]
    }
   ],
   "source": [
    "all_names = pd.read_csv(mypath + \"all_names.csv\")\n",
    "author_id = 0\n",
    "print all_names.ix[author_id]['a_name']"
   ]
  },
  {
   "cell_type": "code",
   "execution_count": 3,
   "metadata": {
    "collapsed": false
   },
   "outputs": [
    {
     "data": {
      "text/html": [
       "<div style=\"max-height:1000px;max-width:1500px;overflow:auto;\">\n",
       "<table border=\"1\" class=\"dataframe\">\n",
       "  <thead>\n",
       "    <tr style=\"text-align: right;\">\n",
       "      <th></th>\n",
       "      <th>paper</th>\n",
       "      <th>conf</th>\n",
       "      <th>year</th>\n",
       "      <th>x</th>\n",
       "    </tr>\n",
       "  </thead>\n",
       "  <tbody>\n",
       "    <tr>\n",
       "      <th>0</th>\n",
       "      <td> 1304</td>\n",
       "      <td>  conf/sigir/GengLWWS11</td>\n",
       "      <td> 2011</td>\n",
       "      <td> 247</td>\n",
       "    </tr>\n",
       "    <tr>\n",
       "      <th>1</th>\n",
       "      <td> 2415</td>\n",
       "      <td> journals/sigir/Zhang10</td>\n",
       "      <td> 2010</td>\n",
       "      <td> 624</td>\n",
       "    </tr>\n",
       "    <tr>\n",
       "      <th>2</th>\n",
       "      <td> 2665</td>\n",
       "      <td>  conf/sigir/YanWOKLZ11</td>\n",
       "      <td> 2011</td>\n",
       "      <td> 247</td>\n",
       "    </tr>\n",
       "    <tr>\n",
       "      <th>3</th>\n",
       "      <td> 3705</td>\n",
       "      <td>  conf/sigir/XuBCCHLL11</td>\n",
       "      <td> 2011</td>\n",
       "      <td> 247</td>\n",
       "    </tr>\n",
       "    <tr>\n",
       "      <th>4</th>\n",
       "      <td> 3724</td>\n",
       "      <td>  conf/sigir/MaLWSBWW14</td>\n",
       "      <td> 2014</td>\n",
       "      <td> 247</td>\n",
       "    </tr>\n",
       "  </tbody>\n",
       "</table>\n",
       "</div>"
      ],
      "text/plain": [
       "   paper                    conf  year    x\n",
       "0   1304   conf/sigir/GengLWWS11  2011  247\n",
       "1   2415  journals/sigir/Zhang10  2010  624\n",
       "2   2665   conf/sigir/YanWOKLZ11  2011  247\n",
       "3   3705   conf/sigir/XuBCCHLL11  2011  247\n",
       "4   3724   conf/sigir/MaLWSBWW14  2014  247"
      ]
     },
     "execution_count": 3,
     "metadata": {},
     "output_type": "execute_result"
    }
   ],
   "source": [
    "p_sigir = pd.read_csv(mypath + \"papers.csv.sigir.new\", header=None, names=['paper','conf', 'year', 'x'], sep='\\t')#, nrows=17220)\n",
    "p_sigir.head()"
   ]
  },
  {
   "cell_type": "code",
   "execution_count": 6,
   "metadata": {
    "collapsed": false
   },
   "outputs": [
    {
     "data": {
      "text/html": [
       "<div style=\"max-height:1000px;max-width:1500px;overflow:auto;\">\n",
       "<table border=\"1\" class=\"dataframe\">\n",
       "  <thead>\n",
       "    <tr style=\"text-align: right;\">\n",
       "      <th></th>\n",
       "      <th>paper</th>\n",
       "      <th>conf</th>\n",
       "      <th>year</th>\n",
       "      <th>x</th>\n",
       "      <th>author</th>\n",
       "      <th>a_name</th>\n",
       "    </tr>\n",
       "  </thead>\n",
       "  <tbody>\n",
       "    <tr>\n",
       "      <th>0</th>\n",
       "      <td> 1304</td>\n",
       "      <td> conf/sigir/GengLWWS11</td>\n",
       "      <td> 2011</td>\n",
       "      <td> 247</td>\n",
       "      <td>      1</td>\n",
       "      <td>       Wei Wang</td>\n",
       "    </tr>\n",
       "    <tr>\n",
       "      <th>1</th>\n",
       "      <td> 1304</td>\n",
       "      <td> conf/sigir/GengLWWS11</td>\n",
       "      <td> 2011</td>\n",
       "      <td> 247</td>\n",
       "      <td>   1190</td>\n",
       "      <td>    Xiaodong Li</td>\n",
       "    </tr>\n",
       "    <tr>\n",
       "      <th>2</th>\n",
       "      <td> 1304</td>\n",
       "      <td> conf/sigir/GengLWWS11</td>\n",
       "      <td> 2011</td>\n",
       "      <td> 247</td>\n",
       "      <td>  64130</td>\n",
       "      <td> Guanggang Geng</td>\n",
       "    </tr>\n",
       "    <tr>\n",
       "      <th>3</th>\n",
       "      <td> 1304</td>\n",
       "      <td> conf/sigir/GengLWWS11</td>\n",
       "      <td> 2011</td>\n",
       "      <td> 247</td>\n",
       "      <td> 187812</td>\n",
       "      <td>   Li-Ming Wang</td>\n",
       "    </tr>\n",
       "    <tr>\n",
       "      <th>4</th>\n",
       "      <td> 1304</td>\n",
       "      <td> conf/sigir/GengLWWS11</td>\n",
       "      <td> 2011</td>\n",
       "      <td> 247</td>\n",
       "      <td> 211944</td>\n",
       "      <td>      Shuo Shen</td>\n",
       "    </tr>\n",
       "  </tbody>\n",
       "</table>\n",
       "</div>"
      ],
      "text/plain": [
       "   paper                   conf  year    x  author          a_name\n",
       "0   1304  conf/sigir/GengLWWS11  2011  247       1        Wei Wang\n",
       "1   1304  conf/sigir/GengLWWS11  2011  247    1190     Xiaodong Li\n",
       "2   1304  conf/sigir/GengLWWS11  2011  247   64130  Guanggang Geng\n",
       "3   1304  conf/sigir/GengLWWS11  2011  247  187812    Li-Ming Wang\n",
       "4   1304  conf/sigir/GengLWWS11  2011  247  211944       Shuo Shen"
      ]
     },
     "execution_count": 6,
     "metadata": {},
     "output_type": "execute_result"
    }
   ],
   "source": [
    "a_sigir = pd.merge(p_sigir, a_p, how='left', on='paper').merge(all_names, on='author', how='left')\n",
    "a_sigir.head()"
   ]
  },
  {
   "cell_type": "code",
   "execution_count": 7,
   "metadata": {
    "collapsed": false
   },
   "outputs": [
    {
     "data": {
      "text/html": [
       "<div style=\"max-height:1000px;max-width:1500px;overflow:auto;\">\n",
       "<table border=\"1\" class=\"dataframe\">\n",
       "  <thead>\n",
       "    <tr style=\"text-align: right;\">\n",
       "      <th></th>\n",
       "      <th>paper</th>\n",
       "      <th>conf</th>\n",
       "      <th>year</th>\n",
       "      <th>x</th>\n",
       "      <th>author</th>\n",
       "      <th>a_name</th>\n",
       "    </tr>\n",
       "  </thead>\n",
       "  <tbody>\n",
       "    <tr>\n",
       "      <th>5035</th>\n",
       "      <td>  336214</td>\n",
       "      <td>       conf/sigir/PossasZMR02</td>\n",
       "      <td> 2002</td>\n",
       "      <td> 247</td>\n",
       "      <td> 10899</td>\n",
       "      <td> Berthier A. Ribeiro-Neto</td>\n",
       "    </tr>\n",
       "    <tr>\n",
       "      <th>5036</th>\n",
       "      <td>  336317</td>\n",
       "      <td>    conf/sigir/SaraivaMFMRZ01</td>\n",
       "      <td> 2001</td>\n",
       "      <td> 247</td>\n",
       "      <td> 10899</td>\n",
       "      <td> Berthier A. Ribeiro-Neto</td>\n",
       "    </tr>\n",
       "    <tr>\n",
       "      <th>5037</th>\n",
       "      <td>  365187</td>\n",
       "      <td>    conf/sigir/LacerdaCGFZR06</td>\n",
       "      <td> 2006</td>\n",
       "      <td> 247</td>\n",
       "      <td> 10899</td>\n",
       "      <td> Berthier A. Ribeiro-Neto</td>\n",
       "    </tr>\n",
       "    <tr>\n",
       "      <th>5038</th>\n",
       "      <td>  638767</td>\n",
       "      <td>        conf/sigir/RibeiroM96</td>\n",
       "      <td> 1996</td>\n",
       "      <td> 247</td>\n",
       "      <td> 10899</td>\n",
       "      <td> Berthier A. Ribeiro-Neto</td>\n",
       "    </tr>\n",
       "    <tr>\n",
       "      <th>5039</th>\n",
       "      <td>  900444</td>\n",
       "      <td>   conf/sigir/FernandesMSRA11</td>\n",
       "      <td> 2011</td>\n",
       "      <td> 247</td>\n",
       "      <td> 10899</td>\n",
       "      <td> Berthier A. Ribeiro-Neto</td>\n",
       "    </tr>\n",
       "    <tr>\n",
       "      <th>5040</th>\n",
       "      <td>  953989</td>\n",
       "      <td>       conf/sigir/BadueBGRZ05</td>\n",
       "      <td> 2005</td>\n",
       "      <td> 247</td>\n",
       "      <td> 10899</td>\n",
       "      <td> Berthier A. Ribeiro-Neto</td>\n",
       "    </tr>\n",
       "    <tr>\n",
       "      <th>5041</th>\n",
       "      <td>  953992</td>\n",
       "      <td> conf/sigir/Ribeiro-NetoMNZ99</td>\n",
       "      <td> 1999</td>\n",
       "      <td> 247</td>\n",
       "      <td> 10899</td>\n",
       "      <td> Berthier A. Ribeiro-Neto</td>\n",
       "    </tr>\n",
       "    <tr>\n",
       "      <th>5042</th>\n",
       "      <td>  954000</td>\n",
       "      <td>       conf/sigir/SilvaRCMZ00</td>\n",
       "      <td> 2000</td>\n",
       "      <td> 247</td>\n",
       "      <td> 10899</td>\n",
       "      <td> Berthier A. Ribeiro-Neto</td>\n",
       "    </tr>\n",
       "    <tr>\n",
       "      <th>5043</th>\n",
       "      <td> 1127013</td>\n",
       "      <td> conf/sigir/Ribeiro-NetoCGM05</td>\n",
       "      <td> 2005</td>\n",
       "      <td> 247</td>\n",
       "      <td> 10899</td>\n",
       "      <td> Berthier A. Ribeiro-Neto</td>\n",
       "    </tr>\n",
       "  </tbody>\n",
       "</table>\n",
       "</div>"
      ],
      "text/plain": [
       "        paper                          conf  year    x  author  \\\n",
       "5035   336214        conf/sigir/PossasZMR02  2002  247   10899   \n",
       "5036   336317     conf/sigir/SaraivaMFMRZ01  2001  247   10899   \n",
       "5037   365187     conf/sigir/LacerdaCGFZR06  2006  247   10899   \n",
       "5038   638767         conf/sigir/RibeiroM96  1996  247   10899   \n",
       "5039   900444    conf/sigir/FernandesMSRA11  2011  247   10899   \n",
       "5040   953989        conf/sigir/BadueBGRZ05  2005  247   10899   \n",
       "5041   953992  conf/sigir/Ribeiro-NetoMNZ99  1999  247   10899   \n",
       "5042   954000        conf/sigir/SilvaRCMZ00  2000  247   10899   \n",
       "5043  1127013  conf/sigir/Ribeiro-NetoCGM05  2005  247   10899   \n",
       "\n",
       "                        a_name  \n",
       "5035  Berthier A. Ribeiro-Neto  \n",
       "5036  Berthier A. Ribeiro-Neto  \n",
       "5037  Berthier A. Ribeiro-Neto  \n",
       "5038  Berthier A. Ribeiro-Neto  \n",
       "5039  Berthier A. Ribeiro-Neto  \n",
       "5040  Berthier A. Ribeiro-Neto  \n",
       "5041  Berthier A. Ribeiro-Neto  \n",
       "5042  Berthier A. Ribeiro-Neto  \n",
       "5043  Berthier A. Ribeiro-Neto  "
      ]
     },
     "execution_count": 7,
     "metadata": {},
     "output_type": "execute_result"
    }
   ],
   "source": [
    "a_sigir[a_sigir['a_name'].str.contains('Berthier A. Ribeiro-Neto')]"
   ]
  },
  {
   "cell_type": "code",
   "execution_count": 9,
   "metadata": {
    "collapsed": false
   },
   "outputs": [
    {
     "data": {
      "text/html": [
       "<div style=\"max-height:1000px;max-width:1500px;overflow:auto;\">\n",
       "<table border=\"1\" class=\"dataframe\">\n",
       "  <thead>\n",
       "    <tr style=\"text-align: right;\">\n",
       "      <th></th>\n",
       "      <th>index</th>\n",
       "      <th>author</th>\n",
       "      <th>a_name</th>\n",
       "      <th>score</th>\n",
       "    </tr>\n",
       "  </thead>\n",
       "  <tbody>\n",
       "    <tr>\n",
       "      <th>0</th>\n",
       "      <td> 0</td>\n",
       "      <td>      1</td>\n",
       "      <td>       Wei Wang</td>\n",
       "      <td> 1</td>\n",
       "    </tr>\n",
       "    <tr>\n",
       "      <th>1</th>\n",
       "      <td> 1</td>\n",
       "      <td>   1190</td>\n",
       "      <td>    Xiaodong Li</td>\n",
       "      <td> 1</td>\n",
       "    </tr>\n",
       "    <tr>\n",
       "      <th>2</th>\n",
       "      <td> 2</td>\n",
       "      <td>  64130</td>\n",
       "      <td> Guanggang Geng</td>\n",
       "      <td> 1</td>\n",
       "    </tr>\n",
       "    <tr>\n",
       "      <th>3</th>\n",
       "      <td> 3</td>\n",
       "      <td> 187812</td>\n",
       "      <td>   Li-Ming Wang</td>\n",
       "      <td> 1</td>\n",
       "    </tr>\n",
       "    <tr>\n",
       "      <th>4</th>\n",
       "      <td> 4</td>\n",
       "      <td> 211944</td>\n",
       "      <td>      Shuo Shen</td>\n",
       "      <td> 1</td>\n",
       "    </tr>\n",
       "  </tbody>\n",
       "</table>\n",
       "</div>"
      ],
      "text/plain": [
       "   index  author          a_name  score\n",
       "0      0       1        Wei Wang      1\n",
       "1      1    1190     Xiaodong Li      1\n",
       "2      2   64130  Guanggang Geng      1\n",
       "3      3  187812    Li-Ming Wang      1\n",
       "4      4  211944       Shuo Shen      1"
      ]
     },
     "execution_count": 9,
     "metadata": {},
     "output_type": "execute_result"
    }
   ],
   "source": [
    "a_sigir_unique = a_sigir[['author','a_name']].drop_duplicates().reset_index()\n",
    "a_sigir_unique['score'] = 1 # len(a_sigir[a_sigir['author'] == a_sigir_unique['author']])\n",
    "a_sigir_unique[['author','a_name', 'score']].to_csv(mypath + 'a_sigir_unique.csv', index=False)\n",
    "a_sigir_unique.head()"
   ]
  },
  {
   "cell_type": "code",
   "execution_count": 11,
   "metadata": {
    "collapsed": false
   },
   "outputs": [
    {
     "name": "stdout",
     "output_type": "stream",
     "text": [
      "11561 5040\n"
     ]
    }
   ],
   "source": [
    "print len(a_sigir), len(a_sigir_unique)"
   ]
  },
  {
   "cell_type": "code",
   "execution_count": 14,
   "metadata": {
    "collapsed": false
   },
   "outputs": [
    {
     "data": {
      "text/plain": [
       "False"
      ]
     },
     "execution_count": 14,
     "metadata": {},
     "output_type": "execute_result"
    }
   ],
   "source": [
    "list_a_sigir = a_sigir_unique['author'].tolist()\n",
    "-10899 in list_a_sigir"
   ]
  },
  {
   "cell_type": "markdown",
   "metadata": {},
   "source": [
    "###### AFTER MCL Operations"
   ]
  },
  {
   "cell_type": "code",
   "execution_count": 15,
   "metadata": {
    "collapsed": false
   },
   "outputs": [],
   "source": [
    "# example: time mcl coauthors.csv.unique.10k --abc -o out.mcl -te 4 -scheme 6\n",
    "with open(mypath + 'out.mcl.all', 'r') as f, open(mypath + 'clusters-authors-all-sigir-mark.csv', 'w') as clusters:       \n",
    "    k = 1\n",
    "    for line in f:\n",
    "        clusters.write(\"Cluster #\" + str(k) + \",\")\n",
    "        for author_id in line.split():\n",
    "            # if (k < 2): print author_id, all_names.ix[int(author_id)]['a_name'] #Cluster #1\n",
    "            \n",
    "            sigir_mark = ''             \n",
    "            if int(author_id) in list_a_sigir: \n",
    "                sigir_mark = '*'            \n",
    "            \n",
    "            clusters.write(\"[\" + all_names.ix[int(author_id)]['a_name'] \n",
    "                           + sigir_mark\n",
    "                           + \"],\")\n",
    "        clusters.write('\\n')\n",
    "        k += 1\n",
    " \n",
    "# To count the '*'s per line:\n",
    "# grep '*' clusters-authors-all-sigir-mark.csv -on | cut -d : -f 1 | uniq -c | sort -rn | head\n",
    "\n",
    "# Top clusters\n",
    "# grep '*' clusters-authors-all-sigir-mark.csv -on | cut -d : -f 1 | uniq -c | sort -rn | awk '{print $2}' | head -n 20 > sigir-top-clusters-only.txt \n",
    "\n",
    "# Print top cluster lines \n",
    "# sed -n '705p;4137p;157p;659p;3580p;491p;863p;680p;4361p;724p;2650p' clusters-authors-all-sigir-mark.csv > top-sigir-clusters.txt\n",
    "\n",
    "\n",
    " "
   ]
  },
  {
   "cell_type": "code",
   "execution_count": null,
   "metadata": {
    "collapsed": true
   },
   "outputs": [],
   "source": []
  }
 ],
 "metadata": {
  "kernelspec": {
   "display_name": "Python 3",
   "language": "python",
   "name": "python3"
  },
  "language_info": {
   "codemirror_mode": {
    "name": "ipython",
    "version": 3
   },
   "file_extension": ".py",
   "mimetype": "text/x-python",
   "name": "python",
   "nbconvert_exporter": "python",
   "pygments_lexer": "ipython3",
   "version": "3.5.1"
  }
 },
 "nbformat": 4,
 "nbformat_minor": 0
}
